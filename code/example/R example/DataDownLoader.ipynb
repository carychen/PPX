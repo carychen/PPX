{
 "cells": [
  {
   "cell_type": "code",
   "execution_count": 1,
   "metadata": {
    "collapsed": false
   },
   "outputs": [
    {
     "name": "stderr",
     "output_type": "stream",
     "text": [
      "Loading required package: xts\n",
      "Loading required package: zoo\n",
      "\n",
      "Attaching package: 'zoo'\n",
      "\n",
      "The following objects are masked from 'package:base':\n",
      "\n",
      "    as.Date, as.Date.numeric\n",
      "\n",
      "Loading required package: TTR\n",
      "Version 0.4-0 included new data defaults. See ?getSymbols.\n"
     ]
    }
   ],
   "source": [
    "library(\"quantmod\")"
   ]
  },
  {
   "cell_type": "markdown",
   "metadata": {},
   "source": [
    "# Download and Store Data"
   ]
  },
  {
   "cell_type": "code",
   "execution_count": 2,
   "metadata": {
    "collapsed": false
   },
   "outputs": [
    {
     "name": "stdout",
     "output_type": "stream",
     "text": [
      "( 1 / 499 )  Downloading  MMM \t\t Attempt:  1 / 5 \n"
     ]
    },
    {
     "name": "stderr",
     "output_type": "stream",
     "text": [
      "    As of 0.4-0, 'getSymbols' uses env=parent.frame() and\n",
      " auto.assign=TRUE by default.\n",
      "\n",
      " This  behavior  will be  phased out in 0.5-0  when the call  will\n",
      " default to use auto.assign=FALSE. getOption(\"getSymbols.env\") and \n",
      " getOptions(\"getSymbols.auto.assign\") are now checked for alternate defaults\n",
      "\n",
      " This message is shown once per session and may be disabled by setting \n",
      " options(\"getSymbols.warning4.0\"=FALSE). See ?getSymbols for more details.\n"
     ]
    },
    {
     "name": "stdout",
     "output_type": "stream",
     "text": [
      "( 2 / 499 )  Downloading  ACE \t\t Attempt:  1 / 5 \n"
     ]
    },
    {
     "name": "stderr",
     "output_type": "stream",
     "text": [
      "Warning message in download.file(paste(yahoo.URL, \"s=\", Symbols.name, \"&a=\", from.m, :\n",
      "\"cannot open URL 'http://ichart.finance.yahoo.com/table.csv?s=ACE&a=0&b=13&c=2005&d=1&e=21&f=2017&g=d&q=q&y=0&z=ACE&x=.csv': HTTP status was '404 Not Found'\""
     ]
    },
    {
     "name": "stdout",
     "output_type": "stream",
     "text": [
      "<simpleError in download.file(paste(yahoo.URL, \"s=\", Symbols.name, \"&a=\", from.m,     \"&b=\", sprintf(\"%.2d\", from.d), \"&c=\", from.y, \"&d=\", to.m,     \"&e=\", sprintf(\"%.2d\", to.d), \"&f=\", to.y, \"&g=d&q=q&y=0\",     \"&z=\", Symbols.name, \"&x=.csv\", sep = \"\"), destfile = tmp,     quiet = !verbose): cannot open URL 'http://ichart.finance.yahoo.com/table.csv?s=ACE&a=0&b=13&c=2005&d=1&e=21&f=2017&g=d&q=q&y=0&z=ACE&x=.csv'>\n",
      "( 2 / 499 )  Downloading  ACE \t\t Attempt:  2 / 5 \n"
     ]
    },
    {
     "name": "stderr",
     "output_type": "stream",
     "text": [
      "Warning message in download.file(paste(yahoo.URL, \"s=\", Symbols.name, \"&a=\", from.m, :\n",
      "\"cannot open URL 'http://ichart.finance.yahoo.com/table.csv?s=ACE&a=0&b=13&c=2005&d=1&e=21&f=2017&g=d&q=q&y=0&z=ACE&x=.csv': HTTP status was '404 Not Found'\""
     ]
    },
    {
     "name": "stdout",
     "output_type": "stream",
     "text": [
      "<simpleError in download.file(paste(yahoo.URL, \"s=\", Symbols.name, \"&a=\", from.m,     \"&b=\", sprintf(\"%.2d\", from.d), \"&c=\", from.y, \"&d=\", to.m,     \"&e=\", sprintf(\"%.2d\", to.d), \"&f=\", to.y, \"&g=d&q=q&y=0\",     \"&z=\", Symbols.name, \"&x=.csv\", sep = \"\"), destfile = tmp,     quiet = !verbose): cannot open URL 'http://ichart.finance.yahoo.com/table.csv?s=ACE&a=0&b=13&c=2005&d=1&e=21&f=2017&g=d&q=q&y=0&z=ACE&x=.csv'>\n",
      "( 2 / 499 )  Downloading  ACE \t\t Attempt:  3 / 5 \n"
     ]
    },
    {
     "name": "stderr",
     "output_type": "stream",
     "text": [
      "Warning message in download.file(paste(yahoo.URL, \"s=\", Symbols.name, \"&a=\", from.m, :\n",
      "\"cannot open URL 'http://ichart.finance.yahoo.com/table.csv?s=ACE&a=0&b=13&c=2005&d=1&e=21&f=2017&g=d&q=q&y=0&z=ACE&x=.csv': HTTP status was '404 Not Found'\""
     ]
    },
    {
     "name": "stdout",
     "output_type": "stream",
     "text": [
      "<simpleError in download.file(paste(yahoo.URL, \"s=\", Symbols.name, \"&a=\", from.m,     \"&b=\", sprintf(\"%.2d\", from.d), \"&c=\", from.y, \"&d=\", to.m,     \"&e=\", sprintf(\"%.2d\", to.d), \"&f=\", to.y, \"&g=d&q=q&y=0\",     \"&z=\", Symbols.name, \"&x=.csv\", sep = \"\"), destfile = tmp,     quiet = !verbose): cannot open URL 'http://ichart.finance.yahoo.com/table.csv?s=ACE&a=0&b=13&c=2005&d=1&e=21&f=2017&g=d&q=q&y=0&z=ACE&x=.csv'>\n",
      "( 2 / 499 )  Downloading  ACE \t\t Attempt:  4 / 5 \n"
     ]
    },
    {
     "name": "stderr",
     "output_type": "stream",
     "text": [
      "Warning message in download.file(paste(yahoo.URL, \"s=\", Symbols.name, \"&a=\", from.m, :\n",
      "\"cannot open URL 'http://ichart.finance.yahoo.com/table.csv?s=ACE&a=0&b=13&c=2005&d=1&e=21&f=2017&g=d&q=q&y=0&z=ACE&x=.csv': HTTP status was '404 Not Found'\""
     ]
    },
    {
     "name": "stdout",
     "output_type": "stream",
     "text": [
      "<simpleError in download.file(paste(yahoo.URL, \"s=\", Symbols.name, \"&a=\", from.m,     \"&b=\", sprintf(\"%.2d\", from.d), \"&c=\", from.y, \"&d=\", to.m,     \"&e=\", sprintf(\"%.2d\", to.d), \"&f=\", to.y, \"&g=d&q=q&y=0\",     \"&z=\", Symbols.name, \"&x=.csv\", sep = \"\"), destfile = tmp,     quiet = !verbose): cannot open URL 'http://ichart.finance.yahoo.com/table.csv?s=ACE&a=0&b=13&c=2005&d=1&e=21&f=2017&g=d&q=q&y=0&z=ACE&x=.csv'>\n",
      "( 2 / 499 )  Downloading  ACE \t\t Attempt:  5 / 5 \n"
     ]
    },
    {
     "name": "stderr",
     "output_type": "stream",
     "text": [
      "Warning message in download.file(paste(yahoo.URL, \"s=\", Symbols.name, \"&a=\", from.m, :\n",
      "\"cannot open URL 'http://ichart.finance.yahoo.com/table.csv?s=ACE&a=0&b=13&c=2005&d=1&e=21&f=2017&g=d&q=q&y=0&z=ACE&x=.csv': HTTP status was '404 Not Found'\""
     ]
    },
    {
     "name": "stdout",
     "output_type": "stream",
     "text": [
      "<simpleError in download.file(paste(yahoo.URL, \"s=\", Symbols.name, \"&a=\", from.m,     \"&b=\", sprintf(\"%.2d\", from.d), \"&c=\", from.y, \"&d=\", to.m,     \"&e=\", sprintf(\"%.2d\", to.d), \"&f=\", to.y, \"&g=d&q=q&y=0\",     \"&z=\", Symbols.name, \"&x=.csv\", sep = \"\"), destfile = tmp,     quiet = !verbose): cannot open URL 'http://ichart.finance.yahoo.com/table.csv?s=ACE&a=0&b=13&c=2005&d=1&e=21&f=2017&g=d&q=q&y=0&z=ACE&x=.csv'>\n",
      "( 3 / 499 )  Downloading  ABT \t\t Attempt:  1 / 5 \n",
      "( 4 / 499 )  Downloading  ANF \t\t Attempt:  1 / 5 \n",
      "( 5 / 499 )  Downloading  ADBE \t\t Attempt:  1 / 5 \n",
      "( 6 / 499 )  Downloading  AMD \t\t Attempt:  1 / 5 \n",
      "( 7 / 499 )  Downloading  AES \t\t Attempt:  1 / 5 \n",
      "( 8 / 499 )  Downloading  AET \t\t Attempt:  1 / 5 \n",
      "( 9 / 499 )  Downloading  AFL \t\t Attempt:  1 / 5 \n",
      "( 10 / 499 )  Downloading  A \t\t Attempt:  1 / 5 \n",
      "( 11 / 499 )  Downloading  APD \t\t Attempt:  1 / 5 \n",
      "( 12 / 499 )  Downloading  ARG \t\t Attempt:  1 / 5 \n",
      "( 13 / 499 )  Downloading  AKS \t\t Attempt:  1 / 5 \n",
      "( 14 / 499 )  Downloading  AKAM \t\t Attempt:  1 / 5 \n",
      "( 15 / 499 )  Downloading  AA \t\t Attempt:  1 / 5 \n",
      "( 16 / 499 )  Downloading  AYE \t\t Attempt:  1 / 5 \n"
     ]
    },
    {
     "name": "stderr",
     "output_type": "stream",
     "text": [
      "Warning message in download.file(paste(yahoo.URL, \"s=\", Symbols.name, \"&a=\", from.m, :\n",
      "\"cannot open URL 'http://ichart.finance.yahoo.com/table.csv?s=AYE&a=0&b=13&c=2005&d=1&e=21&f=2017&g=d&q=q&y=0&z=AYE&x=.csv': HTTP status was '404 Not Found'\""
     ]
    },
    {
     "name": "stdout",
     "output_type": "stream",
     "text": [
      "<simpleError in download.file(paste(yahoo.URL, \"s=\", Symbols.name, \"&a=\", from.m,     \"&b=\", sprintf(\"%.2d\", from.d), \"&c=\", from.y, \"&d=\", to.m,     \"&e=\", sprintf(\"%.2d\", to.d), \"&f=\", to.y, \"&g=d&q=q&y=0\",     \"&z=\", Symbols.name, \"&x=.csv\", sep = \"\"), destfile = tmp,     quiet = !verbose): cannot open URL 'http://ichart.finance.yahoo.com/table.csv?s=AYE&a=0&b=13&c=2005&d=1&e=21&f=2017&g=d&q=q&y=0&z=AYE&x=.csv'>\n",
      "( 16 / 499 )  Downloading  AYE \t\t Attempt:  2 / 5 \n"
     ]
    },
    {
     "name": "stderr",
     "output_type": "stream",
     "text": [
      "Warning message in download.file(paste(yahoo.URL, \"s=\", Symbols.name, \"&a=\", from.m, :\n",
      "\"cannot open URL 'http://ichart.finance.yahoo.com/table.csv?s=AYE&a=0&b=13&c=2005&d=1&e=21&f=2017&g=d&q=q&y=0&z=AYE&x=.csv': HTTP status was '404 Not Found'\""
     ]
    },
    {
     "name": "stdout",
     "output_type": "stream",
     "text": [
      "<simpleError in download.file(paste(yahoo.URL, \"s=\", Symbols.name, \"&a=\", from.m,     \"&b=\", sprintf(\"%.2d\", from.d), \"&c=\", from.y, \"&d=\", to.m,     \"&e=\", sprintf(\"%.2d\", to.d), \"&f=\", to.y, \"&g=d&q=q&y=0\",     \"&z=\", Symbols.name, \"&x=.csv\", sep = \"\"), destfile = tmp,     quiet = !verbose): cannot open URL 'http://ichart.finance.yahoo.com/table.csv?s=AYE&a=0&b=13&c=2005&d=1&e=21&f=2017&g=d&q=q&y=0&z=AYE&x=.csv'>\n",
      "( 16 / 499 )  Downloading  AYE \t\t Attempt:  3 / 5 \n"
     ]
    },
    {
     "name": "stderr",
     "output_type": "stream",
     "text": [
      "Warning message in download.file(paste(yahoo.URL, \"s=\", Symbols.name, \"&a=\", from.m, :\n",
      "\"cannot open URL 'http://ichart.finance.yahoo.com/table.csv?s=AYE&a=0&b=13&c=2005&d=1&e=21&f=2017&g=d&q=q&y=0&z=AYE&x=.csv': HTTP status was '404 Not Found'\""
     ]
    },
    {
     "name": "stdout",
     "output_type": "stream",
     "text": [
      "<simpleError in download.file(paste(yahoo.URL, \"s=\", Symbols.name, \"&a=\", from.m,     \"&b=\", sprintf(\"%.2d\", from.d), \"&c=\", from.y, \"&d=\", to.m,     \"&e=\", sprintf(\"%.2d\", to.d), \"&f=\", to.y, \"&g=d&q=q&y=0\",     \"&z=\", Symbols.name, \"&x=.csv\", sep = \"\"), destfile = tmp,     quiet = !verbose): cannot open URL 'http://ichart.finance.yahoo.com/table.csv?s=AYE&a=0&b=13&c=2005&d=1&e=21&f=2017&g=d&q=q&y=0&z=AYE&x=.csv'>\n",
      "( 16 / 499 )  Downloading  AYE \t\t Attempt:  4 / 5 \n"
     ]
    },
    {
     "name": "stderr",
     "output_type": "stream",
     "text": [
      "Warning message in download.file(paste(yahoo.URL, \"s=\", Symbols.name, \"&a=\", from.m, :\n",
      "\"cannot open URL 'http://ichart.finance.yahoo.com/table.csv?s=AYE&a=0&b=13&c=2005&d=1&e=21&f=2017&g=d&q=q&y=0&z=AYE&x=.csv': HTTP status was '404 Not Found'\""
     ]
    },
    {
     "name": "stdout",
     "output_type": "stream",
     "text": [
      "<simpleError in download.file(paste(yahoo.URL, \"s=\", Symbols.name, \"&a=\", from.m,     \"&b=\", sprintf(\"%.2d\", from.d), \"&c=\", from.y, \"&d=\", to.m,     \"&e=\", sprintf(\"%.2d\", to.d), \"&f=\", to.y, \"&g=d&q=q&y=0\",     \"&z=\", Symbols.name, \"&x=.csv\", sep = \"\"), destfile = tmp,     quiet = !verbose): cannot open URL 'http://ichart.finance.yahoo.com/table.csv?s=AYE&a=0&b=13&c=2005&d=1&e=21&f=2017&g=d&q=q&y=0&z=AYE&x=.csv'>\n",
      "( 16 / 499 )  Downloading  AYE \t\t Attempt:  5 / 5 \n"
     ]
    },
    {
     "name": "stderr",
     "output_type": "stream",
     "text": [
      "Warning message in download.file(paste(yahoo.URL, \"s=\", Symbols.name, \"&a=\", from.m, :\n",
      "\"cannot open URL 'http://ichart.finance.yahoo.com/table.csv?s=AYE&a=0&b=13&c=2005&d=1&e=21&f=2017&g=d&q=q&y=0&z=AYE&x=.csv': HTTP status was '404 Not Found'\""
     ]
    },
    {
     "name": "stdout",
     "output_type": "stream",
     "text": [
      "<simpleError in download.file(paste(yahoo.URL, \"s=\", Symbols.name, \"&a=\", from.m,     \"&b=\", sprintf(\"%.2d\", from.d), \"&c=\", from.y, \"&d=\", to.m,     \"&e=\", sprintf(\"%.2d\", to.d), \"&f=\", to.y, \"&g=d&q=q&y=0\",     \"&z=\", Symbols.name, \"&x=.csv\", sep = \"\"), destfile = tmp,     quiet = !verbose): cannot open URL 'http://ichart.finance.yahoo.com/table.csv?s=AYE&a=0&b=13&c=2005&d=1&e=21&f=2017&g=d&q=q&y=0&z=AYE&x=.csv'>\n",
      "( 17 / 499 )  Downloading  ATI \t\t Attempt:  1 / 5 \n",
      "( 18 / 499 )  Downloading  AGN \t\t Attempt:  1 / 5 \n",
      "( 19 / 499 )  Downloading  ALL \t\t Attempt:  1 / 5 \n",
      "( 20 / 499 )  Downloading  ALTR \t\t Attempt:  1 / 5 \n"
     ]
    },
    {
     "name": "stderr",
     "output_type": "stream",
     "text": [
      "Warning message in download.file(paste(yahoo.URL, \"s=\", Symbols.name, \"&a=\", from.m, :\n",
      "\"cannot open URL 'http://ichart.finance.yahoo.com/table.csv?s=ALTR&a=0&b=13&c=2005&d=1&e=21&f=2017&g=d&q=q&y=0&z=ALTR&x=.csv': HTTP status was '404 Not Found'\""
     ]
    },
    {
     "name": "stdout",
     "output_type": "stream",
     "text": [
      "<simpleError in download.file(paste(yahoo.URL, \"s=\", Symbols.name, \"&a=\", from.m,     \"&b=\", sprintf(\"%.2d\", from.d), \"&c=\", from.y, \"&d=\", to.m,     \"&e=\", sprintf(\"%.2d\", to.d), \"&f=\", to.y, \"&g=d&q=q&y=0\",     \"&z=\", Symbols.name, \"&x=.csv\", sep = \"\"), destfile = tmp,     quiet = !verbose): cannot open URL 'http://ichart.finance.yahoo.com/table.csv?s=ALTR&a=0&b=13&c=2005&d=1&e=21&f=2017&g=d&q=q&y=0&z=ALTR&x=.csv'>\n",
      "( 20 / 499 )  Downloading  ALTR \t\t Attempt:  2 / 5 \n"
     ]
    },
    {
     "name": "stderr",
     "output_type": "stream",
     "text": [
      "Warning message in download.file(paste(yahoo.URL, \"s=\", Symbols.name, \"&a=\", from.m, :\n",
      "\"cannot open URL 'http://ichart.finance.yahoo.com/table.csv?s=ALTR&a=0&b=13&c=2005&d=1&e=21&f=2017&g=d&q=q&y=0&z=ALTR&x=.csv': HTTP status was '404 Not Found'\""
     ]
    },
    {
     "name": "stdout",
     "output_type": "stream",
     "text": [
      "<simpleError in download.file(paste(yahoo.URL, \"s=\", Symbols.name, \"&a=\", from.m,     \"&b=\", sprintf(\"%.2d\", from.d), \"&c=\", from.y, \"&d=\", to.m,     \"&e=\", sprintf(\"%.2d\", to.d), \"&f=\", to.y, \"&g=d&q=q&y=0\",     \"&z=\", Symbols.name, \"&x=.csv\", sep = \"\"), destfile = tmp,     quiet = !verbose): cannot open URL 'http://ichart.finance.yahoo.com/table.csv?s=ALTR&a=0&b=13&c=2005&d=1&e=21&f=2017&g=d&q=q&y=0&z=ALTR&x=.csv'>\n",
      "( 20 / 499 )  Downloading  ALTR \t\t Attempt:  3 / 5 \n"
     ]
    },
    {
     "name": "stderr",
     "output_type": "stream",
     "text": [
      "Warning message in download.file(paste(yahoo.URL, \"s=\", Symbols.name, \"&a=\", from.m, :\n",
      "\"cannot open URL 'http://ichart.finance.yahoo.com/table.csv?s=ALTR&a=0&b=13&c=2005&d=1&e=21&f=2017&g=d&q=q&y=0&z=ALTR&x=.csv': HTTP status was '404 Not Found'\""
     ]
    },
    {
     "name": "stdout",
     "output_type": "stream",
     "text": [
      "<simpleError in download.file(paste(yahoo.URL, \"s=\", Symbols.name, \"&a=\", from.m,     \"&b=\", sprintf(\"%.2d\", from.d), \"&c=\", from.y, \"&d=\", to.m,     \"&e=\", sprintf(\"%.2d\", to.d), \"&f=\", to.y, \"&g=d&q=q&y=0\",     \"&z=\", Symbols.name, \"&x=.csv\", sep = \"\"), destfile = tmp,     quiet = !verbose): cannot open URL 'http://ichart.finance.yahoo.com/table.csv?s=ALTR&a=0&b=13&c=2005&d=1&e=21&f=2017&g=d&q=q&y=0&z=ALTR&x=.csv'>\n",
      "( 20 / 499 )  Downloading  ALTR \t\t Attempt:  4 / 5 \n"
     ]
    },
    {
     "name": "stderr",
     "output_type": "stream",
     "text": [
      "Warning message in download.file(paste(yahoo.URL, \"s=\", Symbols.name, \"&a=\", from.m, :\n",
      "\"cannot open URL 'http://ichart.finance.yahoo.com/table.csv?s=ALTR&a=0&b=13&c=2005&d=1&e=21&f=2017&g=d&q=q&y=0&z=ALTR&x=.csv': HTTP status was '404 Not Found'\""
     ]
    },
    {
     "name": "stdout",
     "output_type": "stream",
     "text": [
      "<simpleError in download.file(paste(yahoo.URL, \"s=\", Symbols.name, \"&a=\", from.m,     \"&b=\", sprintf(\"%.2d\", from.d), \"&c=\", from.y, \"&d=\", to.m,     \"&e=\", sprintf(\"%.2d\", to.d), \"&f=\", to.y, \"&g=d&q=q&y=0\",     \"&z=\", Symbols.name, \"&x=.csv\", sep = \"\"), destfile = tmp,     quiet = !verbose): cannot open URL 'http://ichart.finance.yahoo.com/table.csv?s=ALTR&a=0&b=13&c=2005&d=1&e=21&f=2017&g=d&q=q&y=0&z=ALTR&x=.csv'>\n",
      "( 20 / 499 )  Downloading  ALTR \t\t Attempt:  5 / 5 \n"
     ]
    },
    {
     "name": "stderr",
     "output_type": "stream",
     "text": [
      "Warning message in download.file(paste(yahoo.URL, \"s=\", Symbols.name, \"&a=\", from.m, :\n",
      "\"cannot open URL 'http://ichart.finance.yahoo.com/table.csv?s=ALTR&a=0&b=13&c=2005&d=1&e=21&f=2017&g=d&q=q&y=0&z=ALTR&x=.csv': HTTP status was '404 Not Found'\""
     ]
    },
    {
     "name": "stdout",
     "output_type": "stream",
     "text": [
      "<simpleError in download.file(paste(yahoo.URL, \"s=\", Symbols.name, \"&a=\", from.m,     \"&b=\", sprintf(\"%.2d\", from.d), \"&c=\", from.y, \"&d=\", to.m,     \"&e=\", sprintf(\"%.2d\", to.d), \"&f=\", to.y, \"&g=d&q=q&y=0\",     \"&z=\", Symbols.name, \"&x=.csv\", sep = \"\"), destfile = tmp,     quiet = !verbose): cannot open URL 'http://ichart.finance.yahoo.com/table.csv?s=ALTR&a=0&b=13&c=2005&d=1&e=21&f=2017&g=d&q=q&y=0&z=ALTR&x=.csv'>\n",
      "( 21 / 499 )  Downloading  MO \t\t Attempt:  1 / 5 \n",
      "( 22 / 499 )  Downloading  AMZN \t\t Attempt:  1 / 5 \n",
      "( 23 / 499 )  Downloading  AEE \t\t Attempt:  1 / 5 \n",
      "( 24 / 499 )  Downloading  AEP \t\t Attempt:  1 / 5 \n",
      "( 25 / 499 )  Downloading  AXP \t\t Attempt:  1 / 5 \n",
      "( 26 / 499 )  Downloading  AIG \t\t Attempt:  1 / 5 \n",
      "( 27 / 499 )  Downloading  AMT \t\t Attempt:  1 / 5 \n",
      "( 28 / 499 )  Downloading  AMP \t\t Attempt:  1 / 5 \n",
      "( 29 / 499 )  Downloading  ABC \t\t Attempt:  1 / 5 \n",
      "( 30 / 499 )  Downloading  AMGN \t\t Attempt:  1 / 5 \n",
      "( 31 / 499 )  Downloading  APH \t\t Attempt:  1 / 5 \n",
      "( 32 / 499 )  Downloading  APC \t\t Attempt:  1 / 5 \n",
      "( 33 / 499 )  Downloading  ADI \t\t Attempt:  1 / 5 \n",
      "( 34 / 499 )  Downloading  AON \t\t Attempt:  1 / 5 \n",
      "( 35 / 499 )  Downloading  APA \t\t Attempt:  1 / 5 \n",
      "( 36 / 499 )  Downloading  AIV \t\t Attempt:  1 / 5 \n",
      "( 37 / 499 )  Downloading  APOL \t\t Attempt:  1 / 5 \n",
      "( 38 / 499 )  Downloading  AAPL \t\t Attempt:  1 / 5 \n",
      "( 39 / 499 )  Downloading  AMAT \t\t Attempt:  1 / 5 \n",
      "( 40 / 499 )  Downloading  ADM \t\t Attempt:  1 / 5 \n",
      "( 41 / 499 )  Downloading  AIZ \t\t Attempt:  1 / 5 \n",
      "( 42 / 499 )  Downloading  T \t\t Attempt:  1 / 5 \n",
      "( 43 / 499 )  Downloading  ADSK \t\t Attempt:  1 / 5 \n",
      "( 44 / 499 )  Downloading  ADP \t\t Attempt:  1 / 5 \n",
      "( 45 / 499 )  Downloading  AN \t\t Attempt:  1 / 5 \n",
      "( 46 / 499 )  Downloading  AZO \t\t Attempt:  1 / 5 \n",
      "( 47 / 499 )  Downloading  AVB \t\t Attempt:  1 / 5 \n",
      "( 48 / 499 )  Downloading  AVY \t\t Attempt:  1 / 5 \n",
      "( 49 / 499 )  Downloading  AVP \t\t Attempt:  1 / 5 \n",
      "( 50 / 499 )  Downloading  BHI \t\t Attempt:  1 / 5 \n",
      "( 51 / 499 )  Downloading  BLL \t\t Attempt:  1 / 5 \n",
      "( 52 / 499 )  Downloading  BAC \t\t Attempt:  1 / 5 \n",
      "( 53 / 499 )  Downloading  BK \t\t Attempt:  1 / 5 \n",
      "( 54 / 499 )  Downloading  BCR \t\t Attempt:  1 / 5 \n",
      "( 55 / 499 )  Downloading  BAX \t\t Attempt:  1 / 5 \n",
      "( 56 / 499 )  Downloading  BBT \t\t Attempt:  1 / 5 \n",
      "( 57 / 499 )  Downloading  BDX \t\t Attempt:  1 / 5 \n",
      "( 58 / 499 )  Downloading  BBBY \t\t Attempt:  1 / 5 \n",
      "( 59 / 499 )  Downloading  BMS \t\t Attempt:  1 / 5 \n",
      "<simpleError in eval(expr, envir, enclos): object 'B' not found>\n",
      "<simpleError in eval(expr, envir, enclos): object 'B' not found>\n",
      "<simpleError in eval(expr, envir, enclos): object 'B' not found>\n",
      "<simpleError in eval(expr, envir, enclos): object 'B' not found>\n",
      "<simpleError in eval(expr, envir, enclos): object 'B' not found>\n",
      "( 61 / 499 )  Downloading  BBY \t\t Attempt:  1 / 5 \n",
      "( 62 / 499 )  Downloading  BIG \t\t Attempt:  1 / 5 \n",
      "( 63 / 499 )  Downloading  BIIB \t\t Attempt:  1 / 5 \n",
      "( 64 / 499 )  Downloading  HRB \t\t Attempt:  1 / 5 \n",
      "( 65 / 499 )  Downloading  BMC \t\t Attempt:  1 / 5 \n",
      "( 66 / 499 )  Downloading  BA \t\t Attempt:  1 / 5 \n",
      "( 67 / 499 )  Downloading  BXP \t\t Attempt:  1 / 5 \n",
      "( 68 / 499 )  Downloading  BSX \t\t Attempt:  1 / 5 \n",
      "( 69 / 499 )  Downloading  BMY \t\t Attempt:  1 / 5 \n",
      "( 70 / 499 )  Downloading  BRCM \t\t Attempt:  1 / 5 \n"
     ]
    },
    {
     "name": "stderr",
     "output_type": "stream",
     "text": [
      "Warning message in download.file(paste(yahoo.URL, \"s=\", Symbols.name, \"&a=\", from.m, :\n",
      "\"cannot open URL 'http://ichart.finance.yahoo.com/table.csv?s=BRCM&a=0&b=13&c=2005&d=1&e=21&f=2017&g=d&q=q&y=0&z=BRCM&x=.csv': HTTP status was '404 Not Found'\""
     ]
    },
    {
     "name": "stdout",
     "output_type": "stream",
     "text": [
      "<simpleError in download.file(paste(yahoo.URL, \"s=\", Symbols.name, \"&a=\", from.m,     \"&b=\", sprintf(\"%.2d\", from.d), \"&c=\", from.y, \"&d=\", to.m,     \"&e=\", sprintf(\"%.2d\", to.d), \"&f=\", to.y, \"&g=d&q=q&y=0\",     \"&z=\", Symbols.name, \"&x=.csv\", sep = \"\"), destfile = tmp,     quiet = !verbose): cannot open URL 'http://ichart.finance.yahoo.com/table.csv?s=BRCM&a=0&b=13&c=2005&d=1&e=21&f=2017&g=d&q=q&y=0&z=BRCM&x=.csv'>\n",
      "( 70 / 499 )  Downloading  BRCM \t\t Attempt:  2 / 5 \n"
     ]
    },
    {
     "name": "stderr",
     "output_type": "stream",
     "text": [
      "Warning message in download.file(paste(yahoo.URL, \"s=\", Symbols.name, \"&a=\", from.m, :\n",
      "\"cannot open URL 'http://ichart.finance.yahoo.com/table.csv?s=BRCM&a=0&b=13&c=2005&d=1&e=21&f=2017&g=d&q=q&y=0&z=BRCM&x=.csv': HTTP status was '404 Not Found'\""
     ]
    },
    {
     "name": "stdout",
     "output_type": "stream",
     "text": [
      "<simpleError in download.file(paste(yahoo.URL, \"s=\", Symbols.name, \"&a=\", from.m,     \"&b=\", sprintf(\"%.2d\", from.d), \"&c=\", from.y, \"&d=\", to.m,     \"&e=\", sprintf(\"%.2d\", to.d), \"&f=\", to.y, \"&g=d&q=q&y=0\",     \"&z=\", Symbols.name, \"&x=.csv\", sep = \"\"), destfile = tmp,     quiet = !verbose): cannot open URL 'http://ichart.finance.yahoo.com/table.csv?s=BRCM&a=0&b=13&c=2005&d=1&e=21&f=2017&g=d&q=q&y=0&z=BRCM&x=.csv'>\n",
      "( 70 / 499 )  Downloading  BRCM \t\t Attempt:  3 / 5 \n"
     ]
    },
    {
     "name": "stderr",
     "output_type": "stream",
     "text": [
      "Warning message in download.file(paste(yahoo.URL, \"s=\", Symbols.name, \"&a=\", from.m, :\n",
      "\"cannot open URL 'http://ichart.finance.yahoo.com/table.csv?s=BRCM&a=0&b=13&c=2005&d=1&e=21&f=2017&g=d&q=q&y=0&z=BRCM&x=.csv': HTTP status was '404 Not Found'\""
     ]
    },
    {
     "name": "stdout",
     "output_type": "stream",
     "text": [
      "<simpleError in download.file(paste(yahoo.URL, \"s=\", Symbols.name, \"&a=\", from.m,     \"&b=\", sprintf(\"%.2d\", from.d), \"&c=\", from.y, \"&d=\", to.m,     \"&e=\", sprintf(\"%.2d\", to.d), \"&f=\", to.y, \"&g=d&q=q&y=0\",     \"&z=\", Symbols.name, \"&x=.csv\", sep = \"\"), destfile = tmp,     quiet = !verbose): cannot open URL 'http://ichart.finance.yahoo.com/table.csv?s=BRCM&a=0&b=13&c=2005&d=1&e=21&f=2017&g=d&q=q&y=0&z=BRCM&x=.csv'>\n",
      "( 70 / 499 )  Downloading  BRCM \t\t Attempt:  4 / 5 \n"
     ]
    },
    {
     "name": "stderr",
     "output_type": "stream",
     "text": [
      "Warning message in download.file(paste(yahoo.URL, \"s=\", Symbols.name, \"&a=\", from.m, :\n",
      "\"cannot open URL 'http://ichart.finance.yahoo.com/table.csv?s=BRCM&a=0&b=13&c=2005&d=1&e=21&f=2017&g=d&q=q&y=0&z=BRCM&x=.csv': HTTP status was '404 Not Found'\""
     ]
    },
    {
     "name": "stdout",
     "output_type": "stream",
     "text": [
      "<simpleError in download.file(paste(yahoo.URL, \"s=\", Symbols.name, \"&a=\", from.m,     \"&b=\", sprintf(\"%.2d\", from.d), \"&c=\", from.y, \"&d=\", to.m,     \"&e=\", sprintf(\"%.2d\", to.d), \"&f=\", to.y, \"&g=d&q=q&y=0\",     \"&z=\", Symbols.name, \"&x=.csv\", sep = \"\"), destfile = tmp,     quiet = !verbose): cannot open URL 'http://ichart.finance.yahoo.com/table.csv?s=BRCM&a=0&b=13&c=2005&d=1&e=21&f=2017&g=d&q=q&y=0&z=BRCM&x=.csv'>\n",
      "( 70 / 499 )  Downloading  BRCM \t\t Attempt:  5 / 5 \n"
     ]
    },
    {
     "name": "stderr",
     "output_type": "stream",
     "text": [
      "Warning message in download.file(paste(yahoo.URL, \"s=\", Symbols.name, \"&a=\", from.m, :\n",
      "\"cannot open URL 'http://ichart.finance.yahoo.com/table.csv?s=BRCM&a=0&b=13&c=2005&d=1&e=21&f=2017&g=d&q=q&y=0&z=BRCM&x=.csv': HTTP status was '404 Not Found'\""
     ]
    },
    {
     "name": "stdout",
     "output_type": "stream",
     "text": [
      "<simpleError in download.file(paste(yahoo.URL, \"s=\", Symbols.name, \"&a=\", from.m,     \"&b=\", sprintf(\"%.2d\", from.d), \"&c=\", from.y, \"&d=\", to.m,     \"&e=\", sprintf(\"%.2d\", to.d), \"&f=\", to.y, \"&g=d&q=q&y=0\",     \"&z=\", Symbols.name, \"&x=.csv\", sep = \"\"), destfile = tmp,     quiet = !verbose): cannot open URL 'http://ichart.finance.yahoo.com/table.csv?s=BRCM&a=0&b=13&c=2005&d=1&e=21&f=2017&g=d&q=q&y=0&z=BRCM&x=.csv'>\n",
      "<simpleError in eval(expr, envir, enclos): object 'B' not found>\n",
      "<simpleError in eval(expr, envir, enclos): object 'B' not found>\n",
      "<simpleError in eval(expr, envir, enclos): object 'B' not found>\n",
      "<simpleError in eval(expr, envir, enclos): object 'B' not found>\n",
      "<simpleError in eval(expr, envir, enclos): object 'B' not found>\n",
      "( 72 / 499 )  Downloading  CHRW \t\t Attempt:  1 / 5 \n",
      "( 73 / 499 )  Downloading  CA \t\t Attempt:  1 / 5 \n",
      "( 74 / 499 )  Downloading  COG \t\t Attempt:  1 / 5 \n",
      "( 75 / 499 )  Downloading  CAM \t\t Attempt:  1 / 5 \n"
     ]
    },
    {
     "name": "stderr",
     "output_type": "stream",
     "text": [
      "Warning message in download.file(paste(yahoo.URL, \"s=\", Symbols.name, \"&a=\", from.m, :\n",
      "\"cannot open URL 'http://ichart.finance.yahoo.com/table.csv?s=CAM&a=0&b=13&c=2005&d=1&e=21&f=2017&g=d&q=q&y=0&z=CAM&x=.csv': HTTP status was '404 Not Found'\""
     ]
    },
    {
     "name": "stdout",
     "output_type": "stream",
     "text": [
      "<simpleError in download.file(paste(yahoo.URL, \"s=\", Symbols.name, \"&a=\", from.m,     \"&b=\", sprintf(\"%.2d\", from.d), \"&c=\", from.y, \"&d=\", to.m,     \"&e=\", sprintf(\"%.2d\", to.d), \"&f=\", to.y, \"&g=d&q=q&y=0\",     \"&z=\", Symbols.name, \"&x=.csv\", sep = \"\"), destfile = tmp,     quiet = !verbose): cannot open URL 'http://ichart.finance.yahoo.com/table.csv?s=CAM&a=0&b=13&c=2005&d=1&e=21&f=2017&g=d&q=q&y=0&z=CAM&x=.csv'>\n",
      "( 75 / 499 )  Downloading  CAM \t\t Attempt:  2 / 5 \n"
     ]
    },
    {
     "name": "stderr",
     "output_type": "stream",
     "text": [
      "Warning message in download.file(paste(yahoo.URL, \"s=\", Symbols.name, \"&a=\", from.m, :\n",
      "\"cannot open URL 'http://ichart.finance.yahoo.com/table.csv?s=CAM&a=0&b=13&c=2005&d=1&e=21&f=2017&g=d&q=q&y=0&z=CAM&x=.csv': HTTP status was '404 Not Found'\""
     ]
    },
    {
     "name": "stdout",
     "output_type": "stream",
     "text": [
      "<simpleError in download.file(paste(yahoo.URL, \"s=\", Symbols.name, \"&a=\", from.m,     \"&b=\", sprintf(\"%.2d\", from.d), \"&c=\", from.y, \"&d=\", to.m,     \"&e=\", sprintf(\"%.2d\", to.d), \"&f=\", to.y, \"&g=d&q=q&y=0\",     \"&z=\", Symbols.name, \"&x=.csv\", sep = \"\"), destfile = tmp,     quiet = !verbose): cannot open URL 'http://ichart.finance.yahoo.com/table.csv?s=CAM&a=0&b=13&c=2005&d=1&e=21&f=2017&g=d&q=q&y=0&z=CAM&x=.csv'>\n",
      "( 75 / 499 )  Downloading  CAM \t\t Attempt:  3 / 5 \n"
     ]
    },
    {
     "name": "stderr",
     "output_type": "stream",
     "text": [
      "Warning message in download.file(paste(yahoo.URL, \"s=\", Symbols.name, \"&a=\", from.m, :\n",
      "\"cannot open URL 'http://ichart.finance.yahoo.com/table.csv?s=CAM&a=0&b=13&c=2005&d=1&e=21&f=2017&g=d&q=q&y=0&z=CAM&x=.csv': HTTP status was '404 Not Found'\""
     ]
    },
    {
     "name": "stdout",
     "output_type": "stream",
     "text": [
      "<simpleError in download.file(paste(yahoo.URL, \"s=\", Symbols.name, \"&a=\", from.m,     \"&b=\", sprintf(\"%.2d\", from.d), \"&c=\", from.y, \"&d=\", to.m,     \"&e=\", sprintf(\"%.2d\", to.d), \"&f=\", to.y, \"&g=d&q=q&y=0\",     \"&z=\", Symbols.name, \"&x=.csv\", sep = \"\"), destfile = tmp,     quiet = !verbose): cannot open URL 'http://ichart.finance.yahoo.com/table.csv?s=CAM&a=0&b=13&c=2005&d=1&e=21&f=2017&g=d&q=q&y=0&z=CAM&x=.csv'>\n",
      "( 75 / 499 )  Downloading  CAM \t\t Attempt:  4 / 5 \n"
     ]
    },
    {
     "name": "stderr",
     "output_type": "stream",
     "text": [
      "Warning message in download.file(paste(yahoo.URL, \"s=\", Symbols.name, \"&a=\", from.m, :\n",
      "\"cannot open URL 'http://ichart.finance.yahoo.com/table.csv?s=CAM&a=0&b=13&c=2005&d=1&e=21&f=2017&g=d&q=q&y=0&z=CAM&x=.csv': HTTP status was '404 Not Found'\""
     ]
    },
    {
     "name": "stdout",
     "output_type": "stream",
     "text": [
      "<simpleError in download.file(paste(yahoo.URL, \"s=\", Symbols.name, \"&a=\", from.m,     \"&b=\", sprintf(\"%.2d\", from.d), \"&c=\", from.y, \"&d=\", to.m,     \"&e=\", sprintf(\"%.2d\", to.d), \"&f=\", to.y, \"&g=d&q=q&y=0\",     \"&z=\", Symbols.name, \"&x=.csv\", sep = \"\"), destfile = tmp,     quiet = !verbose): cannot open URL 'http://ichart.finance.yahoo.com/table.csv?s=CAM&a=0&b=13&c=2005&d=1&e=21&f=2017&g=d&q=q&y=0&z=CAM&x=.csv'>\n",
      "( 75 / 499 )  Downloading  CAM \t\t Attempt:  5 / 5 \n"
     ]
    },
    {
     "name": "stderr",
     "output_type": "stream",
     "text": [
      "Warning message in download.file(paste(yahoo.URL, \"s=\", Symbols.name, \"&a=\", from.m, :\n",
      "\"cannot open URL 'http://ichart.finance.yahoo.com/table.csv?s=CAM&a=0&b=13&c=2005&d=1&e=21&f=2017&g=d&q=q&y=0&z=CAM&x=.csv': HTTP status was '404 Not Found'\""
     ]
    },
    {
     "name": "stdout",
     "output_type": "stream",
     "text": [
      "<simpleError in download.file(paste(yahoo.URL, \"s=\", Symbols.name, \"&a=\", from.m,     \"&b=\", sprintf(\"%.2d\", from.d), \"&c=\", from.y, \"&d=\", to.m,     \"&e=\", sprintf(\"%.2d\", to.d), \"&f=\", to.y, \"&g=d&q=q&y=0\",     \"&z=\", Symbols.name, \"&x=.csv\", sep = \"\"), destfile = tmp,     quiet = !verbose): cannot open URL 'http://ichart.finance.yahoo.com/table.csv?s=CAM&a=0&b=13&c=2005&d=1&e=21&f=2017&g=d&q=q&y=0&z=CAM&x=.csv'>\n",
      "( 76 / 499 )  Downloading  CPB \t\t Attempt:  1 / 5 \n",
      "( 77 / 499 )  Downloading  COF \t\t Attempt:  1 / 5 \n",
      "( 78 / 499 )  Downloading  CAH \t\t Attempt:  1 / 5 \n",
      "( 79 / 499 )  Downloading  CFN \t\t Attempt:  1 / 5 \n",
      "( 80 / 499 )  Downloading  KMX \t\t Attempt:  1 / 5 \n",
      "( 81 / 499 )  Downloading  CCL \t\t Attempt:  1 / 5 \n",
      "( 82 / 499 )  Downloading  CAT \t\t Attempt:  1 / 5 \n",
      "( 83 / 499 )  Downloading  CBG \t\t Attempt:  1 / 5 \n",
      "( 84 / 499 )  Downloading  CBS \t\t Attempt:  1 / 5 \n",
      "( 85 / 499 )  Downloading  CELG \t\t Attempt:  1 / 5 \n",
      "( 86 / 499 )  Downloading  CNP \t\t Attempt:  1 / 5 \n",
      "( 87 / 499 )  Downloading  CTL \t\t Attempt:  1 / 5 \n",
      "( 88 / 499 )  Downloading  CEPH \t\t Attempt:  1 / 5 \n"
     ]
    },
    {
     "name": "stderr",
     "output_type": "stream",
     "text": [
      "Warning message in download.file(paste(yahoo.URL, \"s=\", Symbols.name, \"&a=\", from.m, :\n",
      "\"cannot open URL 'http://ichart.finance.yahoo.com/table.csv?s=CEPH&a=0&b=13&c=2005&d=1&e=21&f=2017&g=d&q=q&y=0&z=CEPH&x=.csv': HTTP status was '404 Not Found'\""
     ]
    },
    {
     "name": "stdout",
     "output_type": "stream",
     "text": [
      "<simpleError in download.file(paste(yahoo.URL, \"s=\", Symbols.name, \"&a=\", from.m,     \"&b=\", sprintf(\"%.2d\", from.d), \"&c=\", from.y, \"&d=\", to.m,     \"&e=\", sprintf(\"%.2d\", to.d), \"&f=\", to.y, \"&g=d&q=q&y=0\",     \"&z=\", Symbols.name, \"&x=.csv\", sep = \"\"), destfile = tmp,     quiet = !verbose): cannot open URL 'http://ichart.finance.yahoo.com/table.csv?s=CEPH&a=0&b=13&c=2005&d=1&e=21&f=2017&g=d&q=q&y=0&z=CEPH&x=.csv'>\n",
      "( 88 / 499 )  Downloading  CEPH \t\t Attempt:  2 / 5 \n"
     ]
    },
    {
     "name": "stderr",
     "output_type": "stream",
     "text": [
      "Warning message in download.file(paste(yahoo.URL, \"s=\", Symbols.name, \"&a=\", from.m, :\n",
      "\"cannot open URL 'http://ichart.finance.yahoo.com/table.csv?s=CEPH&a=0&b=13&c=2005&d=1&e=21&f=2017&g=d&q=q&y=0&z=CEPH&x=.csv': HTTP status was '404 Not Found'\""
     ]
    },
    {
     "name": "stdout",
     "output_type": "stream",
     "text": [
      "<simpleError in download.file(paste(yahoo.URL, \"s=\", Symbols.name, \"&a=\", from.m,     \"&b=\", sprintf(\"%.2d\", from.d), \"&c=\", from.y, \"&d=\", to.m,     \"&e=\", sprintf(\"%.2d\", to.d), \"&f=\", to.y, \"&g=d&q=q&y=0\",     \"&z=\", Symbols.name, \"&x=.csv\", sep = \"\"), destfile = tmp,     quiet = !verbose): cannot open URL 'http://ichart.finance.yahoo.com/table.csv?s=CEPH&a=0&b=13&c=2005&d=1&e=21&f=2017&g=d&q=q&y=0&z=CEPH&x=.csv'>\n",
      "( 88 / 499 )  Downloading  CEPH \t\t Attempt:  3 / 5 \n"
     ]
    },
    {
     "name": "stderr",
     "output_type": "stream",
     "text": [
      "Warning message in download.file(paste(yahoo.URL, \"s=\", Symbols.name, \"&a=\", from.m, :\n",
      "\"cannot open URL 'http://ichart.finance.yahoo.com/table.csv?s=CEPH&a=0&b=13&c=2005&d=1&e=21&f=2017&g=d&q=q&y=0&z=CEPH&x=.csv': HTTP status was '404 Not Found'\""
     ]
    },
    {
     "name": "stdout",
     "output_type": "stream",
     "text": [
      "<simpleError in download.file(paste(yahoo.URL, \"s=\", Symbols.name, \"&a=\", from.m,     \"&b=\", sprintf(\"%.2d\", from.d), \"&c=\", from.y, \"&d=\", to.m,     \"&e=\", sprintf(\"%.2d\", to.d), \"&f=\", to.y, \"&g=d&q=q&y=0\",     \"&z=\", Symbols.name, \"&x=.csv\", sep = \"\"), destfile = tmp,     quiet = !verbose): cannot open URL 'http://ichart.finance.yahoo.com/table.csv?s=CEPH&a=0&b=13&c=2005&d=1&e=21&f=2017&g=d&q=q&y=0&z=CEPH&x=.csv'>\n",
      "( 88 / 499 )  Downloading  CEPH \t\t Attempt:  4 / 5 \n"
     ]
    },
    {
     "name": "stderr",
     "output_type": "stream",
     "text": [
      "Warning message in download.file(paste(yahoo.URL, \"s=\", Symbols.name, \"&a=\", from.m, :\n",
      "\"cannot open URL 'http://ichart.finance.yahoo.com/table.csv?s=CEPH&a=0&b=13&c=2005&d=1&e=21&f=2017&g=d&q=q&y=0&z=CEPH&x=.csv': HTTP status was '404 Not Found'\""
     ]
    },
    {
     "name": "stdout",
     "output_type": "stream",
     "text": [
      "<simpleError in download.file(paste(yahoo.URL, \"s=\", Symbols.name, \"&a=\", from.m,     \"&b=\", sprintf(\"%.2d\", from.d), \"&c=\", from.y, \"&d=\", to.m,     \"&e=\", sprintf(\"%.2d\", to.d), \"&f=\", to.y, \"&g=d&q=q&y=0\",     \"&z=\", Symbols.name, \"&x=.csv\", sep = \"\"), destfile = tmp,     quiet = !verbose): cannot open URL 'http://ichart.finance.yahoo.com/table.csv?s=CEPH&a=0&b=13&c=2005&d=1&e=21&f=2017&g=d&q=q&y=0&z=CEPH&x=.csv'>\n",
      "( 88 / 499 )  Downloading  CEPH \t\t Attempt:  5 / 5 \n"
     ]
    },
    {
     "name": "stderr",
     "output_type": "stream",
     "text": [
      "Warning message in download.file(paste(yahoo.URL, \"s=\", Symbols.name, \"&a=\", from.m, :\n",
      "\"cannot open URL 'http://ichart.finance.yahoo.com/table.csv?s=CEPH&a=0&b=13&c=2005&d=1&e=21&f=2017&g=d&q=q&y=0&z=CEPH&x=.csv': HTTP status was '404 Not Found'\""
     ]
    },
    {
     "name": "stdout",
     "output_type": "stream",
     "text": [
      "<simpleError in download.file(paste(yahoo.URL, \"s=\", Symbols.name, \"&a=\", from.m,     \"&b=\", sprintf(\"%.2d\", from.d), \"&c=\", from.y, \"&d=\", to.m,     \"&e=\", sprintf(\"%.2d\", to.d), \"&f=\", to.y, \"&g=d&q=q&y=0\",     \"&z=\", Symbols.name, \"&x=.csv\", sep = \"\"), destfile = tmp,     quiet = !verbose): cannot open URL 'http://ichart.finance.yahoo.com/table.csv?s=CEPH&a=0&b=13&c=2005&d=1&e=21&f=2017&g=d&q=q&y=0&z=CEPH&x=.csv'>\n",
      "( 89 / 499 )  Downloading  CERN \t\t Attempt:  1 / 5 \n",
      "( 90 / 499 )  Downloading  CF \t\t Attempt:  1 / 5 \n",
      "( 91 / 499 )  Downloading  SCHW \t\t Attempt:  1 / 5 \n",
      "( 92 / 499 )  Downloading  CHK \t\t Attempt:  1 / 5 \n",
      "( 93 / 499 )  Downloading  CVX \t\t Attempt:  1 / 5 \n",
      "( 94 / 499 )  Downloading  CB \t\t Attempt:  1 / 5 \n",
      "( 95 / 499 )  Downloading  CI \t\t Attempt:  1 / 5 \n",
      "( 96 / 499 )  Downloading  CINF \t\t Attempt:  1 / 5 \n",
      "( 97 / 499 )  Downloading  CTAS \t\t Attempt:  1 / 5 \n",
      "( 98 / 499 )  Downloading  CSCO \t\t Attempt:  1 / 5 \n",
      "( 99 / 499 )  Downloading  C \t\t Attempt:  1 / 5 \n",
      "( 100 / 499 )  Downloading  CTXS \t\t Attempt:  1 / 5 \n",
      "( 101 / 499 )  Downloading  CLF \t\t Attempt:  1 / 5 \n",
      "( 102 / 499 )  Downloading  CLX \t\t Attempt:  1 / 5 \n",
      "( 103 / 499 )  Downloading  CME \t\t Attempt:  1 / 5 \n",
      "( 104 / 499 )  Downloading  CMS \t\t Attempt:  1 / 5 \n",
      "( 105 / 499 )  Downloading  COH \t\t Attempt:  1 / 5 \n",
      "( 106 / 499 )  Downloading  KO \t\t Attempt:  1 / 5 \n",
      "( 107 / 499 )  Downloading  CCE \t\t Attempt:  1 / 5 \n",
      "( 108 / 499 )  Downloading  CTSH \t\t Attempt:  1 / 5 \n",
      "( 109 / 499 )  Downloading  CL \t\t Attempt:  1 / 5 \n",
      "( 110 / 499 )  Downloading  CMCSA \t\t Attempt:  1 / 5 \n",
      "( 111 / 499 )  Downloading  CMA \t\t Attempt:  1 / 5 \n",
      "( 112 / 499 )  Downloading  CSC \t\t Attempt:  1 / 5 \n",
      "( 113 / 499 )  Downloading  CPWR \t\t Attempt:  1 / 5 \n",
      "( 114 / 499 )  Downloading  CAG \t\t Attempt:  1 / 5 \n",
      "( 115 / 499 )  Downloading  COP \t\t Attempt:  1 / 5 \n",
      "( 116 / 499 )  Downloading  CNX \t\t Attempt:  1 / 5 \n",
      "( 117 / 499 )  Downloading  ED \t\t Attempt:  1 / 5 \n",
      "( 118 / 499 )  Downloading  STZ \t\t Attempt:  1 / 5 \n",
      "( 119 / 499 )  Downloading  CEG \t\t Attempt:  1 / 5 \n",
      "( 120 / 499 )  Downloading  GLW \t\t Attempt:  1 / 5 \n",
      "( 121 / 499 )  Downloading  COST \t\t Attempt:  1 / 5 \n",
      "( 122 / 499 )  Downloading  CVH \t\t Attempt:  1 / 5 \n",
      "( 123 / 499 )  Downloading  CSX \t\t Attempt:  1 / 5 \n",
      "( 124 / 499 )  Downloading  CMI \t\t Attempt:  1 / 5 \n",
      "( 125 / 499 )  Downloading  CVS \t\t Attempt:  1 / 5 \n",
      "( 126 / 499 )  Downloading  DHI \t\t Attempt:  1 / 5 \n",
      "( 127 / 499 )  Downloading  DHR \t\t Attempt:  1 / 5 \n",
      "( 128 / 499 )  Downloading  DRI \t\t Attempt:  1 / 5 \n",
      "( 129 / 499 )  Downloading  DVA \t\t Attempt:  1 / 5 \n",
      "( 130 / 499 )  Downloading  DF \t\t Attempt:  1 / 5 \n",
      "( 131 / 499 )  Downloading  DE \t\t Attempt:  1 / 5 \n",
      "( 132 / 499 )  Downloading  DELL \t\t Attempt:  1 / 5 \n",
      "( 133 / 499 )  Downloading  DNR \t\t Attempt:  1 / 5 \n",
      "( 134 / 499 )  Downloading  XRAY \t\t Attempt:  1 / 5 \n",
      "( 135 / 499 )  Downloading  DVN \t\t Attempt:  1 / 5 \n",
      "( 136 / 499 )  Downloading  DV \t\t Attempt:  1 / 5 \n",
      "( 137 / 499 )  Downloading  DO \t\t Attempt:  1 / 5 \n",
      "( 138 / 499 )  Downloading  DTV \t\t Attempt:  1 / 5 \n",
      "( 139 / 499 )  Downloading  DFS \t\t Attempt:  1 / 5 \n",
      "( 140 / 499 )  Downloading  DISCA \t\t Attempt:  1 / 5 \n",
      "( 141 / 499 )  Downloading  D \t\t Attempt:  1 / 5 \n",
      "( 142 / 499 )  Downloading  RRD \t\t Attempt:  1 / 5 \n",
      "( 143 / 499 )  Downloading  DOV \t\t Attempt:  1 / 5 \n",
      "( 144 / 499 )  Downloading  DOW \t\t Attempt:  1 / 5 \n",
      "( 145 / 499 )  Downloading  DPS \t\t Attempt:  1 / 5 \n",
      "( 146 / 499 )  Downloading  DTE \t\t Attempt:  1 / 5 \n",
      "( 147 / 499 )  Downloading  DD \t\t Attempt:  1 / 5 \n",
      "( 148 / 499 )  Downloading  DUK \t\t Attempt:  1 / 5 \n",
      "( 149 / 499 )  Downloading  DNB \t\t Attempt:  1 / 5 \n",
      "( 150 / 499 )  Downloading  ETFC \t\t Attempt:  1 / 5 \n",
      "( 151 / 499 )  Downloading  EMN \t\t Attempt:  1 / 5 \n",
      "( 152 / 499 )  Downloading  EK \t\t Attempt:  1 / 5 \n"
     ]
    },
    {
     "name": "stderr",
     "output_type": "stream",
     "text": [
      "Warning message in download.file(paste(yahoo.URL, \"s=\", Symbols.name, \"&a=\", from.m, :\n",
      "\"cannot open URL 'http://ichart.finance.yahoo.com/table.csv?s=EK&a=0&b=13&c=2005&d=1&e=21&f=2017&g=d&q=q&y=0&z=EK&x=.csv': HTTP status was '404 Not Found'\""
     ]
    },
    {
     "name": "stdout",
     "output_type": "stream",
     "text": [
      "<simpleError in download.file(paste(yahoo.URL, \"s=\", Symbols.name, \"&a=\", from.m,     \"&b=\", sprintf(\"%.2d\", from.d), \"&c=\", from.y, \"&d=\", to.m,     \"&e=\", sprintf(\"%.2d\", to.d), \"&f=\", to.y, \"&g=d&q=q&y=0\",     \"&z=\", Symbols.name, \"&x=.csv\", sep = \"\"), destfile = tmp,     quiet = !verbose): cannot open URL 'http://ichart.finance.yahoo.com/table.csv?s=EK&a=0&b=13&c=2005&d=1&e=21&f=2017&g=d&q=q&y=0&z=EK&x=.csv'>\n",
      "( 152 / 499 )  Downloading  EK \t\t Attempt:  2 / 5 \n"
     ]
    },
    {
     "name": "stderr",
     "output_type": "stream",
     "text": [
      "Warning message in download.file(paste(yahoo.URL, \"s=\", Symbols.name, \"&a=\", from.m, :\n",
      "\"cannot open URL 'http://ichart.finance.yahoo.com/table.csv?s=EK&a=0&b=13&c=2005&d=1&e=21&f=2017&g=d&q=q&y=0&z=EK&x=.csv': HTTP status was '404 Not Found'\""
     ]
    },
    {
     "name": "stdout",
     "output_type": "stream",
     "text": [
      "<simpleError in download.file(paste(yahoo.URL, \"s=\", Symbols.name, \"&a=\", from.m,     \"&b=\", sprintf(\"%.2d\", from.d), \"&c=\", from.y, \"&d=\", to.m,     \"&e=\", sprintf(\"%.2d\", to.d), \"&f=\", to.y, \"&g=d&q=q&y=0\",     \"&z=\", Symbols.name, \"&x=.csv\", sep = \"\"), destfile = tmp,     quiet = !verbose): cannot open URL 'http://ichart.finance.yahoo.com/table.csv?s=EK&a=0&b=13&c=2005&d=1&e=21&f=2017&g=d&q=q&y=0&z=EK&x=.csv'>\n",
      "( 152 / 499 )  Downloading  EK \t\t Attempt:  3 / 5 \n"
     ]
    },
    {
     "name": "stderr",
     "output_type": "stream",
     "text": [
      "Warning message in download.file(paste(yahoo.URL, \"s=\", Symbols.name, \"&a=\", from.m, :\n",
      "\"cannot open URL 'http://ichart.finance.yahoo.com/table.csv?s=EK&a=0&b=13&c=2005&d=1&e=21&f=2017&g=d&q=q&y=0&z=EK&x=.csv': HTTP status was '404 Not Found'\""
     ]
    },
    {
     "name": "stdout",
     "output_type": "stream",
     "text": [
      "<simpleError in download.file(paste(yahoo.URL, \"s=\", Symbols.name, \"&a=\", from.m,     \"&b=\", sprintf(\"%.2d\", from.d), \"&c=\", from.y, \"&d=\", to.m,     \"&e=\", sprintf(\"%.2d\", to.d), \"&f=\", to.y, \"&g=d&q=q&y=0\",     \"&z=\", Symbols.name, \"&x=.csv\", sep = \"\"), destfile = tmp,     quiet = !verbose): cannot open URL 'http://ichart.finance.yahoo.com/table.csv?s=EK&a=0&b=13&c=2005&d=1&e=21&f=2017&g=d&q=q&y=0&z=EK&x=.csv'>\n",
      "( 152 / 499 )  Downloading  EK \t\t Attempt:  4 / 5 \n"
     ]
    },
    {
     "name": "stderr",
     "output_type": "stream",
     "text": [
      "Warning message in download.file(paste(yahoo.URL, \"s=\", Symbols.name, \"&a=\", from.m, :\n",
      "\"cannot open URL 'http://ichart.finance.yahoo.com/table.csv?s=EK&a=0&b=13&c=2005&d=1&e=21&f=2017&g=d&q=q&y=0&z=EK&x=.csv': HTTP status was '404 Not Found'\""
     ]
    },
    {
     "name": "stdout",
     "output_type": "stream",
     "text": [
      "<simpleError in download.file(paste(yahoo.URL, \"s=\", Symbols.name, \"&a=\", from.m,     \"&b=\", sprintf(\"%.2d\", from.d), \"&c=\", from.y, \"&d=\", to.m,     \"&e=\", sprintf(\"%.2d\", to.d), \"&f=\", to.y, \"&g=d&q=q&y=0\",     \"&z=\", Symbols.name, \"&x=.csv\", sep = \"\"), destfile = tmp,     quiet = !verbose): cannot open URL 'http://ichart.finance.yahoo.com/table.csv?s=EK&a=0&b=13&c=2005&d=1&e=21&f=2017&g=d&q=q&y=0&z=EK&x=.csv'>\n",
      "( 152 / 499 )  Downloading  EK \t\t Attempt:  5 / 5 \n"
     ]
    },
    {
     "name": "stderr",
     "output_type": "stream",
     "text": [
      "Warning message in download.file(paste(yahoo.URL, \"s=\", Symbols.name, \"&a=\", from.m, :\n",
      "\"cannot open URL 'http://ichart.finance.yahoo.com/table.csv?s=EK&a=0&b=13&c=2005&d=1&e=21&f=2017&g=d&q=q&y=0&z=EK&x=.csv': HTTP status was '404 Not Found'\""
     ]
    },
    {
     "name": "stdout",
     "output_type": "stream",
     "text": [
      "<simpleError in download.file(paste(yahoo.URL, \"s=\", Symbols.name, \"&a=\", from.m,     \"&b=\", sprintf(\"%.2d\", from.d), \"&c=\", from.y, \"&d=\", to.m,     \"&e=\", sprintf(\"%.2d\", to.d), \"&f=\", to.y, \"&g=d&q=q&y=0\",     \"&z=\", Symbols.name, \"&x=.csv\", sep = \"\"), destfile = tmp,     quiet = !verbose): cannot open URL 'http://ichart.finance.yahoo.com/table.csv?s=EK&a=0&b=13&c=2005&d=1&e=21&f=2017&g=d&q=q&y=0&z=EK&x=.csv'>\n",
      "( 153 / 499 )  Downloading  ETN \t\t Attempt:  1 / 5 \n",
      "( 154 / 499 )  Downloading  EBAY \t\t Attempt:  1 / 5 \n",
      "( 155 / 499 )  Downloading  ECL \t\t Attempt:  1 / 5 \n",
      "( 156 / 499 )  Downloading  EIX \t\t Attempt:  1 / 5 \n",
      "( 157 / 499 )  Downloading  EP \t\t Attempt:  1 / 5 \n"
     ]
    },
    {
     "name": "stderr",
     "output_type": "stream",
     "text": [
      "Warning message in download.file(paste(yahoo.URL, \"s=\", Symbols.name, \"&a=\", from.m, :\n",
      "\"cannot open URL 'http://ichart.finance.yahoo.com/table.csv?s=EP&a=0&b=13&c=2005&d=1&e=21&f=2017&g=d&q=q&y=0&z=EP&x=.csv': HTTP status was '404 Not Found'\""
     ]
    },
    {
     "name": "stdout",
     "output_type": "stream",
     "text": [
      "<simpleError in download.file(paste(yahoo.URL, \"s=\", Symbols.name, \"&a=\", from.m,     \"&b=\", sprintf(\"%.2d\", from.d), \"&c=\", from.y, \"&d=\", to.m,     \"&e=\", sprintf(\"%.2d\", to.d), \"&f=\", to.y, \"&g=d&q=q&y=0\",     \"&z=\", Symbols.name, \"&x=.csv\", sep = \"\"), destfile = tmp,     quiet = !verbose): cannot open URL 'http://ichart.finance.yahoo.com/table.csv?s=EP&a=0&b=13&c=2005&d=1&e=21&f=2017&g=d&q=q&y=0&z=EP&x=.csv'>\n",
      "( 157 / 499 )  Downloading  EP \t\t Attempt:  2 / 5 \n"
     ]
    },
    {
     "name": "stderr",
     "output_type": "stream",
     "text": [
      "Warning message in download.file(paste(yahoo.URL, \"s=\", Symbols.name, \"&a=\", from.m, :\n",
      "\"cannot open URL 'http://ichart.finance.yahoo.com/table.csv?s=EP&a=0&b=13&c=2005&d=1&e=21&f=2017&g=d&q=q&y=0&z=EP&x=.csv': HTTP status was '404 Not Found'\""
     ]
    },
    {
     "name": "stdout",
     "output_type": "stream",
     "text": [
      "<simpleError in download.file(paste(yahoo.URL, \"s=\", Symbols.name, \"&a=\", from.m,     \"&b=\", sprintf(\"%.2d\", from.d), \"&c=\", from.y, \"&d=\", to.m,     \"&e=\", sprintf(\"%.2d\", to.d), \"&f=\", to.y, \"&g=d&q=q&y=0\",     \"&z=\", Symbols.name, \"&x=.csv\", sep = \"\"), destfile = tmp,     quiet = !verbose): cannot open URL 'http://ichart.finance.yahoo.com/table.csv?s=EP&a=0&b=13&c=2005&d=1&e=21&f=2017&g=d&q=q&y=0&z=EP&x=.csv'>\n",
      "( 157 / 499 )  Downloading  EP \t\t Attempt:  3 / 5 \n"
     ]
    },
    {
     "name": "stderr",
     "output_type": "stream",
     "text": [
      "Warning message in download.file(paste(yahoo.URL, \"s=\", Symbols.name, \"&a=\", from.m, :\n",
      "\"cannot open URL 'http://ichart.finance.yahoo.com/table.csv?s=EP&a=0&b=13&c=2005&d=1&e=21&f=2017&g=d&q=q&y=0&z=EP&x=.csv': HTTP status was '404 Not Found'\""
     ]
    },
    {
     "name": "stdout",
     "output_type": "stream",
     "text": [
      "<simpleError in download.file(paste(yahoo.URL, \"s=\", Symbols.name, \"&a=\", from.m,     \"&b=\", sprintf(\"%.2d\", from.d), \"&c=\", from.y, \"&d=\", to.m,     \"&e=\", sprintf(\"%.2d\", to.d), \"&f=\", to.y, \"&g=d&q=q&y=0\",     \"&z=\", Symbols.name, \"&x=.csv\", sep = \"\"), destfile = tmp,     quiet = !verbose): cannot open URL 'http://ichart.finance.yahoo.com/table.csv?s=EP&a=0&b=13&c=2005&d=1&e=21&f=2017&g=d&q=q&y=0&z=EP&x=.csv'>\n",
      "( 157 / 499 )  Downloading  EP \t\t Attempt:  4 / 5 \n"
     ]
    },
    {
     "name": "stderr",
     "output_type": "stream",
     "text": [
      "Warning message in download.file(paste(yahoo.URL, \"s=\", Symbols.name, \"&a=\", from.m, :\n",
      "\"cannot open URL 'http://ichart.finance.yahoo.com/table.csv?s=EP&a=0&b=13&c=2005&d=1&e=21&f=2017&g=d&q=q&y=0&z=EP&x=.csv': HTTP status was '404 Not Found'\""
     ]
    },
    {
     "name": "stdout",
     "output_type": "stream",
     "text": [
      "<simpleError in download.file(paste(yahoo.URL, \"s=\", Symbols.name, \"&a=\", from.m,     \"&b=\", sprintf(\"%.2d\", from.d), \"&c=\", from.y, \"&d=\", to.m,     \"&e=\", sprintf(\"%.2d\", to.d), \"&f=\", to.y, \"&g=d&q=q&y=0\",     \"&z=\", Symbols.name, \"&x=.csv\", sep = \"\"), destfile = tmp,     quiet = !verbose): cannot open URL 'http://ichart.finance.yahoo.com/table.csv?s=EP&a=0&b=13&c=2005&d=1&e=21&f=2017&g=d&q=q&y=0&z=EP&x=.csv'>\n",
      "( 157 / 499 )  Downloading  EP \t\t Attempt:  5 / 5 \n"
     ]
    },
    {
     "name": "stderr",
     "output_type": "stream",
     "text": [
      "Warning message in download.file(paste(yahoo.URL, \"s=\", Symbols.name, \"&a=\", from.m, :\n",
      "\"cannot open URL 'http://ichart.finance.yahoo.com/table.csv?s=EP&a=0&b=13&c=2005&d=1&e=21&f=2017&g=d&q=q&y=0&z=EP&x=.csv': HTTP status was '404 Not Found'\""
     ]
    },
    {
     "name": "stdout",
     "output_type": "stream",
     "text": [
      "<simpleError in download.file(paste(yahoo.URL, \"s=\", Symbols.name, \"&a=\", from.m,     \"&b=\", sprintf(\"%.2d\", from.d), \"&c=\", from.y, \"&d=\", to.m,     \"&e=\", sprintf(\"%.2d\", to.d), \"&f=\", to.y, \"&g=d&q=q&y=0\",     \"&z=\", Symbols.name, \"&x=.csv\", sep = \"\"), destfile = tmp,     quiet = !verbose): cannot open URL 'http://ichart.finance.yahoo.com/table.csv?s=EP&a=0&b=13&c=2005&d=1&e=21&f=2017&g=d&q=q&y=0&z=EP&x=.csv'>\n",
      "( 158 / 499 )  Downloading  ERTS \t\t Attempt:  1 / 5 \n"
     ]
    },
    {
     "name": "stderr",
     "output_type": "stream",
     "text": [
      "Warning message in download.file(paste(yahoo.URL, \"s=\", Symbols.name, \"&a=\", from.m, :\n",
      "\"cannot open URL 'http://ichart.finance.yahoo.com/table.csv?s=ERTS&a=0&b=13&c=2005&d=1&e=21&f=2017&g=d&q=q&y=0&z=ERTS&x=.csv': HTTP status was '404 Not Found'\""
     ]
    },
    {
     "name": "stdout",
     "output_type": "stream",
     "text": [
      "<simpleError in download.file(paste(yahoo.URL, \"s=\", Symbols.name, \"&a=\", from.m,     \"&b=\", sprintf(\"%.2d\", from.d), \"&c=\", from.y, \"&d=\", to.m,     \"&e=\", sprintf(\"%.2d\", to.d), \"&f=\", to.y, \"&g=d&q=q&y=0\",     \"&z=\", Symbols.name, \"&x=.csv\", sep = \"\"), destfile = tmp,     quiet = !verbose): cannot open URL 'http://ichart.finance.yahoo.com/table.csv?s=ERTS&a=0&b=13&c=2005&d=1&e=21&f=2017&g=d&q=q&y=0&z=ERTS&x=.csv'>\n",
      "( 158 / 499 )  Downloading  ERTS \t\t Attempt:  2 / 5 \n"
     ]
    },
    {
     "name": "stderr",
     "output_type": "stream",
     "text": [
      "Warning message in download.file(paste(yahoo.URL, \"s=\", Symbols.name, \"&a=\", from.m, :\n",
      "\"cannot open URL 'http://ichart.finance.yahoo.com/table.csv?s=ERTS&a=0&b=13&c=2005&d=1&e=21&f=2017&g=d&q=q&y=0&z=ERTS&x=.csv': HTTP status was '404 Not Found'\""
     ]
    },
    {
     "name": "stdout",
     "output_type": "stream",
     "text": [
      "<simpleError in download.file(paste(yahoo.URL, \"s=\", Symbols.name, \"&a=\", from.m,     \"&b=\", sprintf(\"%.2d\", from.d), \"&c=\", from.y, \"&d=\", to.m,     \"&e=\", sprintf(\"%.2d\", to.d), \"&f=\", to.y, \"&g=d&q=q&y=0\",     \"&z=\", Symbols.name, \"&x=.csv\", sep = \"\"), destfile = tmp,     quiet = !verbose): cannot open URL 'http://ichart.finance.yahoo.com/table.csv?s=ERTS&a=0&b=13&c=2005&d=1&e=21&f=2017&g=d&q=q&y=0&z=ERTS&x=.csv'>\n",
      "( 158 / 499 )  Downloading  ERTS \t\t Attempt:  3 / 5 \n"
     ]
    },
    {
     "name": "stderr",
     "output_type": "stream",
     "text": [
      "Warning message in download.file(paste(yahoo.URL, \"s=\", Symbols.name, \"&a=\", from.m, :\n",
      "\"cannot open URL 'http://ichart.finance.yahoo.com/table.csv?s=ERTS&a=0&b=13&c=2005&d=1&e=21&f=2017&g=d&q=q&y=0&z=ERTS&x=.csv': HTTP status was '404 Not Found'\""
     ]
    },
    {
     "name": "stdout",
     "output_type": "stream",
     "text": [
      "<simpleError in download.file(paste(yahoo.URL, \"s=\", Symbols.name, \"&a=\", from.m,     \"&b=\", sprintf(\"%.2d\", from.d), \"&c=\", from.y, \"&d=\", to.m,     \"&e=\", sprintf(\"%.2d\", to.d), \"&f=\", to.y, \"&g=d&q=q&y=0\",     \"&z=\", Symbols.name, \"&x=.csv\", sep = \"\"), destfile = tmp,     quiet = !verbose): cannot open URL 'http://ichart.finance.yahoo.com/table.csv?s=ERTS&a=0&b=13&c=2005&d=1&e=21&f=2017&g=d&q=q&y=0&z=ERTS&x=.csv'>\n",
      "( 158 / 499 )  Downloading  ERTS \t\t Attempt:  4 / 5 \n"
     ]
    },
    {
     "name": "stderr",
     "output_type": "stream",
     "text": [
      "Warning message in download.file(paste(yahoo.URL, \"s=\", Symbols.name, \"&a=\", from.m, :\n",
      "\"cannot open URL 'http://ichart.finance.yahoo.com/table.csv?s=ERTS&a=0&b=13&c=2005&d=1&e=21&f=2017&g=d&q=q&y=0&z=ERTS&x=.csv': HTTP status was '404 Not Found'\""
     ]
    },
    {
     "name": "stdout",
     "output_type": "stream",
     "text": [
      "<simpleError in download.file(paste(yahoo.URL, \"s=\", Symbols.name, \"&a=\", from.m,     \"&b=\", sprintf(\"%.2d\", from.d), \"&c=\", from.y, \"&d=\", to.m,     \"&e=\", sprintf(\"%.2d\", to.d), \"&f=\", to.y, \"&g=d&q=q&y=0\",     \"&z=\", Symbols.name, \"&x=.csv\", sep = \"\"), destfile = tmp,     quiet = !verbose): cannot open URL 'http://ichart.finance.yahoo.com/table.csv?s=ERTS&a=0&b=13&c=2005&d=1&e=21&f=2017&g=d&q=q&y=0&z=ERTS&x=.csv'>\n",
      "( 158 / 499 )  Downloading  ERTS \t\t Attempt:  5 / 5 \n"
     ]
    },
    {
     "name": "stderr",
     "output_type": "stream",
     "text": [
      "Warning message in download.file(paste(yahoo.URL, \"s=\", Symbols.name, \"&a=\", from.m, :\n",
      "\"cannot open URL 'http://ichart.finance.yahoo.com/table.csv?s=ERTS&a=0&b=13&c=2005&d=1&e=21&f=2017&g=d&q=q&y=0&z=ERTS&x=.csv': HTTP status was '404 Not Found'\""
     ]
    },
    {
     "name": "stdout",
     "output_type": "stream",
     "text": [
      "<simpleError in download.file(paste(yahoo.URL, \"s=\", Symbols.name, \"&a=\", from.m,     \"&b=\", sprintf(\"%.2d\", from.d), \"&c=\", from.y, \"&d=\", to.m,     \"&e=\", sprintf(\"%.2d\", to.d), \"&f=\", to.y, \"&g=d&q=q&y=0\",     \"&z=\", Symbols.name, \"&x=.csv\", sep = \"\"), destfile = tmp,     quiet = !verbose): cannot open URL 'http://ichart.finance.yahoo.com/table.csv?s=ERTS&a=0&b=13&c=2005&d=1&e=21&f=2017&g=d&q=q&y=0&z=ERTS&x=.csv'>\n",
      "( 159 / 499 )  Downloading  EMC \t\t Attempt:  1 / 5 \n",
      "( 160 / 499 )  Downloading  EMR \t\t Attempt:  1 / 5 \n",
      "( 161 / 499 )  Downloading  ETR \t\t Attempt:  1 / 5 \n",
      "( 162 / 499 )  Downloading  EOG \t\t Attempt:  1 / 5 \n",
      "( 163 / 499 )  Downloading  EQT \t\t Attempt:  1 / 5 \n",
      "( 164 / 499 )  Downloading  EFX \t\t Attempt:  1 / 5 \n",
      "( 165 / 499 )  Downloading  EQR \t\t Attempt:  1 / 5 \n",
      "( 166 / 499 )  Downloading  EL \t\t Attempt:  1 / 5 \n",
      "( 167 / 499 )  Downloading  EXC \t\t Attempt:  1 / 5 \n",
      "( 168 / 499 )  Downloading  EXPE \t\t Attempt:  1 / 5 \n",
      "( 169 / 499 )  Downloading  EXPD \t\t Attempt:  1 / 5 \n",
      "( 170 / 499 )  Downloading  ESRX \t\t Attempt:  1 / 5 \n",
      "( 171 / 499 )  Downloading  XOM \t\t Attempt:  1 / 5 \n",
      "( 172 / 499 )  Downloading  FDO \t\t Attempt:  1 / 5 \n"
     ]
    },
    {
     "name": "stderr",
     "output_type": "stream",
     "text": [
      "Warning message in download.file(paste(yahoo.URL, \"s=\", Symbols.name, \"&a=\", from.m, :\n",
      "\"cannot open URL 'http://ichart.finance.yahoo.com/table.csv?s=FDO&a=0&b=13&c=2005&d=1&e=21&f=2017&g=d&q=q&y=0&z=FDO&x=.csv': HTTP status was '404 Not Found'\""
     ]
    },
    {
     "name": "stdout",
     "output_type": "stream",
     "text": [
      "<simpleError in download.file(paste(yahoo.URL, \"s=\", Symbols.name, \"&a=\", from.m,     \"&b=\", sprintf(\"%.2d\", from.d), \"&c=\", from.y, \"&d=\", to.m,     \"&e=\", sprintf(\"%.2d\", to.d), \"&f=\", to.y, \"&g=d&q=q&y=0\",     \"&z=\", Symbols.name, \"&x=.csv\", sep = \"\"), destfile = tmp,     quiet = !verbose): cannot open URL 'http://ichart.finance.yahoo.com/table.csv?s=FDO&a=0&b=13&c=2005&d=1&e=21&f=2017&g=d&q=q&y=0&z=FDO&x=.csv'>\n",
      "( 172 / 499 )  Downloading  FDO \t\t Attempt:  2 / 5 \n"
     ]
    },
    {
     "name": "stderr",
     "output_type": "stream",
     "text": [
      "Warning message in download.file(paste(yahoo.URL, \"s=\", Symbols.name, \"&a=\", from.m, :\n",
      "\"cannot open URL 'http://ichart.finance.yahoo.com/table.csv?s=FDO&a=0&b=13&c=2005&d=1&e=21&f=2017&g=d&q=q&y=0&z=FDO&x=.csv': HTTP status was '404 Not Found'\""
     ]
    },
    {
     "name": "stdout",
     "output_type": "stream",
     "text": [
      "<simpleError in download.file(paste(yahoo.URL, \"s=\", Symbols.name, \"&a=\", from.m,     \"&b=\", sprintf(\"%.2d\", from.d), \"&c=\", from.y, \"&d=\", to.m,     \"&e=\", sprintf(\"%.2d\", to.d), \"&f=\", to.y, \"&g=d&q=q&y=0\",     \"&z=\", Symbols.name, \"&x=.csv\", sep = \"\"), destfile = tmp,     quiet = !verbose): cannot open URL 'http://ichart.finance.yahoo.com/table.csv?s=FDO&a=0&b=13&c=2005&d=1&e=21&f=2017&g=d&q=q&y=0&z=FDO&x=.csv'>\n",
      "( 172 / 499 )  Downloading  FDO \t\t Attempt:  3 / 5 \n"
     ]
    },
    {
     "name": "stderr",
     "output_type": "stream",
     "text": [
      "Warning message in download.file(paste(yahoo.URL, \"s=\", Symbols.name, \"&a=\", from.m, :\n",
      "\"cannot open URL 'http://ichart.finance.yahoo.com/table.csv?s=FDO&a=0&b=13&c=2005&d=1&e=21&f=2017&g=d&q=q&y=0&z=FDO&x=.csv': HTTP status was '404 Not Found'\""
     ]
    },
    {
     "name": "stdout",
     "output_type": "stream",
     "text": [
      "<simpleError in download.file(paste(yahoo.URL, \"s=\", Symbols.name, \"&a=\", from.m,     \"&b=\", sprintf(\"%.2d\", from.d), \"&c=\", from.y, \"&d=\", to.m,     \"&e=\", sprintf(\"%.2d\", to.d), \"&f=\", to.y, \"&g=d&q=q&y=0\",     \"&z=\", Symbols.name, \"&x=.csv\", sep = \"\"), destfile = tmp,     quiet = !verbose): cannot open URL 'http://ichart.finance.yahoo.com/table.csv?s=FDO&a=0&b=13&c=2005&d=1&e=21&f=2017&g=d&q=q&y=0&z=FDO&x=.csv'>\n",
      "( 172 / 499 )  Downloading  FDO \t\t Attempt:  4 / 5 \n"
     ]
    },
    {
     "name": "stderr",
     "output_type": "stream",
     "text": [
      "Warning message in download.file(paste(yahoo.URL, \"s=\", Symbols.name, \"&a=\", from.m, :\n",
      "\"cannot open URL 'http://ichart.finance.yahoo.com/table.csv?s=FDO&a=0&b=13&c=2005&d=1&e=21&f=2017&g=d&q=q&y=0&z=FDO&x=.csv': HTTP status was '404 Not Found'\""
     ]
    },
    {
     "name": "stdout",
     "output_type": "stream",
     "text": [
      "<simpleError in download.file(paste(yahoo.URL, \"s=\", Symbols.name, \"&a=\", from.m,     \"&b=\", sprintf(\"%.2d\", from.d), \"&c=\", from.y, \"&d=\", to.m,     \"&e=\", sprintf(\"%.2d\", to.d), \"&f=\", to.y, \"&g=d&q=q&y=0\",     \"&z=\", Symbols.name, \"&x=.csv\", sep = \"\"), destfile = tmp,     quiet = !verbose): cannot open URL 'http://ichart.finance.yahoo.com/table.csv?s=FDO&a=0&b=13&c=2005&d=1&e=21&f=2017&g=d&q=q&y=0&z=FDO&x=.csv'>\n",
      "( 172 / 499 )  Downloading  FDO \t\t Attempt:  5 / 5 \n"
     ]
    },
    {
     "name": "stderr",
     "output_type": "stream",
     "text": [
      "Warning message in download.file(paste(yahoo.URL, \"s=\", Symbols.name, \"&a=\", from.m, :\n",
      "\"cannot open URL 'http://ichart.finance.yahoo.com/table.csv?s=FDO&a=0&b=13&c=2005&d=1&e=21&f=2017&g=d&q=q&y=0&z=FDO&x=.csv': HTTP status was '404 Not Found'\""
     ]
    },
    {
     "name": "stdout",
     "output_type": "stream",
     "text": [
      "<simpleError in download.file(paste(yahoo.URL, \"s=\", Symbols.name, \"&a=\", from.m,     \"&b=\", sprintf(\"%.2d\", from.d), \"&c=\", from.y, \"&d=\", to.m,     \"&e=\", sprintf(\"%.2d\", to.d), \"&f=\", to.y, \"&g=d&q=q&y=0\",     \"&z=\", Symbols.name, \"&x=.csv\", sep = \"\"), destfile = tmp,     quiet = !verbose): cannot open URL 'http://ichart.finance.yahoo.com/table.csv?s=FDO&a=0&b=13&c=2005&d=1&e=21&f=2017&g=d&q=q&y=0&z=FDO&x=.csv'>\n",
      "( 173 / 499 )  Downloading  FAST \t\t Attempt:  1 / 5 \n",
      "( 174 / 499 )  Downloading  FII \t\t Attempt:  1 / 5 \n",
      "( 175 / 499 )  Downloading  FDX \t\t Attempt:  1 / 5 \n",
      "( 176 / 499 )  Downloading  FIS \t\t Attempt:  1 / 5 \n",
      "( 177 / 499 )  Downloading  FITB \t\t Attempt:  1 / 5 \n",
      "( 178 / 499 )  Downloading  FHN \t\t Attempt:  1 / 5 \n",
      "( 179 / 499 )  Downloading  FSLR \t\t Attempt:  1 / 5 \n",
      "( 180 / 499 )  Downloading  FE \t\t Attempt:  1 / 5 \n",
      "( 181 / 499 )  Downloading  FISV \t\t Attempt:  1 / 5 \n",
      "( 182 / 499 )  Downloading  FLIR \t\t Attempt:  1 / 5 \n",
      "( 183 / 499 )  Downloading  FLS \t\t Attempt:  1 / 5 \n",
      "( 184 / 499 )  Downloading  FLR \t\t Attempt:  1 / 5 \n",
      "( 185 / 499 )  Downloading  FMC \t\t Attempt:  1 / 5 \n",
      "( 186 / 499 )  Downloading  FTI \t\t Attempt:  1 / 5 \n",
      "( 187 / 499 )  Downloading  F \t\t Attempt:  1 / 5 \n",
      "( 188 / 499 )  Downloading  FRX \t\t Attempt:  1 / 5 \n",
      "( 189 / 499 )  Downloading  FO \t\t Attempt:  1 / 5 \n",
      "( 190 / 499 )  Downloading  BEN \t\t Attempt:  1 / 5 \n",
      "( 191 / 499 )  Downloading  FCX \t\t Attempt:  1 / 5 \n",
      "( 192 / 499 )  Downloading  FTR \t\t Attempt:  1 / 5 \n",
      "( 193 / 499 )  Downloading  GME \t\t Attempt:  1 / 5 \n",
      "( 194 / 499 )  Downloading  GCI \t\t Attempt:  1 / 5 \n",
      "( 195 / 499 )  Downloading  GPS \t\t Attempt:  1 / 5 \n",
      "( 196 / 499 )  Downloading  GD \t\t Attempt:  1 / 5 \n",
      "( 197 / 499 )  Downloading  GE \t\t Attempt:  1 / 5 \n",
      "( 198 / 499 )  Downloading  GIS \t\t Attempt:  1 / 5 \n",
      "( 199 / 499 )  Downloading  GPC \t\t Attempt:  1 / 5 \n",
      "( 200 / 499 )  Downloading  GNW \t\t Attempt:  1 / 5 \n",
      "( 201 / 499 )  Downloading  GENZ \t\t Attempt:  1 / 5 \n"
     ]
    },
    {
     "name": "stderr",
     "output_type": "stream",
     "text": [
      "Warning message in download.file(paste(yahoo.URL, \"s=\", Symbols.name, \"&a=\", from.m, :\n",
      "\"cannot open URL 'http://ichart.finance.yahoo.com/table.csv?s=GENZ&a=0&b=13&c=2005&d=1&e=21&f=2017&g=d&q=q&y=0&z=GENZ&x=.csv': HTTP status was '404 Not Found'\""
     ]
    },
    {
     "name": "stdout",
     "output_type": "stream",
     "text": [
      "<simpleError in download.file(paste(yahoo.URL, \"s=\", Symbols.name, \"&a=\", from.m,     \"&b=\", sprintf(\"%.2d\", from.d), \"&c=\", from.y, \"&d=\", to.m,     \"&e=\", sprintf(\"%.2d\", to.d), \"&f=\", to.y, \"&g=d&q=q&y=0\",     \"&z=\", Symbols.name, \"&x=.csv\", sep = \"\"), destfile = tmp,     quiet = !verbose): cannot open URL 'http://ichart.finance.yahoo.com/table.csv?s=GENZ&a=0&b=13&c=2005&d=1&e=21&f=2017&g=d&q=q&y=0&z=GENZ&x=.csv'>\n",
      "( 201 / 499 )  Downloading  GENZ \t\t Attempt:  2 / 5 \n"
     ]
    },
    {
     "name": "stderr",
     "output_type": "stream",
     "text": [
      "Warning message in download.file(paste(yahoo.URL, \"s=\", Symbols.name, \"&a=\", from.m, :\n",
      "\"cannot open URL 'http://ichart.finance.yahoo.com/table.csv?s=GENZ&a=0&b=13&c=2005&d=1&e=21&f=2017&g=d&q=q&y=0&z=GENZ&x=.csv': HTTP status was '404 Not Found'\""
     ]
    },
    {
     "name": "stdout",
     "output_type": "stream",
     "text": [
      "<simpleError in download.file(paste(yahoo.URL, \"s=\", Symbols.name, \"&a=\", from.m,     \"&b=\", sprintf(\"%.2d\", from.d), \"&c=\", from.y, \"&d=\", to.m,     \"&e=\", sprintf(\"%.2d\", to.d), \"&f=\", to.y, \"&g=d&q=q&y=0\",     \"&z=\", Symbols.name, \"&x=.csv\", sep = \"\"), destfile = tmp,     quiet = !verbose): cannot open URL 'http://ichart.finance.yahoo.com/table.csv?s=GENZ&a=0&b=13&c=2005&d=1&e=21&f=2017&g=d&q=q&y=0&z=GENZ&x=.csv'>\n",
      "( 201 / 499 )  Downloading  GENZ \t\t Attempt:  3 / 5 \n"
     ]
    },
    {
     "name": "stderr",
     "output_type": "stream",
     "text": [
      "Warning message in download.file(paste(yahoo.URL, \"s=\", Symbols.name, \"&a=\", from.m, :\n",
      "\"cannot open URL 'http://ichart.finance.yahoo.com/table.csv?s=GENZ&a=0&b=13&c=2005&d=1&e=21&f=2017&g=d&q=q&y=0&z=GENZ&x=.csv': HTTP status was '404 Not Found'\""
     ]
    },
    {
     "name": "stdout",
     "output_type": "stream",
     "text": [
      "<simpleError in download.file(paste(yahoo.URL, \"s=\", Symbols.name, \"&a=\", from.m,     \"&b=\", sprintf(\"%.2d\", from.d), \"&c=\", from.y, \"&d=\", to.m,     \"&e=\", sprintf(\"%.2d\", to.d), \"&f=\", to.y, \"&g=d&q=q&y=0\",     \"&z=\", Symbols.name, \"&x=.csv\", sep = \"\"), destfile = tmp,     quiet = !verbose): cannot open URL 'http://ichart.finance.yahoo.com/table.csv?s=GENZ&a=0&b=13&c=2005&d=1&e=21&f=2017&g=d&q=q&y=0&z=GENZ&x=.csv'>\n",
      "( 201 / 499 )  Downloading  GENZ \t\t Attempt:  4 / 5 \n"
     ]
    },
    {
     "name": "stderr",
     "output_type": "stream",
     "text": [
      "Warning message in download.file(paste(yahoo.URL, \"s=\", Symbols.name, \"&a=\", from.m, :\n",
      "\"cannot open URL 'http://ichart.finance.yahoo.com/table.csv?s=GENZ&a=0&b=13&c=2005&d=1&e=21&f=2017&g=d&q=q&y=0&z=GENZ&x=.csv': HTTP status was '404 Not Found'\""
     ]
    },
    {
     "name": "stdout",
     "output_type": "stream",
     "text": [
      "<simpleError in download.file(paste(yahoo.URL, \"s=\", Symbols.name, \"&a=\", from.m,     \"&b=\", sprintf(\"%.2d\", from.d), \"&c=\", from.y, \"&d=\", to.m,     \"&e=\", sprintf(\"%.2d\", to.d), \"&f=\", to.y, \"&g=d&q=q&y=0\",     \"&z=\", Symbols.name, \"&x=.csv\", sep = \"\"), destfile = tmp,     quiet = !verbose): cannot open URL 'http://ichart.finance.yahoo.com/table.csv?s=GENZ&a=0&b=13&c=2005&d=1&e=21&f=2017&g=d&q=q&y=0&z=GENZ&x=.csv'>\n",
      "( 201 / 499 )  Downloading  GENZ \t\t Attempt:  5 / 5 \n"
     ]
    },
    {
     "name": "stderr",
     "output_type": "stream",
     "text": [
      "Warning message in download.file(paste(yahoo.URL, \"s=\", Symbols.name, \"&a=\", from.m, :\n",
      "\"cannot open URL 'http://ichart.finance.yahoo.com/table.csv?s=GENZ&a=0&b=13&c=2005&d=1&e=21&f=2017&g=d&q=q&y=0&z=GENZ&x=.csv': HTTP status was '404 Not Found'\""
     ]
    },
    {
     "name": "stdout",
     "output_type": "stream",
     "text": [
      "<simpleError in download.file(paste(yahoo.URL, \"s=\", Symbols.name, \"&a=\", from.m,     \"&b=\", sprintf(\"%.2d\", from.d), \"&c=\", from.y, \"&d=\", to.m,     \"&e=\", sprintf(\"%.2d\", to.d), \"&f=\", to.y, \"&g=d&q=q&y=0\",     \"&z=\", Symbols.name, \"&x=.csv\", sep = \"\"), destfile = tmp,     quiet = !verbose): cannot open URL 'http://ichart.finance.yahoo.com/table.csv?s=GENZ&a=0&b=13&c=2005&d=1&e=21&f=2017&g=d&q=q&y=0&z=GENZ&x=.csv'>\n",
      "( 202 / 499 )  Downloading  GILD \t\t Attempt:  1 / 5 \n",
      "( 203 / 499 )  Downloading  GS \t\t Attempt:  1 / 5 \n",
      "( 204 / 499 )  Downloading  GR \t\t Attempt:  1 / 5 \n",
      "( 205 / 499 )  Downloading  GT \t\t Attempt:  1 / 5 \n",
      "( 206 / 499 )  Downloading  GOOG \t\t Attempt:  1 / 5 \n",
      "( 207 / 499 )  Downloading  GWW \t\t Attempt:  1 / 5 \n",
      "( 208 / 499 )  Downloading  HAL \t\t Attempt:  1 / 5 \n",
      "( 209 / 499 )  Downloading  HOG \t\t Attempt:  1 / 5 \n",
      "( 210 / 499 )  Downloading  HAR \t\t Attempt:  1 / 5 \n",
      "( 211 / 499 )  Downloading  HRS \t\t Attempt:  1 / 5 \n",
      "( 212 / 499 )  Downloading  HIG \t\t Attempt:  1 / 5 \n",
      "( 213 / 499 )  Downloading  HAS \t\t Attempt:  1 / 5 \n",
      "( 214 / 499 )  Downloading  HCP \t\t Attempt:  1 / 5 \n",
      "( 215 / 499 )  Downloading  HCN \t\t Attempt:  1 / 5 \n",
      "( 216 / 499 )  Downloading  HNZ \t\t Attempt:  1 / 5 \n",
      "( 217 / 499 )  Downloading  HP \t\t Attempt:  1 / 5 \n",
      "( 218 / 499 )  Downloading  HES \t\t Attempt:  1 / 5 \n",
      "( 219 / 499 )  Downloading  HPQ \t\t Attempt:  1 / 5 \n",
      "( 220 / 499 )  Downloading  HD \t\t Attempt:  1 / 5 \n",
      "( 221 / 499 )  Downloading  HON \t\t Attempt:  1 / 5 \n",
      "( 222 / 499 )  Downloading  HRL \t\t Attempt:  1 / 5 \n",
      "( 223 / 499 )  Downloading  HSP \t\t Attempt:  1 / 5 \n"
     ]
    },
    {
     "name": "stderr",
     "output_type": "stream",
     "text": [
      "Warning message in download.file(paste(yahoo.URL, \"s=\", Symbols.name, \"&a=\", from.m, :\n",
      "\"cannot open URL 'http://ichart.finance.yahoo.com/table.csv?s=HSP&a=0&b=13&c=2005&d=1&e=21&f=2017&g=d&q=q&y=0&z=HSP&x=.csv': HTTP status was '404 Not Found'\""
     ]
    },
    {
     "name": "stdout",
     "output_type": "stream",
     "text": [
      "<simpleError in download.file(paste(yahoo.URL, \"s=\", Symbols.name, \"&a=\", from.m,     \"&b=\", sprintf(\"%.2d\", from.d), \"&c=\", from.y, \"&d=\", to.m,     \"&e=\", sprintf(\"%.2d\", to.d), \"&f=\", to.y, \"&g=d&q=q&y=0\",     \"&z=\", Symbols.name, \"&x=.csv\", sep = \"\"), destfile = tmp,     quiet = !verbose): cannot open URL 'http://ichart.finance.yahoo.com/table.csv?s=HSP&a=0&b=13&c=2005&d=1&e=21&f=2017&g=d&q=q&y=0&z=HSP&x=.csv'>\n",
      "( 223 / 499 )  Downloading  HSP \t\t Attempt:  2 / 5 \n"
     ]
    },
    {
     "name": "stderr",
     "output_type": "stream",
     "text": [
      "Warning message in download.file(paste(yahoo.URL, \"s=\", Symbols.name, \"&a=\", from.m, :\n",
      "\"cannot open URL 'http://ichart.finance.yahoo.com/table.csv?s=HSP&a=0&b=13&c=2005&d=1&e=21&f=2017&g=d&q=q&y=0&z=HSP&x=.csv': HTTP status was '404 Not Found'\""
     ]
    },
    {
     "name": "stdout",
     "output_type": "stream",
     "text": [
      "<simpleError in download.file(paste(yahoo.URL, \"s=\", Symbols.name, \"&a=\", from.m,     \"&b=\", sprintf(\"%.2d\", from.d), \"&c=\", from.y, \"&d=\", to.m,     \"&e=\", sprintf(\"%.2d\", to.d), \"&f=\", to.y, \"&g=d&q=q&y=0\",     \"&z=\", Symbols.name, \"&x=.csv\", sep = \"\"), destfile = tmp,     quiet = !verbose): cannot open URL 'http://ichart.finance.yahoo.com/table.csv?s=HSP&a=0&b=13&c=2005&d=1&e=21&f=2017&g=d&q=q&y=0&z=HSP&x=.csv'>\n",
      "( 223 / 499 )  Downloading  HSP \t\t Attempt:  3 / 5 \n"
     ]
    },
    {
     "name": "stderr",
     "output_type": "stream",
     "text": [
      "Warning message in download.file(paste(yahoo.URL, \"s=\", Symbols.name, \"&a=\", from.m, :\n",
      "\"cannot open URL 'http://ichart.finance.yahoo.com/table.csv?s=HSP&a=0&b=13&c=2005&d=1&e=21&f=2017&g=d&q=q&y=0&z=HSP&x=.csv': HTTP status was '404 Not Found'\""
     ]
    },
    {
     "name": "stdout",
     "output_type": "stream",
     "text": [
      "<simpleError in download.file(paste(yahoo.URL, \"s=\", Symbols.name, \"&a=\", from.m,     \"&b=\", sprintf(\"%.2d\", from.d), \"&c=\", from.y, \"&d=\", to.m,     \"&e=\", sprintf(\"%.2d\", to.d), \"&f=\", to.y, \"&g=d&q=q&y=0\",     \"&z=\", Symbols.name, \"&x=.csv\", sep = \"\"), destfile = tmp,     quiet = !verbose): cannot open URL 'http://ichart.finance.yahoo.com/table.csv?s=HSP&a=0&b=13&c=2005&d=1&e=21&f=2017&g=d&q=q&y=0&z=HSP&x=.csv'>\n",
      "( 223 / 499 )  Downloading  HSP \t\t Attempt:  4 / 5 \n"
     ]
    },
    {
     "name": "stderr",
     "output_type": "stream",
     "text": [
      "Warning message in download.file(paste(yahoo.URL, \"s=\", Symbols.name, \"&a=\", from.m, :\n",
      "\"cannot open URL 'http://ichart.finance.yahoo.com/table.csv?s=HSP&a=0&b=13&c=2005&d=1&e=21&f=2017&g=d&q=q&y=0&z=HSP&x=.csv': HTTP status was '404 Not Found'\""
     ]
    },
    {
     "name": "stdout",
     "output_type": "stream",
     "text": [
      "<simpleError in download.file(paste(yahoo.URL, \"s=\", Symbols.name, \"&a=\", from.m,     \"&b=\", sprintf(\"%.2d\", from.d), \"&c=\", from.y, \"&d=\", to.m,     \"&e=\", sprintf(\"%.2d\", to.d), \"&f=\", to.y, \"&g=d&q=q&y=0\",     \"&z=\", Symbols.name, \"&x=.csv\", sep = \"\"), destfile = tmp,     quiet = !verbose): cannot open URL 'http://ichart.finance.yahoo.com/table.csv?s=HSP&a=0&b=13&c=2005&d=1&e=21&f=2017&g=d&q=q&y=0&z=HSP&x=.csv'>\n",
      "( 223 / 499 )  Downloading  HSP \t\t Attempt:  5 / 5 \n"
     ]
    },
    {
     "name": "stderr",
     "output_type": "stream",
     "text": [
      "Warning message in download.file(paste(yahoo.URL, \"s=\", Symbols.name, \"&a=\", from.m, :\n",
      "\"cannot open URL 'http://ichart.finance.yahoo.com/table.csv?s=HSP&a=0&b=13&c=2005&d=1&e=21&f=2017&g=d&q=q&y=0&z=HSP&x=.csv': HTTP status was '404 Not Found'\""
     ]
    },
    {
     "name": "stdout",
     "output_type": "stream",
     "text": [
      "<simpleError in download.file(paste(yahoo.URL, \"s=\", Symbols.name, \"&a=\", from.m,     \"&b=\", sprintf(\"%.2d\", from.d), \"&c=\", from.y, \"&d=\", to.m,     \"&e=\", sprintf(\"%.2d\", to.d), \"&f=\", to.y, \"&g=d&q=q&y=0\",     \"&z=\", Symbols.name, \"&x=.csv\", sep = \"\"), destfile = tmp,     quiet = !verbose): cannot open URL 'http://ichart.finance.yahoo.com/table.csv?s=HSP&a=0&b=13&c=2005&d=1&e=21&f=2017&g=d&q=q&y=0&z=HSP&x=.csv'>\n",
      "( 224 / 499 )  Downloading  HST \t\t Attempt:  1 / 5 \n",
      "( 225 / 499 )  Downloading  HCBK \t\t Attempt:  1 / 5 \n"
     ]
    },
    {
     "name": "stderr",
     "output_type": "stream",
     "text": [
      "Warning message in download.file(paste(yahoo.URL, \"s=\", Symbols.name, \"&a=\", from.m, :\n",
      "\"cannot open URL 'http://ichart.finance.yahoo.com/table.csv?s=HCBK&a=0&b=13&c=2005&d=1&e=21&f=2017&g=d&q=q&y=0&z=HCBK&x=.csv': HTTP status was '404 Not Found'\""
     ]
    },
    {
     "name": "stdout",
     "output_type": "stream",
     "text": [
      "<simpleError in download.file(paste(yahoo.URL, \"s=\", Symbols.name, \"&a=\", from.m,     \"&b=\", sprintf(\"%.2d\", from.d), \"&c=\", from.y, \"&d=\", to.m,     \"&e=\", sprintf(\"%.2d\", to.d), \"&f=\", to.y, \"&g=d&q=q&y=0\",     \"&z=\", Symbols.name, \"&x=.csv\", sep = \"\"), destfile = tmp,     quiet = !verbose): cannot open URL 'http://ichart.finance.yahoo.com/table.csv?s=HCBK&a=0&b=13&c=2005&d=1&e=21&f=2017&g=d&q=q&y=0&z=HCBK&x=.csv'>\n",
      "( 225 / 499 )  Downloading  HCBK \t\t Attempt:  2 / 5 \n"
     ]
    },
    {
     "name": "stderr",
     "output_type": "stream",
     "text": [
      "Warning message in download.file(paste(yahoo.URL, \"s=\", Symbols.name, \"&a=\", from.m, :\n",
      "\"cannot open URL 'http://ichart.finance.yahoo.com/table.csv?s=HCBK&a=0&b=13&c=2005&d=1&e=21&f=2017&g=d&q=q&y=0&z=HCBK&x=.csv': HTTP status was '404 Not Found'\""
     ]
    },
    {
     "name": "stdout",
     "output_type": "stream",
     "text": [
      "<simpleError in download.file(paste(yahoo.URL, \"s=\", Symbols.name, \"&a=\", from.m,     \"&b=\", sprintf(\"%.2d\", from.d), \"&c=\", from.y, \"&d=\", to.m,     \"&e=\", sprintf(\"%.2d\", to.d), \"&f=\", to.y, \"&g=d&q=q&y=0\",     \"&z=\", Symbols.name, \"&x=.csv\", sep = \"\"), destfile = tmp,     quiet = !verbose): cannot open URL 'http://ichart.finance.yahoo.com/table.csv?s=HCBK&a=0&b=13&c=2005&d=1&e=21&f=2017&g=d&q=q&y=0&z=HCBK&x=.csv'>\n",
      "( 225 / 499 )  Downloading  HCBK \t\t Attempt:  3 / 5 \n"
     ]
    },
    {
     "name": "stderr",
     "output_type": "stream",
     "text": [
      "Warning message in download.file(paste(yahoo.URL, \"s=\", Symbols.name, \"&a=\", from.m, :\n",
      "\"cannot open URL 'http://ichart.finance.yahoo.com/table.csv?s=HCBK&a=0&b=13&c=2005&d=1&e=21&f=2017&g=d&q=q&y=0&z=HCBK&x=.csv': HTTP status was '404 Not Found'\""
     ]
    },
    {
     "name": "stdout",
     "output_type": "stream",
     "text": [
      "<simpleError in download.file(paste(yahoo.URL, \"s=\", Symbols.name, \"&a=\", from.m,     \"&b=\", sprintf(\"%.2d\", from.d), \"&c=\", from.y, \"&d=\", to.m,     \"&e=\", sprintf(\"%.2d\", to.d), \"&f=\", to.y, \"&g=d&q=q&y=0\",     \"&z=\", Symbols.name, \"&x=.csv\", sep = \"\"), destfile = tmp,     quiet = !verbose): cannot open URL 'http://ichart.finance.yahoo.com/table.csv?s=HCBK&a=0&b=13&c=2005&d=1&e=21&f=2017&g=d&q=q&y=0&z=HCBK&x=.csv'>\n",
      "( 225 / 499 )  Downloading  HCBK \t\t Attempt:  4 / 5 \n"
     ]
    },
    {
     "name": "stderr",
     "output_type": "stream",
     "text": [
      "Warning message in download.file(paste(yahoo.URL, \"s=\", Symbols.name, \"&a=\", from.m, :\n",
      "\"cannot open URL 'http://ichart.finance.yahoo.com/table.csv?s=HCBK&a=0&b=13&c=2005&d=1&e=21&f=2017&g=d&q=q&y=0&z=HCBK&x=.csv': HTTP status was '404 Not Found'\""
     ]
    },
    {
     "name": "stdout",
     "output_type": "stream",
     "text": [
      "<simpleError in download.file(paste(yahoo.URL, \"s=\", Symbols.name, \"&a=\", from.m,     \"&b=\", sprintf(\"%.2d\", from.d), \"&c=\", from.y, \"&d=\", to.m,     \"&e=\", sprintf(\"%.2d\", to.d), \"&f=\", to.y, \"&g=d&q=q&y=0\",     \"&z=\", Symbols.name, \"&x=.csv\", sep = \"\"), destfile = tmp,     quiet = !verbose): cannot open URL 'http://ichart.finance.yahoo.com/table.csv?s=HCBK&a=0&b=13&c=2005&d=1&e=21&f=2017&g=d&q=q&y=0&z=HCBK&x=.csv'>\n",
      "( 225 / 499 )  Downloading  HCBK \t\t Attempt:  5 / 5 \n"
     ]
    },
    {
     "name": "stderr",
     "output_type": "stream",
     "text": [
      "Warning message in download.file(paste(yahoo.URL, \"s=\", Symbols.name, \"&a=\", from.m, :\n",
      "\"cannot open URL 'http://ichart.finance.yahoo.com/table.csv?s=HCBK&a=0&b=13&c=2005&d=1&e=21&f=2017&g=d&q=q&y=0&z=HCBK&x=.csv': HTTP status was '404 Not Found'\""
     ]
    },
    {
     "name": "stdout",
     "output_type": "stream",
     "text": [
      "<simpleError in download.file(paste(yahoo.URL, \"s=\", Symbols.name, \"&a=\", from.m,     \"&b=\", sprintf(\"%.2d\", from.d), \"&c=\", from.y, \"&d=\", to.m,     \"&e=\", sprintf(\"%.2d\", to.d), \"&f=\", to.y, \"&g=d&q=q&y=0\",     \"&z=\", Symbols.name, \"&x=.csv\", sep = \"\"), destfile = tmp,     quiet = !verbose): cannot open URL 'http://ichart.finance.yahoo.com/table.csv?s=HCBK&a=0&b=13&c=2005&d=1&e=21&f=2017&g=d&q=q&y=0&z=HCBK&x=.csv'>\n",
      "( 226 / 499 )  Downloading  HUM \t\t Attempt:  1 / 5 \n",
      "( 227 / 499 )  Downloading  HBAN \t\t Attempt:  1 / 5 \n",
      "( 228 / 499 )  Downloading  ITW \t\t Attempt:  1 / 5 \n",
      "( 229 / 499 )  Downloading  TEG \t\t Attempt:  1 / 5 \n"
     ]
    },
    {
     "name": "stderr",
     "output_type": "stream",
     "text": [
      "Warning message in download.file(paste(yahoo.URL, \"s=\", Symbols.name, \"&a=\", from.m, :\n",
      "\"cannot open URL 'http://ichart.finance.yahoo.com/table.csv?s=TEG&a=0&b=13&c=2005&d=1&e=21&f=2017&g=d&q=q&y=0&z=TEG&x=.csv': HTTP status was '404 Not Found'\""
     ]
    },
    {
     "name": "stdout",
     "output_type": "stream",
     "text": [
      "<simpleError in download.file(paste(yahoo.URL, \"s=\", Symbols.name, \"&a=\", from.m,     \"&b=\", sprintf(\"%.2d\", from.d), \"&c=\", from.y, \"&d=\", to.m,     \"&e=\", sprintf(\"%.2d\", to.d), \"&f=\", to.y, \"&g=d&q=q&y=0\",     \"&z=\", Symbols.name, \"&x=.csv\", sep = \"\"), destfile = tmp,     quiet = !verbose): cannot open URL 'http://ichart.finance.yahoo.com/table.csv?s=TEG&a=0&b=13&c=2005&d=1&e=21&f=2017&g=d&q=q&y=0&z=TEG&x=.csv'>\n",
      "( 229 / 499 )  Downloading  TEG \t\t Attempt:  2 / 5 \n"
     ]
    },
    {
     "name": "stderr",
     "output_type": "stream",
     "text": [
      "Warning message in download.file(paste(yahoo.URL, \"s=\", Symbols.name, \"&a=\", from.m, :\n",
      "\"cannot open URL 'http://ichart.finance.yahoo.com/table.csv?s=TEG&a=0&b=13&c=2005&d=1&e=21&f=2017&g=d&q=q&y=0&z=TEG&x=.csv': HTTP status was '404 Not Found'\""
     ]
    },
    {
     "name": "stdout",
     "output_type": "stream",
     "text": [
      "<simpleError in download.file(paste(yahoo.URL, \"s=\", Symbols.name, \"&a=\", from.m,     \"&b=\", sprintf(\"%.2d\", from.d), \"&c=\", from.y, \"&d=\", to.m,     \"&e=\", sprintf(\"%.2d\", to.d), \"&f=\", to.y, \"&g=d&q=q&y=0\",     \"&z=\", Symbols.name, \"&x=.csv\", sep = \"\"), destfile = tmp,     quiet = !verbose): cannot open URL 'http://ichart.finance.yahoo.com/table.csv?s=TEG&a=0&b=13&c=2005&d=1&e=21&f=2017&g=d&q=q&y=0&z=TEG&x=.csv'>\n",
      "( 229 / 499 )  Downloading  TEG \t\t Attempt:  3 / 5 \n"
     ]
    },
    {
     "name": "stderr",
     "output_type": "stream",
     "text": [
      "Warning message in download.file(paste(yahoo.URL, \"s=\", Symbols.name, \"&a=\", from.m, :\n",
      "\"cannot open URL 'http://ichart.finance.yahoo.com/table.csv?s=TEG&a=0&b=13&c=2005&d=1&e=21&f=2017&g=d&q=q&y=0&z=TEG&x=.csv': HTTP status was '404 Not Found'\""
     ]
    },
    {
     "name": "stdout",
     "output_type": "stream",
     "text": [
      "<simpleError in download.file(paste(yahoo.URL, \"s=\", Symbols.name, \"&a=\", from.m,     \"&b=\", sprintf(\"%.2d\", from.d), \"&c=\", from.y, \"&d=\", to.m,     \"&e=\", sprintf(\"%.2d\", to.d), \"&f=\", to.y, \"&g=d&q=q&y=0\",     \"&z=\", Symbols.name, \"&x=.csv\", sep = \"\"), destfile = tmp,     quiet = !verbose): cannot open URL 'http://ichart.finance.yahoo.com/table.csv?s=TEG&a=0&b=13&c=2005&d=1&e=21&f=2017&g=d&q=q&y=0&z=TEG&x=.csv'>\n",
      "( 229 / 499 )  Downloading  TEG \t\t Attempt:  4 / 5 \n"
     ]
    },
    {
     "name": "stderr",
     "output_type": "stream",
     "text": [
      "Warning message in download.file(paste(yahoo.URL, \"s=\", Symbols.name, \"&a=\", from.m, :\n",
      "\"cannot open URL 'http://ichart.finance.yahoo.com/table.csv?s=TEG&a=0&b=13&c=2005&d=1&e=21&f=2017&g=d&q=q&y=0&z=TEG&x=.csv': HTTP status was '404 Not Found'\""
     ]
    },
    {
     "name": "stdout",
     "output_type": "stream",
     "text": [
      "<simpleError in download.file(paste(yahoo.URL, \"s=\", Symbols.name, \"&a=\", from.m,     \"&b=\", sprintf(\"%.2d\", from.d), \"&c=\", from.y, \"&d=\", to.m,     \"&e=\", sprintf(\"%.2d\", to.d), \"&f=\", to.y, \"&g=d&q=q&y=0\",     \"&z=\", Symbols.name, \"&x=.csv\", sep = \"\"), destfile = tmp,     quiet = !verbose): cannot open URL 'http://ichart.finance.yahoo.com/table.csv?s=TEG&a=0&b=13&c=2005&d=1&e=21&f=2017&g=d&q=q&y=0&z=TEG&x=.csv'>\n",
      "( 229 / 499 )  Downloading  TEG \t\t Attempt:  5 / 5 \n"
     ]
    },
    {
     "name": "stderr",
     "output_type": "stream",
     "text": [
      "Warning message in download.file(paste(yahoo.URL, \"s=\", Symbols.name, \"&a=\", from.m, :\n",
      "\"cannot open URL 'http://ichart.finance.yahoo.com/table.csv?s=TEG&a=0&b=13&c=2005&d=1&e=21&f=2017&g=d&q=q&y=0&z=TEG&x=.csv': HTTP status was '404 Not Found'\""
     ]
    },
    {
     "name": "stdout",
     "output_type": "stream",
     "text": [
      "<simpleError in download.file(paste(yahoo.URL, \"s=\", Symbols.name, \"&a=\", from.m,     \"&b=\", sprintf(\"%.2d\", from.d), \"&c=\", from.y, \"&d=\", to.m,     \"&e=\", sprintf(\"%.2d\", to.d), \"&f=\", to.y, \"&g=d&q=q&y=0\",     \"&z=\", Symbols.name, \"&x=.csv\", sep = \"\"), destfile = tmp,     quiet = !verbose): cannot open URL 'http://ichart.finance.yahoo.com/table.csv?s=TEG&a=0&b=13&c=2005&d=1&e=21&f=2017&g=d&q=q&y=0&z=TEG&x=.csv'>\n",
      "( 230 / 499 )  Downloading  INTC \t\t Attempt:  1 / 5 \n",
      "( 231 / 499 )  Downloading  ICE \t\t Attempt:  1 / 5 \n",
      "( 232 / 499 )  Downloading  IBM \t\t Attempt:  1 / 5 \n",
      "( 233 / 499 )  Downloading  IFF \t\t Attempt:  1 / 5 \n",
      "( 234 / 499 )  Downloading  IGT \t\t Attempt:  1 / 5 \n",
      "( 235 / 499 )  Downloading  IP \t\t Attempt:  1 / 5 \n",
      "( 236 / 499 )  Downloading  IPG \t\t Attempt:  1 / 5 \n",
      "( 237 / 499 )  Downloading  INTU \t\t Attempt:  1 / 5 \n",
      "( 238 / 499 )  Downloading  ISRG \t\t Attempt:  1 / 5 \n",
      "( 239 / 499 )  Downloading  IVZ \t\t Attempt:  1 / 5 \n",
      "( 240 / 499 )  Downloading  IRM \t\t Attempt:  1 / 5 \n",
      "( 241 / 499 )  Downloading  ITT \t\t Attempt:  1 / 5 \n",
      "( 242 / 499 )  Downloading  JBL \t\t Attempt:  1 / 5 \n",
      "( 243 / 499 )  Downloading  JEC \t\t Attempt:  1 / 5 \n",
      "( 244 / 499 )  Downloading  JNS \t\t Attempt:  1 / 5 \n",
      "( 245 / 499 )  Downloading  JDSU \t\t Attempt:  1 / 5 \n"
     ]
    },
    {
     "name": "stderr",
     "output_type": "stream",
     "text": [
      "Warning message in download.file(paste(yahoo.URL, \"s=\", Symbols.name, \"&a=\", from.m, :\n",
      "\"cannot open URL 'http://ichart.finance.yahoo.com/table.csv?s=JDSU&a=0&b=13&c=2005&d=1&e=21&f=2017&g=d&q=q&y=0&z=JDSU&x=.csv': HTTP status was '404 Not Found'\""
     ]
    },
    {
     "name": "stdout",
     "output_type": "stream",
     "text": [
      "<simpleError in download.file(paste(yahoo.URL, \"s=\", Symbols.name, \"&a=\", from.m,     \"&b=\", sprintf(\"%.2d\", from.d), \"&c=\", from.y, \"&d=\", to.m,     \"&e=\", sprintf(\"%.2d\", to.d), \"&f=\", to.y, \"&g=d&q=q&y=0\",     \"&z=\", Symbols.name, \"&x=.csv\", sep = \"\"), destfile = tmp,     quiet = !verbose): cannot open URL 'http://ichart.finance.yahoo.com/table.csv?s=JDSU&a=0&b=13&c=2005&d=1&e=21&f=2017&g=d&q=q&y=0&z=JDSU&x=.csv'>\n",
      "( 245 / 499 )  Downloading  JDSU \t\t Attempt:  2 / 5 \n"
     ]
    },
    {
     "name": "stderr",
     "output_type": "stream",
     "text": [
      "Warning message in download.file(paste(yahoo.URL, \"s=\", Symbols.name, \"&a=\", from.m, :\n",
      "\"cannot open URL 'http://ichart.finance.yahoo.com/table.csv?s=JDSU&a=0&b=13&c=2005&d=1&e=21&f=2017&g=d&q=q&y=0&z=JDSU&x=.csv': HTTP status was '404 Not Found'\""
     ]
    },
    {
     "name": "stdout",
     "output_type": "stream",
     "text": [
      "<simpleError in download.file(paste(yahoo.URL, \"s=\", Symbols.name, \"&a=\", from.m,     \"&b=\", sprintf(\"%.2d\", from.d), \"&c=\", from.y, \"&d=\", to.m,     \"&e=\", sprintf(\"%.2d\", to.d), \"&f=\", to.y, \"&g=d&q=q&y=0\",     \"&z=\", Symbols.name, \"&x=.csv\", sep = \"\"), destfile = tmp,     quiet = !verbose): cannot open URL 'http://ichart.finance.yahoo.com/table.csv?s=JDSU&a=0&b=13&c=2005&d=1&e=21&f=2017&g=d&q=q&y=0&z=JDSU&x=.csv'>\n",
      "( 245 / 499 )  Downloading  JDSU \t\t Attempt:  3 / 5 \n"
     ]
    },
    {
     "name": "stderr",
     "output_type": "stream",
     "text": [
      "Warning message in download.file(paste(yahoo.URL, \"s=\", Symbols.name, \"&a=\", from.m, :\n",
      "\"cannot open URL 'http://ichart.finance.yahoo.com/table.csv?s=JDSU&a=0&b=13&c=2005&d=1&e=21&f=2017&g=d&q=q&y=0&z=JDSU&x=.csv': HTTP status was '404 Not Found'\""
     ]
    },
    {
     "name": "stdout",
     "output_type": "stream",
     "text": [
      "<simpleError in download.file(paste(yahoo.URL, \"s=\", Symbols.name, \"&a=\", from.m,     \"&b=\", sprintf(\"%.2d\", from.d), \"&c=\", from.y, \"&d=\", to.m,     \"&e=\", sprintf(\"%.2d\", to.d), \"&f=\", to.y, \"&g=d&q=q&y=0\",     \"&z=\", Symbols.name, \"&x=.csv\", sep = \"\"), destfile = tmp,     quiet = !verbose): cannot open URL 'http://ichart.finance.yahoo.com/table.csv?s=JDSU&a=0&b=13&c=2005&d=1&e=21&f=2017&g=d&q=q&y=0&z=JDSU&x=.csv'>\n",
      "( 245 / 499 )  Downloading  JDSU \t\t Attempt:  4 / 5 \n"
     ]
    },
    {
     "name": "stderr",
     "output_type": "stream",
     "text": [
      "Warning message in download.file(paste(yahoo.URL, \"s=\", Symbols.name, \"&a=\", from.m, :\n",
      "\"cannot open URL 'http://ichart.finance.yahoo.com/table.csv?s=JDSU&a=0&b=13&c=2005&d=1&e=21&f=2017&g=d&q=q&y=0&z=JDSU&x=.csv': HTTP status was '404 Not Found'\""
     ]
    },
    {
     "name": "stdout",
     "output_type": "stream",
     "text": [
      "<simpleError in download.file(paste(yahoo.URL, \"s=\", Symbols.name, \"&a=\", from.m,     \"&b=\", sprintf(\"%.2d\", from.d), \"&c=\", from.y, \"&d=\", to.m,     \"&e=\", sprintf(\"%.2d\", to.d), \"&f=\", to.y, \"&g=d&q=q&y=0\",     \"&z=\", Symbols.name, \"&x=.csv\", sep = \"\"), destfile = tmp,     quiet = !verbose): cannot open URL 'http://ichart.finance.yahoo.com/table.csv?s=JDSU&a=0&b=13&c=2005&d=1&e=21&f=2017&g=d&q=q&y=0&z=JDSU&x=.csv'>\n",
      "( 245 / 499 )  Downloading  JDSU \t\t Attempt:  5 / 5 \n"
     ]
    },
    {
     "name": "stderr",
     "output_type": "stream",
     "text": [
      "Warning message in download.file(paste(yahoo.URL, \"s=\", Symbols.name, \"&a=\", from.m, :\n",
      "\"cannot open URL 'http://ichart.finance.yahoo.com/table.csv?s=JDSU&a=0&b=13&c=2005&d=1&e=21&f=2017&g=d&q=q&y=0&z=JDSU&x=.csv': HTTP status was '404 Not Found'\""
     ]
    },
    {
     "name": "stdout",
     "output_type": "stream",
     "text": [
      "<simpleError in download.file(paste(yahoo.URL, \"s=\", Symbols.name, \"&a=\", from.m,     \"&b=\", sprintf(\"%.2d\", from.d), \"&c=\", from.y, \"&d=\", to.m,     \"&e=\", sprintf(\"%.2d\", to.d), \"&f=\", to.y, \"&g=d&q=q&y=0\",     \"&z=\", Symbols.name, \"&x=.csv\", sep = \"\"), destfile = tmp,     quiet = !verbose): cannot open URL 'http://ichart.finance.yahoo.com/table.csv?s=JDSU&a=0&b=13&c=2005&d=1&e=21&f=2017&g=d&q=q&y=0&z=JDSU&x=.csv'>\n",
      "( 246 / 499 )  Downloading  JNJ \t\t Attempt:  1 / 5 \n",
      "( 247 / 499 )  Downloading  JCI \t\t Attempt:  1 / 5 \n",
      "( 248 / 499 )  Downloading  JPM \t\t Attempt:  1 / 5 \n",
      "( 249 / 499 )  Downloading  JNPR \t\t Attempt:  1 / 5 \n",
      "( 250 / 499 )  Downloading  K \t\t Attempt:  1 / 5 \n",
      "( 251 / 499 )  Downloading  KEY \t\t Attempt:  1 / 5 \n",
      "( 252 / 499 )  Downloading  KMB \t\t Attempt:  1 / 5 \n",
      "( 253 / 499 )  Downloading  KIM \t\t Attempt:  1 / 5 \n",
      "( 254 / 499 )  Downloading  KG \t\t Attempt:  1 / 5 \n",
      "( 255 / 499 )  Downloading  KLAC \t\t Attempt:  1 / 5 \n",
      "( 256 / 499 )  Downloading  KSS \t\t Attempt:  1 / 5 \n",
      "( 257 / 499 )  Downloading  KFT \t\t Attempt:  1 / 5 \n"
     ]
    },
    {
     "name": "stderr",
     "output_type": "stream",
     "text": [
      "Warning message in download.file(paste(yahoo.URL, \"s=\", Symbols.name, \"&a=\", from.m, :\n",
      "\"cannot open URL 'http://ichart.finance.yahoo.com/table.csv?s=KFT&a=0&b=13&c=2005&d=1&e=21&f=2017&g=d&q=q&y=0&z=KFT&x=.csv': HTTP status was '404 Not Found'\""
     ]
    },
    {
     "name": "stdout",
     "output_type": "stream",
     "text": [
      "<simpleError in download.file(paste(yahoo.URL, \"s=\", Symbols.name, \"&a=\", from.m,     \"&b=\", sprintf(\"%.2d\", from.d), \"&c=\", from.y, \"&d=\", to.m,     \"&e=\", sprintf(\"%.2d\", to.d), \"&f=\", to.y, \"&g=d&q=q&y=0\",     \"&z=\", Symbols.name, \"&x=.csv\", sep = \"\"), destfile = tmp,     quiet = !verbose): cannot open URL 'http://ichart.finance.yahoo.com/table.csv?s=KFT&a=0&b=13&c=2005&d=1&e=21&f=2017&g=d&q=q&y=0&z=KFT&x=.csv'>\n",
      "( 257 / 499 )  Downloading  KFT \t\t Attempt:  2 / 5 \n"
     ]
    },
    {
     "name": "stderr",
     "output_type": "stream",
     "text": [
      "Warning message in download.file(paste(yahoo.URL, \"s=\", Symbols.name, \"&a=\", from.m, :\n",
      "\"cannot open URL 'http://ichart.finance.yahoo.com/table.csv?s=KFT&a=0&b=13&c=2005&d=1&e=21&f=2017&g=d&q=q&y=0&z=KFT&x=.csv': HTTP status was '404 Not Found'\""
     ]
    },
    {
     "name": "stdout",
     "output_type": "stream",
     "text": [
      "<simpleError in download.file(paste(yahoo.URL, \"s=\", Symbols.name, \"&a=\", from.m,     \"&b=\", sprintf(\"%.2d\", from.d), \"&c=\", from.y, \"&d=\", to.m,     \"&e=\", sprintf(\"%.2d\", to.d), \"&f=\", to.y, \"&g=d&q=q&y=0\",     \"&z=\", Symbols.name, \"&x=.csv\", sep = \"\"), destfile = tmp,     quiet = !verbose): cannot open URL 'http://ichart.finance.yahoo.com/table.csv?s=KFT&a=0&b=13&c=2005&d=1&e=21&f=2017&g=d&q=q&y=0&z=KFT&x=.csv'>\n",
      "( 257 / 499 )  Downloading  KFT \t\t Attempt:  3 / 5 \n"
     ]
    },
    {
     "name": "stderr",
     "output_type": "stream",
     "text": [
      "Warning message in download.file(paste(yahoo.URL, \"s=\", Symbols.name, \"&a=\", from.m, :\n",
      "\"cannot open URL 'http://ichart.finance.yahoo.com/table.csv?s=KFT&a=0&b=13&c=2005&d=1&e=21&f=2017&g=d&q=q&y=0&z=KFT&x=.csv': HTTP status was '404 Not Found'\""
     ]
    },
    {
     "name": "stdout",
     "output_type": "stream",
     "text": [
      "<simpleError in download.file(paste(yahoo.URL, \"s=\", Symbols.name, \"&a=\", from.m,     \"&b=\", sprintf(\"%.2d\", from.d), \"&c=\", from.y, \"&d=\", to.m,     \"&e=\", sprintf(\"%.2d\", to.d), \"&f=\", to.y, \"&g=d&q=q&y=0\",     \"&z=\", Symbols.name, \"&x=.csv\", sep = \"\"), destfile = tmp,     quiet = !verbose): cannot open URL 'http://ichart.finance.yahoo.com/table.csv?s=KFT&a=0&b=13&c=2005&d=1&e=21&f=2017&g=d&q=q&y=0&z=KFT&x=.csv'>\n",
      "( 257 / 499 )  Downloading  KFT \t\t Attempt:  4 / 5 \n"
     ]
    },
    {
     "name": "stderr",
     "output_type": "stream",
     "text": [
      "Warning message in download.file(paste(yahoo.URL, \"s=\", Symbols.name, \"&a=\", from.m, :\n",
      "\"cannot open URL 'http://ichart.finance.yahoo.com/table.csv?s=KFT&a=0&b=13&c=2005&d=1&e=21&f=2017&g=d&q=q&y=0&z=KFT&x=.csv': HTTP status was '404 Not Found'\""
     ]
    },
    {
     "name": "stdout",
     "output_type": "stream",
     "text": [
      "<simpleError in download.file(paste(yahoo.URL, \"s=\", Symbols.name, \"&a=\", from.m,     \"&b=\", sprintf(\"%.2d\", from.d), \"&c=\", from.y, \"&d=\", to.m,     \"&e=\", sprintf(\"%.2d\", to.d), \"&f=\", to.y, \"&g=d&q=q&y=0\",     \"&z=\", Symbols.name, \"&x=.csv\", sep = \"\"), destfile = tmp,     quiet = !verbose): cannot open URL 'http://ichart.finance.yahoo.com/table.csv?s=KFT&a=0&b=13&c=2005&d=1&e=21&f=2017&g=d&q=q&y=0&z=KFT&x=.csv'>\n",
      "( 257 / 499 )  Downloading  KFT \t\t Attempt:  5 / 5 \n"
     ]
    },
    {
     "name": "stderr",
     "output_type": "stream",
     "text": [
      "Warning message in download.file(paste(yahoo.URL, \"s=\", Symbols.name, \"&a=\", from.m, :\n",
      "\"cannot open URL 'http://ichart.finance.yahoo.com/table.csv?s=KFT&a=0&b=13&c=2005&d=1&e=21&f=2017&g=d&q=q&y=0&z=KFT&x=.csv': HTTP status was '404 Not Found'\""
     ]
    },
    {
     "name": "stdout",
     "output_type": "stream",
     "text": [
      "<simpleError in download.file(paste(yahoo.URL, \"s=\", Symbols.name, \"&a=\", from.m,     \"&b=\", sprintf(\"%.2d\", from.d), \"&c=\", from.y, \"&d=\", to.m,     \"&e=\", sprintf(\"%.2d\", to.d), \"&f=\", to.y, \"&g=d&q=q&y=0\",     \"&z=\", Symbols.name, \"&x=.csv\", sep = \"\"), destfile = tmp,     quiet = !verbose): cannot open URL 'http://ichart.finance.yahoo.com/table.csv?s=KFT&a=0&b=13&c=2005&d=1&e=21&f=2017&g=d&q=q&y=0&z=KFT&x=.csv'>\n",
      "( 258 / 499 )  Downloading  KR \t\t Attempt:  1 / 5 \n",
      "( 259 / 499 )  Downloading  LLL \t\t Attempt:  1 / 5 \n",
      "( 260 / 499 )  Downloading  LH \t\t Attempt:  1 / 5 \n",
      "( 261 / 499 )  Downloading  LM \t\t Attempt:  1 / 5 \n",
      "( 262 / 499 )  Downloading  LEG \t\t Attempt:  1 / 5 \n",
      "( 263 / 499 )  Downloading  LEN \t\t Attempt:  1 / 5 \n",
      "( 264 / 499 )  Downloading  LUK \t\t Attempt:  1 / 5 \n",
      "( 265 / 499 )  Downloading  LXK \t\t Attempt:  1 / 5 \n",
      "( 266 / 499 )  Downloading  LIFE \t\t Attempt:  1 / 5 \n",
      "( 267 / 499 )  Downloading  LLY \t\t Attempt:  1 / 5 \n",
      "( 268 / 499 )  Downloading  LTD \t\t Attempt:  1 / 5 \n",
      "( 269 / 499 )  Downloading  LNC \t\t Attempt:  1 / 5 \n",
      "( 270 / 499 )  Downloading  LLTC \t\t Attempt:  1 / 5 \n",
      "( 271 / 499 )  Downloading  LMT \t\t Attempt:  1 / 5 \n",
      "( 272 / 499 )  Downloading  L \t\t Attempt:  1 / 5 \n",
      "( 273 / 499 )  Downloading  LO \t\t Attempt:  1 / 5 \n"
     ]
    },
    {
     "name": "stderr",
     "output_type": "stream",
     "text": [
      "Warning message in download.file(paste(yahoo.URL, \"s=\", Symbols.name, \"&a=\", from.m, :\n",
      "\"cannot open URL 'http://ichart.finance.yahoo.com/table.csv?s=LO&a=0&b=13&c=2005&d=1&e=21&f=2017&g=d&q=q&y=0&z=LO&x=.csv': HTTP status was '404 Not Found'\""
     ]
    },
    {
     "name": "stdout",
     "output_type": "stream",
     "text": [
      "<simpleError in download.file(paste(yahoo.URL, \"s=\", Symbols.name, \"&a=\", from.m,     \"&b=\", sprintf(\"%.2d\", from.d), \"&c=\", from.y, \"&d=\", to.m,     \"&e=\", sprintf(\"%.2d\", to.d), \"&f=\", to.y, \"&g=d&q=q&y=0\",     \"&z=\", Symbols.name, \"&x=.csv\", sep = \"\"), destfile = tmp,     quiet = !verbose): cannot open URL 'http://ichart.finance.yahoo.com/table.csv?s=LO&a=0&b=13&c=2005&d=1&e=21&f=2017&g=d&q=q&y=0&z=LO&x=.csv'>\n",
      "( 273 / 499 )  Downloading  LO \t\t Attempt:  2 / 5 \n"
     ]
    },
    {
     "name": "stderr",
     "output_type": "stream",
     "text": [
      "Warning message in download.file(paste(yahoo.URL, \"s=\", Symbols.name, \"&a=\", from.m, :\n",
      "\"cannot open URL 'http://ichart.finance.yahoo.com/table.csv?s=LO&a=0&b=13&c=2005&d=1&e=21&f=2017&g=d&q=q&y=0&z=LO&x=.csv': HTTP status was '404 Not Found'\""
     ]
    },
    {
     "name": "stdout",
     "output_type": "stream",
     "text": [
      "<simpleError in download.file(paste(yahoo.URL, \"s=\", Symbols.name, \"&a=\", from.m,     \"&b=\", sprintf(\"%.2d\", from.d), \"&c=\", from.y, \"&d=\", to.m,     \"&e=\", sprintf(\"%.2d\", to.d), \"&f=\", to.y, \"&g=d&q=q&y=0\",     \"&z=\", Symbols.name, \"&x=.csv\", sep = \"\"), destfile = tmp,     quiet = !verbose): cannot open URL 'http://ichart.finance.yahoo.com/table.csv?s=LO&a=0&b=13&c=2005&d=1&e=21&f=2017&g=d&q=q&y=0&z=LO&x=.csv'>\n",
      "( 273 / 499 )  Downloading  LO \t\t Attempt:  3 / 5 \n"
     ]
    },
    {
     "name": "stderr",
     "output_type": "stream",
     "text": [
      "Warning message in download.file(paste(yahoo.URL, \"s=\", Symbols.name, \"&a=\", from.m, :\n",
      "\"cannot open URL 'http://ichart.finance.yahoo.com/table.csv?s=LO&a=0&b=13&c=2005&d=1&e=21&f=2017&g=d&q=q&y=0&z=LO&x=.csv': HTTP status was '404 Not Found'\""
     ]
    },
    {
     "name": "stdout",
     "output_type": "stream",
     "text": [
      "<simpleError in download.file(paste(yahoo.URL, \"s=\", Symbols.name, \"&a=\", from.m,     \"&b=\", sprintf(\"%.2d\", from.d), \"&c=\", from.y, \"&d=\", to.m,     \"&e=\", sprintf(\"%.2d\", to.d), \"&f=\", to.y, \"&g=d&q=q&y=0\",     \"&z=\", Symbols.name, \"&x=.csv\", sep = \"\"), destfile = tmp,     quiet = !verbose): cannot open URL 'http://ichart.finance.yahoo.com/table.csv?s=LO&a=0&b=13&c=2005&d=1&e=21&f=2017&g=d&q=q&y=0&z=LO&x=.csv'>\n",
      "( 273 / 499 )  Downloading  LO \t\t Attempt:  4 / 5 \n"
     ]
    },
    {
     "name": "stderr",
     "output_type": "stream",
     "text": [
      "Warning message in download.file(paste(yahoo.URL, \"s=\", Symbols.name, \"&a=\", from.m, :\n",
      "\"cannot open URL 'http://ichart.finance.yahoo.com/table.csv?s=LO&a=0&b=13&c=2005&d=1&e=21&f=2017&g=d&q=q&y=0&z=LO&x=.csv': HTTP status was '404 Not Found'\""
     ]
    },
    {
     "name": "stdout",
     "output_type": "stream",
     "text": [
      "<simpleError in download.file(paste(yahoo.URL, \"s=\", Symbols.name, \"&a=\", from.m,     \"&b=\", sprintf(\"%.2d\", from.d), \"&c=\", from.y, \"&d=\", to.m,     \"&e=\", sprintf(\"%.2d\", to.d), \"&f=\", to.y, \"&g=d&q=q&y=0\",     \"&z=\", Symbols.name, \"&x=.csv\", sep = \"\"), destfile = tmp,     quiet = !verbose): cannot open URL 'http://ichart.finance.yahoo.com/table.csv?s=LO&a=0&b=13&c=2005&d=1&e=21&f=2017&g=d&q=q&y=0&z=LO&x=.csv'>\n",
      "( 273 / 499 )  Downloading  LO \t\t Attempt:  5 / 5 \n"
     ]
    },
    {
     "name": "stderr",
     "output_type": "stream",
     "text": [
      "Warning message in download.file(paste(yahoo.URL, \"s=\", Symbols.name, \"&a=\", from.m, :\n",
      "\"cannot open URL 'http://ichart.finance.yahoo.com/table.csv?s=LO&a=0&b=13&c=2005&d=1&e=21&f=2017&g=d&q=q&y=0&z=LO&x=.csv': HTTP status was '404 Not Found'\""
     ]
    },
    {
     "name": "stdout",
     "output_type": "stream",
     "text": [
      "<simpleError in download.file(paste(yahoo.URL, \"s=\", Symbols.name, \"&a=\", from.m,     \"&b=\", sprintf(\"%.2d\", from.d), \"&c=\", from.y, \"&d=\", to.m,     \"&e=\", sprintf(\"%.2d\", to.d), \"&f=\", to.y, \"&g=d&q=q&y=0\",     \"&z=\", Symbols.name, \"&x=.csv\", sep = \"\"), destfile = tmp,     quiet = !verbose): cannot open URL 'http://ichart.finance.yahoo.com/table.csv?s=LO&a=0&b=13&c=2005&d=1&e=21&f=2017&g=d&q=q&y=0&z=LO&x=.csv'>\n",
      "( 274 / 499 )  Downloading  LOW \t\t Attempt:  1 / 5 \n",
      "( 275 / 499 )  Downloading  LSI \t\t Attempt:  1 / 5 \n",
      "( 276 / 499 )  Downloading  MTB \t\t Attempt:  1 / 5 \n",
      "( 277 / 499 )  Downloading  M \t\t Attempt:  1 / 5 \n",
      "( 278 / 499 )  Downloading  MRO \t\t Attempt:  1 / 5 \n",
      "( 279 / 499 )  Downloading  MAR \t\t Attempt:  1 / 5 \n",
      "( 280 / 499 )  Downloading  MMC \t\t Attempt:  1 / 5 \n",
      "( 281 / 499 )  Downloading  MI \t\t Attempt:  1 / 5 \n"
     ]
    },
    {
     "name": "stderr",
     "output_type": "stream",
     "text": [
      "Warning message in download.file(paste(yahoo.URL, \"s=\", Symbols.name, \"&a=\", from.m, :\n",
      "\"cannot open URL 'http://ichart.finance.yahoo.com/table.csv?s=MI&a=0&b=13&c=2005&d=1&e=21&f=2017&g=d&q=q&y=0&z=MI&x=.csv': HTTP status was '404 Not Found'\""
     ]
    },
    {
     "name": "stdout",
     "output_type": "stream",
     "text": [
      "<simpleError in download.file(paste(yahoo.URL, \"s=\", Symbols.name, \"&a=\", from.m,     \"&b=\", sprintf(\"%.2d\", from.d), \"&c=\", from.y, \"&d=\", to.m,     \"&e=\", sprintf(\"%.2d\", to.d), \"&f=\", to.y, \"&g=d&q=q&y=0\",     \"&z=\", Symbols.name, \"&x=.csv\", sep = \"\"), destfile = tmp,     quiet = !verbose): cannot open URL 'http://ichart.finance.yahoo.com/table.csv?s=MI&a=0&b=13&c=2005&d=1&e=21&f=2017&g=d&q=q&y=0&z=MI&x=.csv'>\n",
      "( 281 / 499 )  Downloading  MI \t\t Attempt:  2 / 5 \n"
     ]
    },
    {
     "name": "stderr",
     "output_type": "stream",
     "text": [
      "Warning message in download.file(paste(yahoo.URL, \"s=\", Symbols.name, \"&a=\", from.m, :\n",
      "\"cannot open URL 'http://ichart.finance.yahoo.com/table.csv?s=MI&a=0&b=13&c=2005&d=1&e=21&f=2017&g=d&q=q&y=0&z=MI&x=.csv': HTTP status was '404 Not Found'\""
     ]
    },
    {
     "name": "stdout",
     "output_type": "stream",
     "text": [
      "<simpleError in download.file(paste(yahoo.URL, \"s=\", Symbols.name, \"&a=\", from.m,     \"&b=\", sprintf(\"%.2d\", from.d), \"&c=\", from.y, \"&d=\", to.m,     \"&e=\", sprintf(\"%.2d\", to.d), \"&f=\", to.y, \"&g=d&q=q&y=0\",     \"&z=\", Symbols.name, \"&x=.csv\", sep = \"\"), destfile = tmp,     quiet = !verbose): cannot open URL 'http://ichart.finance.yahoo.com/table.csv?s=MI&a=0&b=13&c=2005&d=1&e=21&f=2017&g=d&q=q&y=0&z=MI&x=.csv'>\n",
      "( 281 / 499 )  Downloading  MI \t\t Attempt:  3 / 5 \n"
     ]
    },
    {
     "name": "stderr",
     "output_type": "stream",
     "text": [
      "Warning message in download.file(paste(yahoo.URL, \"s=\", Symbols.name, \"&a=\", from.m, :\n",
      "\"cannot open URL 'http://ichart.finance.yahoo.com/table.csv?s=MI&a=0&b=13&c=2005&d=1&e=21&f=2017&g=d&q=q&y=0&z=MI&x=.csv': HTTP status was '404 Not Found'\""
     ]
    },
    {
     "name": "stdout",
     "output_type": "stream",
     "text": [
      "<simpleError in download.file(paste(yahoo.URL, \"s=\", Symbols.name, \"&a=\", from.m,     \"&b=\", sprintf(\"%.2d\", from.d), \"&c=\", from.y, \"&d=\", to.m,     \"&e=\", sprintf(\"%.2d\", to.d), \"&f=\", to.y, \"&g=d&q=q&y=0\",     \"&z=\", Symbols.name, \"&x=.csv\", sep = \"\"), destfile = tmp,     quiet = !verbose): cannot open URL 'http://ichart.finance.yahoo.com/table.csv?s=MI&a=0&b=13&c=2005&d=1&e=21&f=2017&g=d&q=q&y=0&z=MI&x=.csv'>\n",
      "( 281 / 499 )  Downloading  MI \t\t Attempt:  4 / 5 \n"
     ]
    },
    {
     "name": "stderr",
     "output_type": "stream",
     "text": [
      "Warning message in download.file(paste(yahoo.URL, \"s=\", Symbols.name, \"&a=\", from.m, :\n",
      "\"cannot open URL 'http://ichart.finance.yahoo.com/table.csv?s=MI&a=0&b=13&c=2005&d=1&e=21&f=2017&g=d&q=q&y=0&z=MI&x=.csv': HTTP status was '404 Not Found'\""
     ]
    },
    {
     "name": "stdout",
     "output_type": "stream",
     "text": [
      "<simpleError in download.file(paste(yahoo.URL, \"s=\", Symbols.name, \"&a=\", from.m,     \"&b=\", sprintf(\"%.2d\", from.d), \"&c=\", from.y, \"&d=\", to.m,     \"&e=\", sprintf(\"%.2d\", to.d), \"&f=\", to.y, \"&g=d&q=q&y=0\",     \"&z=\", Symbols.name, \"&x=.csv\", sep = \"\"), destfile = tmp,     quiet = !verbose): cannot open URL 'http://ichart.finance.yahoo.com/table.csv?s=MI&a=0&b=13&c=2005&d=1&e=21&f=2017&g=d&q=q&y=0&z=MI&x=.csv'>\n",
      "( 281 / 499 )  Downloading  MI \t\t Attempt:  5 / 5 \n"
     ]
    },
    {
     "name": "stderr",
     "output_type": "stream",
     "text": [
      "Warning message in download.file(paste(yahoo.URL, \"s=\", Symbols.name, \"&a=\", from.m, :\n",
      "\"cannot open URL 'http://ichart.finance.yahoo.com/table.csv?s=MI&a=0&b=13&c=2005&d=1&e=21&f=2017&g=d&q=q&y=0&z=MI&x=.csv': HTTP status was '404 Not Found'\""
     ]
    },
    {
     "name": "stdout",
     "output_type": "stream",
     "text": [
      "<simpleError in download.file(paste(yahoo.URL, \"s=\", Symbols.name, \"&a=\", from.m,     \"&b=\", sprintf(\"%.2d\", from.d), \"&c=\", from.y, \"&d=\", to.m,     \"&e=\", sprintf(\"%.2d\", to.d), \"&f=\", to.y, \"&g=d&q=q&y=0\",     \"&z=\", Symbols.name, \"&x=.csv\", sep = \"\"), destfile = tmp,     quiet = !verbose): cannot open URL 'http://ichart.finance.yahoo.com/table.csv?s=MI&a=0&b=13&c=2005&d=1&e=21&f=2017&g=d&q=q&y=0&z=MI&x=.csv'>\n",
      "( 282 / 499 )  Downloading  MAS \t\t Attempt:  1 / 5 \n",
      "( 283 / 499 )  Downloading  MEE \t\t Attempt:  1 / 5 \n",
      "( 284 / 499 )  Downloading  MA \t\t Attempt:  1 / 5 \n",
      "( 285 / 499 )  Downloading  MAT \t\t Attempt:  1 / 5 \n",
      "( 286 / 499 )  Downloading  MFE \t\t Attempt:  1 / 5 \n"
     ]
    },
    {
     "name": "stderr",
     "output_type": "stream",
     "text": [
      "Warning message in download.file(paste(yahoo.URL, \"s=\", Symbols.name, \"&a=\", from.m, :\n",
      "\"cannot open URL 'http://ichart.finance.yahoo.com/table.csv?s=MFE&a=0&b=13&c=2005&d=1&e=21&f=2017&g=d&q=q&y=0&z=MFE&x=.csv': HTTP status was '404 Not Found'\""
     ]
    },
    {
     "name": "stdout",
     "output_type": "stream",
     "text": [
      "<simpleError in download.file(paste(yahoo.URL, \"s=\", Symbols.name, \"&a=\", from.m,     \"&b=\", sprintf(\"%.2d\", from.d), \"&c=\", from.y, \"&d=\", to.m,     \"&e=\", sprintf(\"%.2d\", to.d), \"&f=\", to.y, \"&g=d&q=q&y=0\",     \"&z=\", Symbols.name, \"&x=.csv\", sep = \"\"), destfile = tmp,     quiet = !verbose): cannot open URL 'http://ichart.finance.yahoo.com/table.csv?s=MFE&a=0&b=13&c=2005&d=1&e=21&f=2017&g=d&q=q&y=0&z=MFE&x=.csv'>\n",
      "( 286 / 499 )  Downloading  MFE \t\t Attempt:  2 / 5 \n"
     ]
    },
    {
     "name": "stderr",
     "output_type": "stream",
     "text": [
      "Warning message in download.file(paste(yahoo.URL, \"s=\", Symbols.name, \"&a=\", from.m, :\n",
      "\"cannot open URL 'http://ichart.finance.yahoo.com/table.csv?s=MFE&a=0&b=13&c=2005&d=1&e=21&f=2017&g=d&q=q&y=0&z=MFE&x=.csv': HTTP status was '404 Not Found'\""
     ]
    },
    {
     "name": "stdout",
     "output_type": "stream",
     "text": [
      "<simpleError in download.file(paste(yahoo.URL, \"s=\", Symbols.name, \"&a=\", from.m,     \"&b=\", sprintf(\"%.2d\", from.d), \"&c=\", from.y, \"&d=\", to.m,     \"&e=\", sprintf(\"%.2d\", to.d), \"&f=\", to.y, \"&g=d&q=q&y=0\",     \"&z=\", Symbols.name, \"&x=.csv\", sep = \"\"), destfile = tmp,     quiet = !verbose): cannot open URL 'http://ichart.finance.yahoo.com/table.csv?s=MFE&a=0&b=13&c=2005&d=1&e=21&f=2017&g=d&q=q&y=0&z=MFE&x=.csv'>\n",
      "( 286 / 499 )  Downloading  MFE \t\t Attempt:  3 / 5 \n"
     ]
    },
    {
     "name": "stderr",
     "output_type": "stream",
     "text": [
      "Warning message in download.file(paste(yahoo.URL, \"s=\", Symbols.name, \"&a=\", from.m, :\n",
      "\"cannot open URL 'http://ichart.finance.yahoo.com/table.csv?s=MFE&a=0&b=13&c=2005&d=1&e=21&f=2017&g=d&q=q&y=0&z=MFE&x=.csv': HTTP status was '404 Not Found'\""
     ]
    },
    {
     "name": "stdout",
     "output_type": "stream",
     "text": [
      "<simpleError in download.file(paste(yahoo.URL, \"s=\", Symbols.name, \"&a=\", from.m,     \"&b=\", sprintf(\"%.2d\", from.d), \"&c=\", from.y, \"&d=\", to.m,     \"&e=\", sprintf(\"%.2d\", to.d), \"&f=\", to.y, \"&g=d&q=q&y=0\",     \"&z=\", Symbols.name, \"&x=.csv\", sep = \"\"), destfile = tmp,     quiet = !verbose): cannot open URL 'http://ichart.finance.yahoo.com/table.csv?s=MFE&a=0&b=13&c=2005&d=1&e=21&f=2017&g=d&q=q&y=0&z=MFE&x=.csv'>\n",
      "( 286 / 499 )  Downloading  MFE \t\t Attempt:  4 / 5 \n"
     ]
    },
    {
     "name": "stderr",
     "output_type": "stream",
     "text": [
      "Warning message in download.file(paste(yahoo.URL, \"s=\", Symbols.name, \"&a=\", from.m, :\n",
      "\"cannot open URL 'http://ichart.finance.yahoo.com/table.csv?s=MFE&a=0&b=13&c=2005&d=1&e=21&f=2017&g=d&q=q&y=0&z=MFE&x=.csv': HTTP status was '404 Not Found'\""
     ]
    },
    {
     "name": "stdout",
     "output_type": "stream",
     "text": [
      "<simpleError in download.file(paste(yahoo.URL, \"s=\", Symbols.name, \"&a=\", from.m,     \"&b=\", sprintf(\"%.2d\", from.d), \"&c=\", from.y, \"&d=\", to.m,     \"&e=\", sprintf(\"%.2d\", to.d), \"&f=\", to.y, \"&g=d&q=q&y=0\",     \"&z=\", Symbols.name, \"&x=.csv\", sep = \"\"), destfile = tmp,     quiet = !verbose): cannot open URL 'http://ichart.finance.yahoo.com/table.csv?s=MFE&a=0&b=13&c=2005&d=1&e=21&f=2017&g=d&q=q&y=0&z=MFE&x=.csv'>\n",
      "( 286 / 499 )  Downloading  MFE \t\t Attempt:  5 / 5 \n"
     ]
    },
    {
     "name": "stderr",
     "output_type": "stream",
     "text": [
      "Warning message in download.file(paste(yahoo.URL, \"s=\", Symbols.name, \"&a=\", from.m, :\n",
      "\"cannot open URL 'http://ichart.finance.yahoo.com/table.csv?s=MFE&a=0&b=13&c=2005&d=1&e=21&f=2017&g=d&q=q&y=0&z=MFE&x=.csv': HTTP status was '404 Not Found'\""
     ]
    },
    {
     "name": "stdout",
     "output_type": "stream",
     "text": [
      "<simpleError in download.file(paste(yahoo.URL, \"s=\", Symbols.name, \"&a=\", from.m,     \"&b=\", sprintf(\"%.2d\", from.d), \"&c=\", from.y, \"&d=\", to.m,     \"&e=\", sprintf(\"%.2d\", to.d), \"&f=\", to.y, \"&g=d&q=q&y=0\",     \"&z=\", Symbols.name, \"&x=.csv\", sep = \"\"), destfile = tmp,     quiet = !verbose): cannot open URL 'http://ichart.finance.yahoo.com/table.csv?s=MFE&a=0&b=13&c=2005&d=1&e=21&f=2017&g=d&q=q&y=0&z=MFE&x=.csv'>\n",
      "( 287 / 499 )  Downloading  MKC \t\t Attempt:  1 / 5 \n",
      "( 288 / 499 )  Downloading  MCD \t\t Attempt:  1 / 5 \n",
      "( 289 / 499 )  Downloading  MHP \t\t Attempt:  1 / 5 \n"
     ]
    },
    {
     "name": "stderr",
     "output_type": "stream",
     "text": [
      "Warning message in download.file(paste(yahoo.URL, \"s=\", Symbols.name, \"&a=\", from.m, :\n",
      "\"cannot open URL 'http://ichart.finance.yahoo.com/table.csv?s=MHP&a=0&b=13&c=2005&d=1&e=21&f=2017&g=d&q=q&y=0&z=MHP&x=.csv': HTTP status was '404 Not Found'\""
     ]
    },
    {
     "name": "stdout",
     "output_type": "stream",
     "text": [
      "<simpleError in download.file(paste(yahoo.URL, \"s=\", Symbols.name, \"&a=\", from.m,     \"&b=\", sprintf(\"%.2d\", from.d), \"&c=\", from.y, \"&d=\", to.m,     \"&e=\", sprintf(\"%.2d\", to.d), \"&f=\", to.y, \"&g=d&q=q&y=0\",     \"&z=\", Symbols.name, \"&x=.csv\", sep = \"\"), destfile = tmp,     quiet = !verbose): cannot open URL 'http://ichart.finance.yahoo.com/table.csv?s=MHP&a=0&b=13&c=2005&d=1&e=21&f=2017&g=d&q=q&y=0&z=MHP&x=.csv'>\n",
      "( 289 / 499 )  Downloading  MHP \t\t Attempt:  2 / 5 \n"
     ]
    },
    {
     "name": "stderr",
     "output_type": "stream",
     "text": [
      "Warning message in download.file(paste(yahoo.URL, \"s=\", Symbols.name, \"&a=\", from.m, :\n",
      "\"cannot open URL 'http://ichart.finance.yahoo.com/table.csv?s=MHP&a=0&b=13&c=2005&d=1&e=21&f=2017&g=d&q=q&y=0&z=MHP&x=.csv': HTTP status was '404 Not Found'\""
     ]
    },
    {
     "name": "stdout",
     "output_type": "stream",
     "text": [
      "<simpleError in download.file(paste(yahoo.URL, \"s=\", Symbols.name, \"&a=\", from.m,     \"&b=\", sprintf(\"%.2d\", from.d), \"&c=\", from.y, \"&d=\", to.m,     \"&e=\", sprintf(\"%.2d\", to.d), \"&f=\", to.y, \"&g=d&q=q&y=0\",     \"&z=\", Symbols.name, \"&x=.csv\", sep = \"\"), destfile = tmp,     quiet = !verbose): cannot open URL 'http://ichart.finance.yahoo.com/table.csv?s=MHP&a=0&b=13&c=2005&d=1&e=21&f=2017&g=d&q=q&y=0&z=MHP&x=.csv'>\n",
      "( 289 / 499 )  Downloading  MHP \t\t Attempt:  3 / 5 \n"
     ]
    },
    {
     "name": "stderr",
     "output_type": "stream",
     "text": [
      "Warning message in download.file(paste(yahoo.URL, \"s=\", Symbols.name, \"&a=\", from.m, :\n",
      "\"cannot open URL 'http://ichart.finance.yahoo.com/table.csv?s=MHP&a=0&b=13&c=2005&d=1&e=21&f=2017&g=d&q=q&y=0&z=MHP&x=.csv': HTTP status was '404 Not Found'\""
     ]
    },
    {
     "name": "stdout",
     "output_type": "stream",
     "text": [
      "<simpleError in download.file(paste(yahoo.URL, \"s=\", Symbols.name, \"&a=\", from.m,     \"&b=\", sprintf(\"%.2d\", from.d), \"&c=\", from.y, \"&d=\", to.m,     \"&e=\", sprintf(\"%.2d\", to.d), \"&f=\", to.y, \"&g=d&q=q&y=0\",     \"&z=\", Symbols.name, \"&x=.csv\", sep = \"\"), destfile = tmp,     quiet = !verbose): cannot open URL 'http://ichart.finance.yahoo.com/table.csv?s=MHP&a=0&b=13&c=2005&d=1&e=21&f=2017&g=d&q=q&y=0&z=MHP&x=.csv'>\n",
      "( 289 / 499 )  Downloading  MHP \t\t Attempt:  4 / 5 \n"
     ]
    },
    {
     "name": "stderr",
     "output_type": "stream",
     "text": [
      "Warning message in download.file(paste(yahoo.URL, \"s=\", Symbols.name, \"&a=\", from.m, :\n",
      "\"cannot open URL 'http://ichart.finance.yahoo.com/table.csv?s=MHP&a=0&b=13&c=2005&d=1&e=21&f=2017&g=d&q=q&y=0&z=MHP&x=.csv': HTTP status was '404 Not Found'\""
     ]
    },
    {
     "name": "stdout",
     "output_type": "stream",
     "text": [
      "<simpleError in download.file(paste(yahoo.URL, \"s=\", Symbols.name, \"&a=\", from.m,     \"&b=\", sprintf(\"%.2d\", from.d), \"&c=\", from.y, \"&d=\", to.m,     \"&e=\", sprintf(\"%.2d\", to.d), \"&f=\", to.y, \"&g=d&q=q&y=0\",     \"&z=\", Symbols.name, \"&x=.csv\", sep = \"\"), destfile = tmp,     quiet = !verbose): cannot open URL 'http://ichart.finance.yahoo.com/table.csv?s=MHP&a=0&b=13&c=2005&d=1&e=21&f=2017&g=d&q=q&y=0&z=MHP&x=.csv'>\n",
      "( 289 / 499 )  Downloading  MHP \t\t Attempt:  5 / 5 \n"
     ]
    },
    {
     "name": "stderr",
     "output_type": "stream",
     "text": [
      "Warning message in download.file(paste(yahoo.URL, \"s=\", Symbols.name, \"&a=\", from.m, :\n",
      "\"cannot open URL 'http://ichart.finance.yahoo.com/table.csv?s=MHP&a=0&b=13&c=2005&d=1&e=21&f=2017&g=d&q=q&y=0&z=MHP&x=.csv': HTTP status was '404 Not Found'\""
     ]
    },
    {
     "name": "stdout",
     "output_type": "stream",
     "text": [
      "<simpleError in download.file(paste(yahoo.URL, \"s=\", Symbols.name, \"&a=\", from.m,     \"&b=\", sprintf(\"%.2d\", from.d), \"&c=\", from.y, \"&d=\", to.m,     \"&e=\", sprintf(\"%.2d\", to.d), \"&f=\", to.y, \"&g=d&q=q&y=0\",     \"&z=\", Symbols.name, \"&x=.csv\", sep = \"\"), destfile = tmp,     quiet = !verbose): cannot open URL 'http://ichart.finance.yahoo.com/table.csv?s=MHP&a=0&b=13&c=2005&d=1&e=21&f=2017&g=d&q=q&y=0&z=MHP&x=.csv'>\n",
      "( 290 / 499 )  Downloading  MCK \t\t Attempt:  1 / 5 \n",
      "( 291 / 499 )  Downloading  MJN \t\t Attempt:  1 / 5 \n",
      "( 292 / 499 )  Downloading  MWV \t\t Attempt:  1 / 5 \n"
     ]
    },
    {
     "name": "stderr",
     "output_type": "stream",
     "text": [
      "Warning message in download.file(paste(yahoo.URL, \"s=\", Symbols.name, \"&a=\", from.m, :\n",
      "\"cannot open URL 'http://ichart.finance.yahoo.com/table.csv?s=MWV&a=0&b=13&c=2005&d=1&e=21&f=2017&g=d&q=q&y=0&z=MWV&x=.csv': HTTP status was '404 Not Found'\""
     ]
    },
    {
     "name": "stdout",
     "output_type": "stream",
     "text": [
      "<simpleError in download.file(paste(yahoo.URL, \"s=\", Symbols.name, \"&a=\", from.m,     \"&b=\", sprintf(\"%.2d\", from.d), \"&c=\", from.y, \"&d=\", to.m,     \"&e=\", sprintf(\"%.2d\", to.d), \"&f=\", to.y, \"&g=d&q=q&y=0\",     \"&z=\", Symbols.name, \"&x=.csv\", sep = \"\"), destfile = tmp,     quiet = !verbose): cannot open URL 'http://ichart.finance.yahoo.com/table.csv?s=MWV&a=0&b=13&c=2005&d=1&e=21&f=2017&g=d&q=q&y=0&z=MWV&x=.csv'>\n",
      "( 292 / 499 )  Downloading  MWV \t\t Attempt:  2 / 5 \n"
     ]
    },
    {
     "name": "stderr",
     "output_type": "stream",
     "text": [
      "Warning message in download.file(paste(yahoo.URL, \"s=\", Symbols.name, \"&a=\", from.m, :\n",
      "\"cannot open URL 'http://ichart.finance.yahoo.com/table.csv?s=MWV&a=0&b=13&c=2005&d=1&e=21&f=2017&g=d&q=q&y=0&z=MWV&x=.csv': HTTP status was '404 Not Found'\""
     ]
    },
    {
     "name": "stdout",
     "output_type": "stream",
     "text": [
      "<simpleError in download.file(paste(yahoo.URL, \"s=\", Symbols.name, \"&a=\", from.m,     \"&b=\", sprintf(\"%.2d\", from.d), \"&c=\", from.y, \"&d=\", to.m,     \"&e=\", sprintf(\"%.2d\", to.d), \"&f=\", to.y, \"&g=d&q=q&y=0\",     \"&z=\", Symbols.name, \"&x=.csv\", sep = \"\"), destfile = tmp,     quiet = !verbose): cannot open URL 'http://ichart.finance.yahoo.com/table.csv?s=MWV&a=0&b=13&c=2005&d=1&e=21&f=2017&g=d&q=q&y=0&z=MWV&x=.csv'>\n",
      "( 292 / 499 )  Downloading  MWV \t\t Attempt:  3 / 5 \n"
     ]
    },
    {
     "name": "stderr",
     "output_type": "stream",
     "text": [
      "Warning message in download.file(paste(yahoo.URL, \"s=\", Symbols.name, \"&a=\", from.m, :\n",
      "\"cannot open URL 'http://ichart.finance.yahoo.com/table.csv?s=MWV&a=0&b=13&c=2005&d=1&e=21&f=2017&g=d&q=q&y=0&z=MWV&x=.csv': HTTP status was '404 Not Found'\""
     ]
    },
    {
     "name": "stdout",
     "output_type": "stream",
     "text": [
      "<simpleError in download.file(paste(yahoo.URL, \"s=\", Symbols.name, \"&a=\", from.m,     \"&b=\", sprintf(\"%.2d\", from.d), \"&c=\", from.y, \"&d=\", to.m,     \"&e=\", sprintf(\"%.2d\", to.d), \"&f=\", to.y, \"&g=d&q=q&y=0\",     \"&z=\", Symbols.name, \"&x=.csv\", sep = \"\"), destfile = tmp,     quiet = !verbose): cannot open URL 'http://ichart.finance.yahoo.com/table.csv?s=MWV&a=0&b=13&c=2005&d=1&e=21&f=2017&g=d&q=q&y=0&z=MWV&x=.csv'>\n",
      "( 292 / 499 )  Downloading  MWV \t\t Attempt:  4 / 5 \n"
     ]
    },
    {
     "name": "stderr",
     "output_type": "stream",
     "text": [
      "Warning message in download.file(paste(yahoo.URL, \"s=\", Symbols.name, \"&a=\", from.m, :\n",
      "\"cannot open URL 'http://ichart.finance.yahoo.com/table.csv?s=MWV&a=0&b=13&c=2005&d=1&e=21&f=2017&g=d&q=q&y=0&z=MWV&x=.csv': HTTP status was '404 Not Found'\""
     ]
    },
    {
     "name": "stdout",
     "output_type": "stream",
     "text": [
      "<simpleError in download.file(paste(yahoo.URL, \"s=\", Symbols.name, \"&a=\", from.m,     \"&b=\", sprintf(\"%.2d\", from.d), \"&c=\", from.y, \"&d=\", to.m,     \"&e=\", sprintf(\"%.2d\", to.d), \"&f=\", to.y, \"&g=d&q=q&y=0\",     \"&z=\", Symbols.name, \"&x=.csv\", sep = \"\"), destfile = tmp,     quiet = !verbose): cannot open URL 'http://ichart.finance.yahoo.com/table.csv?s=MWV&a=0&b=13&c=2005&d=1&e=21&f=2017&g=d&q=q&y=0&z=MWV&x=.csv'>\n",
      "( 292 / 499 )  Downloading  MWV \t\t Attempt:  5 / 5 \n"
     ]
    },
    {
     "name": "stderr",
     "output_type": "stream",
     "text": [
      "Warning message in download.file(paste(yahoo.URL, \"s=\", Symbols.name, \"&a=\", from.m, :\n",
      "\"cannot open URL 'http://ichart.finance.yahoo.com/table.csv?s=MWV&a=0&b=13&c=2005&d=1&e=21&f=2017&g=d&q=q&y=0&z=MWV&x=.csv': HTTP status was '404 Not Found'\""
     ]
    },
    {
     "name": "stdout",
     "output_type": "stream",
     "text": [
      "<simpleError in download.file(paste(yahoo.URL, \"s=\", Symbols.name, \"&a=\", from.m,     \"&b=\", sprintf(\"%.2d\", from.d), \"&c=\", from.y, \"&d=\", to.m,     \"&e=\", sprintf(\"%.2d\", to.d), \"&f=\", to.y, \"&g=d&q=q&y=0\",     \"&z=\", Symbols.name, \"&x=.csv\", sep = \"\"), destfile = tmp,     quiet = !verbose): cannot open URL 'http://ichart.finance.yahoo.com/table.csv?s=MWV&a=0&b=13&c=2005&d=1&e=21&f=2017&g=d&q=q&y=0&z=MWV&x=.csv'>\n",
      "( 293 / 499 )  Downloading  MHS \t\t Attempt:  1 / 5 \n"
     ]
    },
    {
     "name": "stderr",
     "output_type": "stream",
     "text": [
      "Warning message in download.file(paste(yahoo.URL, \"s=\", Symbols.name, \"&a=\", from.m, :\n",
      "\"cannot open URL 'http://ichart.finance.yahoo.com/table.csv?s=MHS&a=0&b=13&c=2005&d=1&e=21&f=2017&g=d&q=q&y=0&z=MHS&x=.csv': HTTP status was '404 Not Found'\""
     ]
    },
    {
     "name": "stdout",
     "output_type": "stream",
     "text": [
      "<simpleError in download.file(paste(yahoo.URL, \"s=\", Symbols.name, \"&a=\", from.m,     \"&b=\", sprintf(\"%.2d\", from.d), \"&c=\", from.y, \"&d=\", to.m,     \"&e=\", sprintf(\"%.2d\", to.d), \"&f=\", to.y, \"&g=d&q=q&y=0\",     \"&z=\", Symbols.name, \"&x=.csv\", sep = \"\"), destfile = tmp,     quiet = !verbose): cannot open URL 'http://ichart.finance.yahoo.com/table.csv?s=MHS&a=0&b=13&c=2005&d=1&e=21&f=2017&g=d&q=q&y=0&z=MHS&x=.csv'>\n",
      "( 293 / 499 )  Downloading  MHS \t\t Attempt:  2 / 5 \n"
     ]
    },
    {
     "name": "stderr",
     "output_type": "stream",
     "text": [
      "Warning message in download.file(paste(yahoo.URL, \"s=\", Symbols.name, \"&a=\", from.m, :\n",
      "\"cannot open URL 'http://ichart.finance.yahoo.com/table.csv?s=MHS&a=0&b=13&c=2005&d=1&e=21&f=2017&g=d&q=q&y=0&z=MHS&x=.csv': HTTP status was '404 Not Found'\""
     ]
    },
    {
     "name": "stdout",
     "output_type": "stream",
     "text": [
      "<simpleError in download.file(paste(yahoo.URL, \"s=\", Symbols.name, \"&a=\", from.m,     \"&b=\", sprintf(\"%.2d\", from.d), \"&c=\", from.y, \"&d=\", to.m,     \"&e=\", sprintf(\"%.2d\", to.d), \"&f=\", to.y, \"&g=d&q=q&y=0\",     \"&z=\", Symbols.name, \"&x=.csv\", sep = \"\"), destfile = tmp,     quiet = !verbose): cannot open URL 'http://ichart.finance.yahoo.com/table.csv?s=MHS&a=0&b=13&c=2005&d=1&e=21&f=2017&g=d&q=q&y=0&z=MHS&x=.csv'>\n",
      "( 293 / 499 )  Downloading  MHS \t\t Attempt:  3 / 5 \n"
     ]
    },
    {
     "name": "stderr",
     "output_type": "stream",
     "text": [
      "Warning message in download.file(paste(yahoo.URL, \"s=\", Symbols.name, \"&a=\", from.m, :\n",
      "\"cannot open URL 'http://ichart.finance.yahoo.com/table.csv?s=MHS&a=0&b=13&c=2005&d=1&e=21&f=2017&g=d&q=q&y=0&z=MHS&x=.csv': HTTP status was '404 Not Found'\""
     ]
    },
    {
     "name": "stdout",
     "output_type": "stream",
     "text": [
      "<simpleError in download.file(paste(yahoo.URL, \"s=\", Symbols.name, \"&a=\", from.m,     \"&b=\", sprintf(\"%.2d\", from.d), \"&c=\", from.y, \"&d=\", to.m,     \"&e=\", sprintf(\"%.2d\", to.d), \"&f=\", to.y, \"&g=d&q=q&y=0\",     \"&z=\", Symbols.name, \"&x=.csv\", sep = \"\"), destfile = tmp,     quiet = !verbose): cannot open URL 'http://ichart.finance.yahoo.com/table.csv?s=MHS&a=0&b=13&c=2005&d=1&e=21&f=2017&g=d&q=q&y=0&z=MHS&x=.csv'>\n",
      "( 293 / 499 )  Downloading  MHS \t\t Attempt:  4 / 5 \n"
     ]
    },
    {
     "name": "stderr",
     "output_type": "stream",
     "text": [
      "Warning message in download.file(paste(yahoo.URL, \"s=\", Symbols.name, \"&a=\", from.m, :\n",
      "\"cannot open URL 'http://ichart.finance.yahoo.com/table.csv?s=MHS&a=0&b=13&c=2005&d=1&e=21&f=2017&g=d&q=q&y=0&z=MHS&x=.csv': HTTP status was '404 Not Found'\""
     ]
    },
    {
     "name": "stdout",
     "output_type": "stream",
     "text": [
      "<simpleError in download.file(paste(yahoo.URL, \"s=\", Symbols.name, \"&a=\", from.m,     \"&b=\", sprintf(\"%.2d\", from.d), \"&c=\", from.y, \"&d=\", to.m,     \"&e=\", sprintf(\"%.2d\", to.d), \"&f=\", to.y, \"&g=d&q=q&y=0\",     \"&z=\", Symbols.name, \"&x=.csv\", sep = \"\"), destfile = tmp,     quiet = !verbose): cannot open URL 'http://ichart.finance.yahoo.com/table.csv?s=MHS&a=0&b=13&c=2005&d=1&e=21&f=2017&g=d&q=q&y=0&z=MHS&x=.csv'>\n",
      "( 293 / 499 )  Downloading  MHS \t\t Attempt:  5 / 5 \n"
     ]
    },
    {
     "name": "stderr",
     "output_type": "stream",
     "text": [
      "Warning message in download.file(paste(yahoo.URL, \"s=\", Symbols.name, \"&a=\", from.m, :\n",
      "\"cannot open URL 'http://ichart.finance.yahoo.com/table.csv?s=MHS&a=0&b=13&c=2005&d=1&e=21&f=2017&g=d&q=q&y=0&z=MHS&x=.csv': HTTP status was '404 Not Found'\""
     ]
    },
    {
     "name": "stdout",
     "output_type": "stream",
     "text": [
      "<simpleError in download.file(paste(yahoo.URL, \"s=\", Symbols.name, \"&a=\", from.m,     \"&b=\", sprintf(\"%.2d\", from.d), \"&c=\", from.y, \"&d=\", to.m,     \"&e=\", sprintf(\"%.2d\", to.d), \"&f=\", to.y, \"&g=d&q=q&y=0\",     \"&z=\", Symbols.name, \"&x=.csv\", sep = \"\"), destfile = tmp,     quiet = !verbose): cannot open URL 'http://ichart.finance.yahoo.com/table.csv?s=MHS&a=0&b=13&c=2005&d=1&e=21&f=2017&g=d&q=q&y=0&z=MHS&x=.csv'>\n",
      "( 294 / 499 )  Downloading  MDT \t\t Attempt:  1 / 5 \n",
      "( 295 / 499 )  Downloading  WFR \t\t Attempt:  1 / 5 \n",
      "( 296 / 499 )  Downloading  MRK \t\t Attempt:  1 / 5 \n",
      "( 297 / 499 )  Downloading  MDP \t\t Attempt:  1 / 5 \n",
      "( 298 / 499 )  Downloading  MET \t\t Attempt:  1 / 5 \n",
      "( 299 / 499 )  Downloading  PCS \t\t Attempt:  1 / 5 \n",
      "( 300 / 499 )  Downloading  MCHP \t\t Attempt:  1 / 5 \n",
      "( 301 / 499 )  Downloading  MU \t\t Attempt:  1 / 5 \n",
      "( 302 / 499 )  Downloading  MSFT \t\t Attempt:  1 / 5 \n",
      "( 303 / 499 )  Downloading  MOLX \t\t Attempt:  1 / 5 \n",
      "( 304 / 499 )  Downloading  TAP \t\t Attempt:  1 / 5 \n",
      "( 305 / 499 )  Downloading  MON \t\t Attempt:  1 / 5 \n",
      "( 306 / 499 )  Downloading  MWW \t\t Attempt:  1 / 5 \n",
      "( 307 / 499 )  Downloading  MCO \t\t Attempt:  1 / 5 \n",
      "( 308 / 499 )  Downloading  MS \t\t Attempt:  1 / 5 \n",
      "( 309 / 499 )  Downloading  MUR \t\t Attempt:  1 / 5 \n",
      "( 310 / 499 )  Downloading  MYL \t\t Attempt:  1 / 5 \n",
      "( 311 / 499 )  Downloading  NBR \t\t Attempt:  1 / 5 \n",
      "( 312 / 499 )  Downloading  NDAQ \t\t Attempt:  1 / 5 \n",
      "( 313 / 499 )  Downloading  NOV \t\t Attempt:  1 / 5 \n",
      "( 314 / 499 )  Downloading  NSM \t\t Attempt:  1 / 5 \n",
      "( 315 / 499 )  Downloading  NTAP \t\t Attempt:  1 / 5 \n",
      "( 316 / 499 )  Downloading  NYT \t\t Attempt:  1 / 5 \n",
      "( 317 / 499 )  Downloading  NWL \t\t Attempt:  1 / 5 \n",
      "( 318 / 499 )  Downloading  NEM \t\t Attempt:  1 / 5 \n",
      "( 319 / 499 )  Downloading  NWSA \t\t Attempt:  1 / 5 \n",
      "( 320 / 499 )  Downloading  NEE \t\t Attempt:  1 / 5 \n",
      "( 321 / 499 )  Downloading  GAS \t\t Attempt:  1 / 5 \n"
     ]
    },
    {
     "name": "stderr",
     "output_type": "stream",
     "text": [
      "Warning message in download.file(paste(yahoo.URL, \"s=\", Symbols.name, \"&a=\", from.m, :\n",
      "\"cannot open URL 'http://ichart.finance.yahoo.com/table.csv?s=GAS&a=0&b=13&c=2005&d=1&e=21&f=2017&g=d&q=q&y=0&z=GAS&x=.csv': HTTP status was '404 Not Found'\""
     ]
    },
    {
     "name": "stdout",
     "output_type": "stream",
     "text": [
      "<simpleError in download.file(paste(yahoo.URL, \"s=\", Symbols.name, \"&a=\", from.m,     \"&b=\", sprintf(\"%.2d\", from.d), \"&c=\", from.y, \"&d=\", to.m,     \"&e=\", sprintf(\"%.2d\", to.d), \"&f=\", to.y, \"&g=d&q=q&y=0\",     \"&z=\", Symbols.name, \"&x=.csv\", sep = \"\"), destfile = tmp,     quiet = !verbose): cannot open URL 'http://ichart.finance.yahoo.com/table.csv?s=GAS&a=0&b=13&c=2005&d=1&e=21&f=2017&g=d&q=q&y=0&z=GAS&x=.csv'>\n",
      "( 321 / 499 )  Downloading  GAS \t\t Attempt:  2 / 5 \n"
     ]
    },
    {
     "name": "stderr",
     "output_type": "stream",
     "text": [
      "Warning message in download.file(paste(yahoo.URL, \"s=\", Symbols.name, \"&a=\", from.m, :\n",
      "\"cannot open URL 'http://ichart.finance.yahoo.com/table.csv?s=GAS&a=0&b=13&c=2005&d=1&e=21&f=2017&g=d&q=q&y=0&z=GAS&x=.csv': HTTP status was '404 Not Found'\""
     ]
    },
    {
     "name": "stdout",
     "output_type": "stream",
     "text": [
      "<simpleError in download.file(paste(yahoo.URL, \"s=\", Symbols.name, \"&a=\", from.m,     \"&b=\", sprintf(\"%.2d\", from.d), \"&c=\", from.y, \"&d=\", to.m,     \"&e=\", sprintf(\"%.2d\", to.d), \"&f=\", to.y, \"&g=d&q=q&y=0\",     \"&z=\", Symbols.name, \"&x=.csv\", sep = \"\"), destfile = tmp,     quiet = !verbose): cannot open URL 'http://ichart.finance.yahoo.com/table.csv?s=GAS&a=0&b=13&c=2005&d=1&e=21&f=2017&g=d&q=q&y=0&z=GAS&x=.csv'>\n",
      "( 321 / 499 )  Downloading  GAS \t\t Attempt:  3 / 5 \n"
     ]
    },
    {
     "name": "stderr",
     "output_type": "stream",
     "text": [
      "Warning message in download.file(paste(yahoo.URL, \"s=\", Symbols.name, \"&a=\", from.m, :\n",
      "\"cannot open URL 'http://ichart.finance.yahoo.com/table.csv?s=GAS&a=0&b=13&c=2005&d=1&e=21&f=2017&g=d&q=q&y=0&z=GAS&x=.csv': HTTP status was '404 Not Found'\""
     ]
    },
    {
     "name": "stdout",
     "output_type": "stream",
     "text": [
      "<simpleError in download.file(paste(yahoo.URL, \"s=\", Symbols.name, \"&a=\", from.m,     \"&b=\", sprintf(\"%.2d\", from.d), \"&c=\", from.y, \"&d=\", to.m,     \"&e=\", sprintf(\"%.2d\", to.d), \"&f=\", to.y, \"&g=d&q=q&y=0\",     \"&z=\", Symbols.name, \"&x=.csv\", sep = \"\"), destfile = tmp,     quiet = !verbose): cannot open URL 'http://ichart.finance.yahoo.com/table.csv?s=GAS&a=0&b=13&c=2005&d=1&e=21&f=2017&g=d&q=q&y=0&z=GAS&x=.csv'>\n",
      "( 321 / 499 )  Downloading  GAS \t\t Attempt:  4 / 5 \n"
     ]
    },
    {
     "name": "stderr",
     "output_type": "stream",
     "text": [
      "Warning message in download.file(paste(yahoo.URL, \"s=\", Symbols.name, \"&a=\", from.m, :\n",
      "\"cannot open URL 'http://ichart.finance.yahoo.com/table.csv?s=GAS&a=0&b=13&c=2005&d=1&e=21&f=2017&g=d&q=q&y=0&z=GAS&x=.csv': HTTP status was '404 Not Found'\""
     ]
    },
    {
     "name": "stdout",
     "output_type": "stream",
     "text": [
      "<simpleError in download.file(paste(yahoo.URL, \"s=\", Symbols.name, \"&a=\", from.m,     \"&b=\", sprintf(\"%.2d\", from.d), \"&c=\", from.y, \"&d=\", to.m,     \"&e=\", sprintf(\"%.2d\", to.d), \"&f=\", to.y, \"&g=d&q=q&y=0\",     \"&z=\", Symbols.name, \"&x=.csv\", sep = \"\"), destfile = tmp,     quiet = !verbose): cannot open URL 'http://ichart.finance.yahoo.com/table.csv?s=GAS&a=0&b=13&c=2005&d=1&e=21&f=2017&g=d&q=q&y=0&z=GAS&x=.csv'>\n",
      "( 321 / 499 )  Downloading  GAS \t\t Attempt:  5 / 5 \n"
     ]
    },
    {
     "name": "stderr",
     "output_type": "stream",
     "text": [
      "Warning message in download.file(paste(yahoo.URL, \"s=\", Symbols.name, \"&a=\", from.m, :\n",
      "\"cannot open URL 'http://ichart.finance.yahoo.com/table.csv?s=GAS&a=0&b=13&c=2005&d=1&e=21&f=2017&g=d&q=q&y=0&z=GAS&x=.csv': HTTP status was '404 Not Found'\""
     ]
    },
    {
     "name": "stdout",
     "output_type": "stream",
     "text": [
      "<simpleError in download.file(paste(yahoo.URL, \"s=\", Symbols.name, \"&a=\", from.m,     \"&b=\", sprintf(\"%.2d\", from.d), \"&c=\", from.y, \"&d=\", to.m,     \"&e=\", sprintf(\"%.2d\", to.d), \"&f=\", to.y, \"&g=d&q=q&y=0\",     \"&z=\", Symbols.name, \"&x=.csv\", sep = \"\"), destfile = tmp,     quiet = !verbose): cannot open URL 'http://ichart.finance.yahoo.com/table.csv?s=GAS&a=0&b=13&c=2005&d=1&e=21&f=2017&g=d&q=q&y=0&z=GAS&x=.csv'>\n",
      "( 322 / 499 )  Downloading  NKE \t\t Attempt:  1 / 5 \n",
      "( 323 / 499 )  Downloading  NI \t\t Attempt:  1 / 5 \n",
      "( 324 / 499 )  Downloading  NBL \t\t Attempt:  1 / 5 \n",
      "( 325 / 499 )  Downloading  JWN \t\t Attempt:  1 / 5 \n",
      "( 326 / 499 )  Downloading  NSC \t\t Attempt:  1 / 5 \n",
      "( 327 / 499 )  Downloading  NTRS \t\t Attempt:  1 / 5 \n",
      "( 328 / 499 )  Downloading  NOC \t\t Attempt:  1 / 5 \n",
      "( 329 / 499 )  Downloading  NU \t\t Attempt:  1 / 5 \n"
     ]
    },
    {
     "name": "stderr",
     "output_type": "stream",
     "text": [
      "Warning message in download.file(paste(yahoo.URL, \"s=\", Symbols.name, \"&a=\", from.m, :\n",
      "\"cannot open URL 'http://ichart.finance.yahoo.com/table.csv?s=NU&a=0&b=13&c=2005&d=1&e=21&f=2017&g=d&q=q&y=0&z=NU&x=.csv': HTTP status was '404 Not Found'\""
     ]
    },
    {
     "name": "stdout",
     "output_type": "stream",
     "text": [
      "<simpleError in download.file(paste(yahoo.URL, \"s=\", Symbols.name, \"&a=\", from.m,     \"&b=\", sprintf(\"%.2d\", from.d), \"&c=\", from.y, \"&d=\", to.m,     \"&e=\", sprintf(\"%.2d\", to.d), \"&f=\", to.y, \"&g=d&q=q&y=0\",     \"&z=\", Symbols.name, \"&x=.csv\", sep = \"\"), destfile = tmp,     quiet = !verbose): cannot open URL 'http://ichart.finance.yahoo.com/table.csv?s=NU&a=0&b=13&c=2005&d=1&e=21&f=2017&g=d&q=q&y=0&z=NU&x=.csv'>\n",
      "( 329 / 499 )  Downloading  NU \t\t Attempt:  2 / 5 \n"
     ]
    },
    {
     "name": "stderr",
     "output_type": "stream",
     "text": [
      "Warning message in download.file(paste(yahoo.URL, \"s=\", Symbols.name, \"&a=\", from.m, :\n",
      "\"cannot open URL 'http://ichart.finance.yahoo.com/table.csv?s=NU&a=0&b=13&c=2005&d=1&e=21&f=2017&g=d&q=q&y=0&z=NU&x=.csv': HTTP status was '404 Not Found'\""
     ]
    },
    {
     "name": "stdout",
     "output_type": "stream",
     "text": [
      "<simpleError in download.file(paste(yahoo.URL, \"s=\", Symbols.name, \"&a=\", from.m,     \"&b=\", sprintf(\"%.2d\", from.d), \"&c=\", from.y, \"&d=\", to.m,     \"&e=\", sprintf(\"%.2d\", to.d), \"&f=\", to.y, \"&g=d&q=q&y=0\",     \"&z=\", Symbols.name, \"&x=.csv\", sep = \"\"), destfile = tmp,     quiet = !verbose): cannot open URL 'http://ichart.finance.yahoo.com/table.csv?s=NU&a=0&b=13&c=2005&d=1&e=21&f=2017&g=d&q=q&y=0&z=NU&x=.csv'>\n",
      "( 329 / 499 )  Downloading  NU \t\t Attempt:  3 / 5 \n"
     ]
    },
    {
     "name": "stderr",
     "output_type": "stream",
     "text": [
      "Warning message in download.file(paste(yahoo.URL, \"s=\", Symbols.name, \"&a=\", from.m, :\n",
      "\"cannot open URL 'http://ichart.finance.yahoo.com/table.csv?s=NU&a=0&b=13&c=2005&d=1&e=21&f=2017&g=d&q=q&y=0&z=NU&x=.csv': HTTP status was '404 Not Found'\""
     ]
    },
    {
     "name": "stdout",
     "output_type": "stream",
     "text": [
      "<simpleError in download.file(paste(yahoo.URL, \"s=\", Symbols.name, \"&a=\", from.m,     \"&b=\", sprintf(\"%.2d\", from.d), \"&c=\", from.y, \"&d=\", to.m,     \"&e=\", sprintf(\"%.2d\", to.d), \"&f=\", to.y, \"&g=d&q=q&y=0\",     \"&z=\", Symbols.name, \"&x=.csv\", sep = \"\"), destfile = tmp,     quiet = !verbose): cannot open URL 'http://ichart.finance.yahoo.com/table.csv?s=NU&a=0&b=13&c=2005&d=1&e=21&f=2017&g=d&q=q&y=0&z=NU&x=.csv'>\n",
      "( 329 / 499 )  Downloading  NU \t\t Attempt:  4 / 5 \n"
     ]
    },
    {
     "name": "stderr",
     "output_type": "stream",
     "text": [
      "Warning message in download.file(paste(yahoo.URL, \"s=\", Symbols.name, \"&a=\", from.m, :\n",
      "\"cannot open URL 'http://ichart.finance.yahoo.com/table.csv?s=NU&a=0&b=13&c=2005&d=1&e=21&f=2017&g=d&q=q&y=0&z=NU&x=.csv': HTTP status was '404 Not Found'\""
     ]
    },
    {
     "name": "stdout",
     "output_type": "stream",
     "text": [
      "<simpleError in download.file(paste(yahoo.URL, \"s=\", Symbols.name, \"&a=\", from.m,     \"&b=\", sprintf(\"%.2d\", from.d), \"&c=\", from.y, \"&d=\", to.m,     \"&e=\", sprintf(\"%.2d\", to.d), \"&f=\", to.y, \"&g=d&q=q&y=0\",     \"&z=\", Symbols.name, \"&x=.csv\", sep = \"\"), destfile = tmp,     quiet = !verbose): cannot open URL 'http://ichart.finance.yahoo.com/table.csv?s=NU&a=0&b=13&c=2005&d=1&e=21&f=2017&g=d&q=q&y=0&z=NU&x=.csv'>\n",
      "( 329 / 499 )  Downloading  NU \t\t Attempt:  5 / 5 \n"
     ]
    },
    {
     "name": "stderr",
     "output_type": "stream",
     "text": [
      "Warning message in download.file(paste(yahoo.URL, \"s=\", Symbols.name, \"&a=\", from.m, :\n",
      "\"cannot open URL 'http://ichart.finance.yahoo.com/table.csv?s=NU&a=0&b=13&c=2005&d=1&e=21&f=2017&g=d&q=q&y=0&z=NU&x=.csv': HTTP status was '404 Not Found'\""
     ]
    },
    {
     "name": "stdout",
     "output_type": "stream",
     "text": [
      "<simpleError in download.file(paste(yahoo.URL, \"s=\", Symbols.name, \"&a=\", from.m,     \"&b=\", sprintf(\"%.2d\", from.d), \"&c=\", from.y, \"&d=\", to.m,     \"&e=\", sprintf(\"%.2d\", to.d), \"&f=\", to.y, \"&g=d&q=q&y=0\",     \"&z=\", Symbols.name, \"&x=.csv\", sep = \"\"), destfile = tmp,     quiet = !verbose): cannot open URL 'http://ichart.finance.yahoo.com/table.csv?s=NU&a=0&b=13&c=2005&d=1&e=21&f=2017&g=d&q=q&y=0&z=NU&x=.csv'>\n",
      "( 330 / 499 )  Downloading  NOVL \t\t Attempt:  1 / 5 \n"
     ]
    },
    {
     "name": "stderr",
     "output_type": "stream",
     "text": [
      "Warning message in download.file(paste(yahoo.URL, \"s=\", Symbols.name, \"&a=\", from.m, :\n",
      "\"cannot open URL 'http://ichart.finance.yahoo.com/table.csv?s=NOVL&a=0&b=13&c=2005&d=1&e=21&f=2017&g=d&q=q&y=0&z=NOVL&x=.csv': HTTP status was '404 Not Found'\""
     ]
    },
    {
     "name": "stdout",
     "output_type": "stream",
     "text": [
      "<simpleError in download.file(paste(yahoo.URL, \"s=\", Symbols.name, \"&a=\", from.m,     \"&b=\", sprintf(\"%.2d\", from.d), \"&c=\", from.y, \"&d=\", to.m,     \"&e=\", sprintf(\"%.2d\", to.d), \"&f=\", to.y, \"&g=d&q=q&y=0\",     \"&z=\", Symbols.name, \"&x=.csv\", sep = \"\"), destfile = tmp,     quiet = !verbose): cannot open URL 'http://ichart.finance.yahoo.com/table.csv?s=NOVL&a=0&b=13&c=2005&d=1&e=21&f=2017&g=d&q=q&y=0&z=NOVL&x=.csv'>\n",
      "( 330 / 499 )  Downloading  NOVL \t\t Attempt:  2 / 5 \n"
     ]
    },
    {
     "name": "stderr",
     "output_type": "stream",
     "text": [
      "Warning message in download.file(paste(yahoo.URL, \"s=\", Symbols.name, \"&a=\", from.m, :\n",
      "\"cannot open URL 'http://ichart.finance.yahoo.com/table.csv?s=NOVL&a=0&b=13&c=2005&d=1&e=21&f=2017&g=d&q=q&y=0&z=NOVL&x=.csv': HTTP status was '404 Not Found'\""
     ]
    },
    {
     "name": "stdout",
     "output_type": "stream",
     "text": [
      "<simpleError in download.file(paste(yahoo.URL, \"s=\", Symbols.name, \"&a=\", from.m,     \"&b=\", sprintf(\"%.2d\", from.d), \"&c=\", from.y, \"&d=\", to.m,     \"&e=\", sprintf(\"%.2d\", to.d), \"&f=\", to.y, \"&g=d&q=q&y=0\",     \"&z=\", Symbols.name, \"&x=.csv\", sep = \"\"), destfile = tmp,     quiet = !verbose): cannot open URL 'http://ichart.finance.yahoo.com/table.csv?s=NOVL&a=0&b=13&c=2005&d=1&e=21&f=2017&g=d&q=q&y=0&z=NOVL&x=.csv'>\n",
      "( 330 / 499 )  Downloading  NOVL \t\t Attempt:  3 / 5 \n"
     ]
    },
    {
     "name": "stderr",
     "output_type": "stream",
     "text": [
      "Warning message in download.file(paste(yahoo.URL, \"s=\", Symbols.name, \"&a=\", from.m, :\n",
      "\"cannot open URL 'http://ichart.finance.yahoo.com/table.csv?s=NOVL&a=0&b=13&c=2005&d=1&e=21&f=2017&g=d&q=q&y=0&z=NOVL&x=.csv': HTTP status was '404 Not Found'\""
     ]
    },
    {
     "name": "stdout",
     "output_type": "stream",
     "text": [
      "<simpleError in download.file(paste(yahoo.URL, \"s=\", Symbols.name, \"&a=\", from.m,     \"&b=\", sprintf(\"%.2d\", from.d), \"&c=\", from.y, \"&d=\", to.m,     \"&e=\", sprintf(\"%.2d\", to.d), \"&f=\", to.y, \"&g=d&q=q&y=0\",     \"&z=\", Symbols.name, \"&x=.csv\", sep = \"\"), destfile = tmp,     quiet = !verbose): cannot open URL 'http://ichart.finance.yahoo.com/table.csv?s=NOVL&a=0&b=13&c=2005&d=1&e=21&f=2017&g=d&q=q&y=0&z=NOVL&x=.csv'>\n",
      "( 330 / 499 )  Downloading  NOVL \t\t Attempt:  4 / 5 \n"
     ]
    },
    {
     "name": "stderr",
     "output_type": "stream",
     "text": [
      "Warning message in download.file(paste(yahoo.URL, \"s=\", Symbols.name, \"&a=\", from.m, :\n",
      "\"cannot open URL 'http://ichart.finance.yahoo.com/table.csv?s=NOVL&a=0&b=13&c=2005&d=1&e=21&f=2017&g=d&q=q&y=0&z=NOVL&x=.csv': HTTP status was '404 Not Found'\""
     ]
    },
    {
     "name": "stdout",
     "output_type": "stream",
     "text": [
      "<simpleError in download.file(paste(yahoo.URL, \"s=\", Symbols.name, \"&a=\", from.m,     \"&b=\", sprintf(\"%.2d\", from.d), \"&c=\", from.y, \"&d=\", to.m,     \"&e=\", sprintf(\"%.2d\", to.d), \"&f=\", to.y, \"&g=d&q=q&y=0\",     \"&z=\", Symbols.name, \"&x=.csv\", sep = \"\"), destfile = tmp,     quiet = !verbose): cannot open URL 'http://ichart.finance.yahoo.com/table.csv?s=NOVL&a=0&b=13&c=2005&d=1&e=21&f=2017&g=d&q=q&y=0&z=NOVL&x=.csv'>\n",
      "( 330 / 499 )  Downloading  NOVL \t\t Attempt:  5 / 5 \n"
     ]
    },
    {
     "name": "stderr",
     "output_type": "stream",
     "text": [
      "Warning message in download.file(paste(yahoo.URL, \"s=\", Symbols.name, \"&a=\", from.m, :\n",
      "\"cannot open URL 'http://ichart.finance.yahoo.com/table.csv?s=NOVL&a=0&b=13&c=2005&d=1&e=21&f=2017&g=d&q=q&y=0&z=NOVL&x=.csv': HTTP status was '404 Not Found'\""
     ]
    },
    {
     "name": "stdout",
     "output_type": "stream",
     "text": [
      "<simpleError in download.file(paste(yahoo.URL, \"s=\", Symbols.name, \"&a=\", from.m,     \"&b=\", sprintf(\"%.2d\", from.d), \"&c=\", from.y, \"&d=\", to.m,     \"&e=\", sprintf(\"%.2d\", to.d), \"&f=\", to.y, \"&g=d&q=q&y=0\",     \"&z=\", Symbols.name, \"&x=.csv\", sep = \"\"), destfile = tmp,     quiet = !verbose): cannot open URL 'http://ichart.finance.yahoo.com/table.csv?s=NOVL&a=0&b=13&c=2005&d=1&e=21&f=2017&g=d&q=q&y=0&z=NOVL&x=.csv'>\n",
      "( 331 / 499 )  Downloading  NVLS \t\t Attempt:  1 / 5 \n",
      "( 332 / 499 )  Downloading  NRG \t\t Attempt:  1 / 5 \n",
      "( 333 / 499 )  Downloading  NUE \t\t Attempt:  1 / 5 \n",
      "( 334 / 499 )  Downloading  NVDA \t\t Attempt:  1 / 5 \n",
      "( 335 / 499 )  Downloading  NYX \t\t Attempt:  1 / 5 \n",
      "( 336 / 499 )  Downloading  ORLY \t\t Attempt:  1 / 5 \n",
      "( 337 / 499 )  Downloading  OXY \t\t Attempt:  1 / 5 \n",
      "( 338 / 499 )  Downloading  ODP \t\t Attempt:  1 / 5 \n",
      "( 339 / 499 )  Downloading  OMC \t\t Attempt:  1 / 5 \n",
      "( 340 / 499 )  Downloading  OKE \t\t Attempt:  1 / 5 \n",
      "( 341 / 499 )  Downloading  ORCL \t\t Attempt:  1 / 5 \n",
      "( 342 / 499 )  Downloading  OI \t\t Attempt:  1 / 5 \n",
      "( 343 / 499 )  Downloading  PCAR \t\t Attempt:  1 / 5 \n",
      "( 344 / 499 )  Downloading  IR \t\t Attempt:  1 / 5 \n",
      "( 345 / 499 )  Downloading  PLL \t\t Attempt:  1 / 5 \n"
     ]
    },
    {
     "name": "stderr",
     "output_type": "stream",
     "text": [
      "Warning message in download.file(paste(yahoo.URL, \"s=\", Symbols.name, \"&a=\", from.m, :\n",
      "\"cannot open URL 'http://ichart.finance.yahoo.com/table.csv?s=PLL&a=0&b=13&c=2005&d=1&e=21&f=2017&g=d&q=q&y=0&z=PLL&x=.csv': HTTP status was '404 Not Found'\""
     ]
    },
    {
     "name": "stdout",
     "output_type": "stream",
     "text": [
      "<simpleError in download.file(paste(yahoo.URL, \"s=\", Symbols.name, \"&a=\", from.m,     \"&b=\", sprintf(\"%.2d\", from.d), \"&c=\", from.y, \"&d=\", to.m,     \"&e=\", sprintf(\"%.2d\", to.d), \"&f=\", to.y, \"&g=d&q=q&y=0\",     \"&z=\", Symbols.name, \"&x=.csv\", sep = \"\"), destfile = tmp,     quiet = !verbose): cannot open URL 'http://ichart.finance.yahoo.com/table.csv?s=PLL&a=0&b=13&c=2005&d=1&e=21&f=2017&g=d&q=q&y=0&z=PLL&x=.csv'>\n",
      "( 345 / 499 )  Downloading  PLL \t\t Attempt:  2 / 5 \n"
     ]
    },
    {
     "name": "stderr",
     "output_type": "stream",
     "text": [
      "Warning message in download.file(paste(yahoo.URL, \"s=\", Symbols.name, \"&a=\", from.m, :\n",
      "\"cannot open URL 'http://ichart.finance.yahoo.com/table.csv?s=PLL&a=0&b=13&c=2005&d=1&e=21&f=2017&g=d&q=q&y=0&z=PLL&x=.csv': HTTP status was '404 Not Found'\""
     ]
    },
    {
     "name": "stdout",
     "output_type": "stream",
     "text": [
      "<simpleError in download.file(paste(yahoo.URL, \"s=\", Symbols.name, \"&a=\", from.m,     \"&b=\", sprintf(\"%.2d\", from.d), \"&c=\", from.y, \"&d=\", to.m,     \"&e=\", sprintf(\"%.2d\", to.d), \"&f=\", to.y, \"&g=d&q=q&y=0\",     \"&z=\", Symbols.name, \"&x=.csv\", sep = \"\"), destfile = tmp,     quiet = !verbose): cannot open URL 'http://ichart.finance.yahoo.com/table.csv?s=PLL&a=0&b=13&c=2005&d=1&e=21&f=2017&g=d&q=q&y=0&z=PLL&x=.csv'>\n",
      "( 345 / 499 )  Downloading  PLL \t\t Attempt:  3 / 5 \n"
     ]
    },
    {
     "name": "stderr",
     "output_type": "stream",
     "text": [
      "Warning message in download.file(paste(yahoo.URL, \"s=\", Symbols.name, \"&a=\", from.m, :\n",
      "\"cannot open URL 'http://ichart.finance.yahoo.com/table.csv?s=PLL&a=0&b=13&c=2005&d=1&e=21&f=2017&g=d&q=q&y=0&z=PLL&x=.csv': HTTP status was '404 Not Found'\""
     ]
    },
    {
     "name": "stdout",
     "output_type": "stream",
     "text": [
      "<simpleError in download.file(paste(yahoo.URL, \"s=\", Symbols.name, \"&a=\", from.m,     \"&b=\", sprintf(\"%.2d\", from.d), \"&c=\", from.y, \"&d=\", to.m,     \"&e=\", sprintf(\"%.2d\", to.d), \"&f=\", to.y, \"&g=d&q=q&y=0\",     \"&z=\", Symbols.name, \"&x=.csv\", sep = \"\"), destfile = tmp,     quiet = !verbose): cannot open URL 'http://ichart.finance.yahoo.com/table.csv?s=PLL&a=0&b=13&c=2005&d=1&e=21&f=2017&g=d&q=q&y=0&z=PLL&x=.csv'>\n",
      "( 345 / 499 )  Downloading  PLL \t\t Attempt:  4 / 5 \n"
     ]
    },
    {
     "name": "stderr",
     "output_type": "stream",
     "text": [
      "Warning message in download.file(paste(yahoo.URL, \"s=\", Symbols.name, \"&a=\", from.m, :\n",
      "\"cannot open URL 'http://ichart.finance.yahoo.com/table.csv?s=PLL&a=0&b=13&c=2005&d=1&e=21&f=2017&g=d&q=q&y=0&z=PLL&x=.csv': HTTP status was '404 Not Found'\""
     ]
    },
    {
     "name": "stdout",
     "output_type": "stream",
     "text": [
      "<simpleError in download.file(paste(yahoo.URL, \"s=\", Symbols.name, \"&a=\", from.m,     \"&b=\", sprintf(\"%.2d\", from.d), \"&c=\", from.y, \"&d=\", to.m,     \"&e=\", sprintf(\"%.2d\", to.d), \"&f=\", to.y, \"&g=d&q=q&y=0\",     \"&z=\", Symbols.name, \"&x=.csv\", sep = \"\"), destfile = tmp,     quiet = !verbose): cannot open URL 'http://ichart.finance.yahoo.com/table.csv?s=PLL&a=0&b=13&c=2005&d=1&e=21&f=2017&g=d&q=q&y=0&z=PLL&x=.csv'>\n",
      "( 345 / 499 )  Downloading  PLL \t\t Attempt:  5 / 5 \n"
     ]
    },
    {
     "name": "stderr",
     "output_type": "stream",
     "text": [
      "Warning message in download.file(paste(yahoo.URL, \"s=\", Symbols.name, \"&a=\", from.m, :\n",
      "\"cannot open URL 'http://ichart.finance.yahoo.com/table.csv?s=PLL&a=0&b=13&c=2005&d=1&e=21&f=2017&g=d&q=q&y=0&z=PLL&x=.csv': HTTP status was '404 Not Found'\""
     ]
    },
    {
     "name": "stdout",
     "output_type": "stream",
     "text": [
      "<simpleError in download.file(paste(yahoo.URL, \"s=\", Symbols.name, \"&a=\", from.m,     \"&b=\", sprintf(\"%.2d\", from.d), \"&c=\", from.y, \"&d=\", to.m,     \"&e=\", sprintf(\"%.2d\", to.d), \"&f=\", to.y, \"&g=d&q=q&y=0\",     \"&z=\", Symbols.name, \"&x=.csv\", sep = \"\"), destfile = tmp,     quiet = !verbose): cannot open URL 'http://ichart.finance.yahoo.com/table.csv?s=PLL&a=0&b=13&c=2005&d=1&e=21&f=2017&g=d&q=q&y=0&z=PLL&x=.csv'>\n",
      "( 346 / 499 )  Downloading  PH \t\t Attempt:  1 / 5 \n",
      "( 347 / 499 )  Downloading  PDCO \t\t Attempt:  1 / 5 \n",
      "( 348 / 499 )  Downloading  PAYX \t\t Attempt:  1 / 5 \n",
      "( 349 / 499 )  Downloading  BTU \t\t Attempt:  1 / 5 \n"
     ]
    },
    {
     "name": "stderr",
     "output_type": "stream",
     "text": [
      "Warning message in download.file(paste(yahoo.URL, \"s=\", Symbols.name, \"&a=\", from.m, :\n",
      "\"cannot open URL 'http://ichart.finance.yahoo.com/table.csv?s=BTU&a=0&b=13&c=2005&d=1&e=21&f=2017&g=d&q=q&y=0&z=BTU&x=.csv': HTTP status was '404 Not Found'\""
     ]
    },
    {
     "name": "stdout",
     "output_type": "stream",
     "text": [
      "<simpleError in download.file(paste(yahoo.URL, \"s=\", Symbols.name, \"&a=\", from.m,     \"&b=\", sprintf(\"%.2d\", from.d), \"&c=\", from.y, \"&d=\", to.m,     \"&e=\", sprintf(\"%.2d\", to.d), \"&f=\", to.y, \"&g=d&q=q&y=0\",     \"&z=\", Symbols.name, \"&x=.csv\", sep = \"\"), destfile = tmp,     quiet = !verbose): cannot open URL 'http://ichart.finance.yahoo.com/table.csv?s=BTU&a=0&b=13&c=2005&d=1&e=21&f=2017&g=d&q=q&y=0&z=BTU&x=.csv'>\n",
      "( 349 / 499 )  Downloading  BTU \t\t Attempt:  2 / 5 \n"
     ]
    },
    {
     "name": "stderr",
     "output_type": "stream",
     "text": [
      "Warning message in download.file(paste(yahoo.URL, \"s=\", Symbols.name, \"&a=\", from.m, :\n",
      "\"cannot open URL 'http://ichart.finance.yahoo.com/table.csv?s=BTU&a=0&b=13&c=2005&d=1&e=21&f=2017&g=d&q=q&y=0&z=BTU&x=.csv': HTTP status was '404 Not Found'\""
     ]
    },
    {
     "name": "stdout",
     "output_type": "stream",
     "text": [
      "<simpleError in download.file(paste(yahoo.URL, \"s=\", Symbols.name, \"&a=\", from.m,     \"&b=\", sprintf(\"%.2d\", from.d), \"&c=\", from.y, \"&d=\", to.m,     \"&e=\", sprintf(\"%.2d\", to.d), \"&f=\", to.y, \"&g=d&q=q&y=0\",     \"&z=\", Symbols.name, \"&x=.csv\", sep = \"\"), destfile = tmp,     quiet = !verbose): cannot open URL 'http://ichart.finance.yahoo.com/table.csv?s=BTU&a=0&b=13&c=2005&d=1&e=21&f=2017&g=d&q=q&y=0&z=BTU&x=.csv'>\n",
      "( 349 / 499 )  Downloading  BTU \t\t Attempt:  3 / 5 \n"
     ]
    },
    {
     "name": "stderr",
     "output_type": "stream",
     "text": [
      "Warning message in download.file(paste(yahoo.URL, \"s=\", Symbols.name, \"&a=\", from.m, :\n",
      "\"cannot open URL 'http://ichart.finance.yahoo.com/table.csv?s=BTU&a=0&b=13&c=2005&d=1&e=21&f=2017&g=d&q=q&y=0&z=BTU&x=.csv': HTTP status was '404 Not Found'\""
     ]
    },
    {
     "name": "stdout",
     "output_type": "stream",
     "text": [
      "<simpleError in download.file(paste(yahoo.URL, \"s=\", Symbols.name, \"&a=\", from.m,     \"&b=\", sprintf(\"%.2d\", from.d), \"&c=\", from.y, \"&d=\", to.m,     \"&e=\", sprintf(\"%.2d\", to.d), \"&f=\", to.y, \"&g=d&q=q&y=0\",     \"&z=\", Symbols.name, \"&x=.csv\", sep = \"\"), destfile = tmp,     quiet = !verbose): cannot open URL 'http://ichart.finance.yahoo.com/table.csv?s=BTU&a=0&b=13&c=2005&d=1&e=21&f=2017&g=d&q=q&y=0&z=BTU&x=.csv'>\n",
      "( 349 / 499 )  Downloading  BTU \t\t Attempt:  4 / 5 \n"
     ]
    },
    {
     "name": "stderr",
     "output_type": "stream",
     "text": [
      "Warning message in download.file(paste(yahoo.URL, \"s=\", Symbols.name, \"&a=\", from.m, :\n",
      "\"cannot open URL 'http://ichart.finance.yahoo.com/table.csv?s=BTU&a=0&b=13&c=2005&d=1&e=21&f=2017&g=d&q=q&y=0&z=BTU&x=.csv': HTTP status was '404 Not Found'\""
     ]
    },
    {
     "name": "stdout",
     "output_type": "stream",
     "text": [
      "<simpleError in download.file(paste(yahoo.URL, \"s=\", Symbols.name, \"&a=\", from.m,     \"&b=\", sprintf(\"%.2d\", from.d), \"&c=\", from.y, \"&d=\", to.m,     \"&e=\", sprintf(\"%.2d\", to.d), \"&f=\", to.y, \"&g=d&q=q&y=0\",     \"&z=\", Symbols.name, \"&x=.csv\", sep = \"\"), destfile = tmp,     quiet = !verbose): cannot open URL 'http://ichart.finance.yahoo.com/table.csv?s=BTU&a=0&b=13&c=2005&d=1&e=21&f=2017&g=d&q=q&y=0&z=BTU&x=.csv'>\n",
      "( 349 / 499 )  Downloading  BTU \t\t Attempt:  5 / 5 \n"
     ]
    },
    {
     "name": "stderr",
     "output_type": "stream",
     "text": [
      "Warning message in download.file(paste(yahoo.URL, \"s=\", Symbols.name, \"&a=\", from.m, :\n",
      "\"cannot open URL 'http://ichart.finance.yahoo.com/table.csv?s=BTU&a=0&b=13&c=2005&d=1&e=21&f=2017&g=d&q=q&y=0&z=BTU&x=.csv': HTTP status was '404 Not Found'\""
     ]
    },
    {
     "name": "stdout",
     "output_type": "stream",
     "text": [
      "<simpleError in download.file(paste(yahoo.URL, \"s=\", Symbols.name, \"&a=\", from.m,     \"&b=\", sprintf(\"%.2d\", from.d), \"&c=\", from.y, \"&d=\", to.m,     \"&e=\", sprintf(\"%.2d\", to.d), \"&f=\", to.y, \"&g=d&q=q&y=0\",     \"&z=\", Symbols.name, \"&x=.csv\", sep = \"\"), destfile = tmp,     quiet = !verbose): cannot open URL 'http://ichart.finance.yahoo.com/table.csv?s=BTU&a=0&b=13&c=2005&d=1&e=21&f=2017&g=d&q=q&y=0&z=BTU&x=.csv'>\n",
      "( 350 / 499 )  Downloading  JCP \t\t Attempt:  1 / 5 \n",
      "( 351 / 499 )  Downloading  PBCT \t\t Attempt:  1 / 5 \n",
      "( 352 / 499 )  Downloading  POM \t\t Attempt:  1 / 5 \n"
     ]
    },
    {
     "name": "stderr",
     "output_type": "stream",
     "text": [
      "Warning message in download.file(paste(yahoo.URL, \"s=\", Symbols.name, \"&a=\", from.m, :\n",
      "\"cannot open URL 'http://ichart.finance.yahoo.com/table.csv?s=POM&a=0&b=13&c=2005&d=1&e=21&f=2017&g=d&q=q&y=0&z=POM&x=.csv': HTTP status was '404 Not Found'\""
     ]
    },
    {
     "name": "stdout",
     "output_type": "stream",
     "text": [
      "<simpleError in download.file(paste(yahoo.URL, \"s=\", Symbols.name, \"&a=\", from.m,     \"&b=\", sprintf(\"%.2d\", from.d), \"&c=\", from.y, \"&d=\", to.m,     \"&e=\", sprintf(\"%.2d\", to.d), \"&f=\", to.y, \"&g=d&q=q&y=0\",     \"&z=\", Symbols.name, \"&x=.csv\", sep = \"\"), destfile = tmp,     quiet = !verbose): cannot open URL 'http://ichart.finance.yahoo.com/table.csv?s=POM&a=0&b=13&c=2005&d=1&e=21&f=2017&g=d&q=q&y=0&z=POM&x=.csv'>\n",
      "( 352 / 499 )  Downloading  POM \t\t Attempt:  2 / 5 \n"
     ]
    },
    {
     "name": "stderr",
     "output_type": "stream",
     "text": [
      "Warning message in download.file(paste(yahoo.URL, \"s=\", Symbols.name, \"&a=\", from.m, :\n",
      "\"cannot open URL 'http://ichart.finance.yahoo.com/table.csv?s=POM&a=0&b=13&c=2005&d=1&e=21&f=2017&g=d&q=q&y=0&z=POM&x=.csv': HTTP status was '404 Not Found'\""
     ]
    },
    {
     "name": "stdout",
     "output_type": "stream",
     "text": [
      "<simpleError in download.file(paste(yahoo.URL, \"s=\", Symbols.name, \"&a=\", from.m,     \"&b=\", sprintf(\"%.2d\", from.d), \"&c=\", from.y, \"&d=\", to.m,     \"&e=\", sprintf(\"%.2d\", to.d), \"&f=\", to.y, \"&g=d&q=q&y=0\",     \"&z=\", Symbols.name, \"&x=.csv\", sep = \"\"), destfile = tmp,     quiet = !verbose): cannot open URL 'http://ichart.finance.yahoo.com/table.csv?s=POM&a=0&b=13&c=2005&d=1&e=21&f=2017&g=d&q=q&y=0&z=POM&x=.csv'>\n",
      "( 352 / 499 )  Downloading  POM \t\t Attempt:  3 / 5 \n"
     ]
    },
    {
     "name": "stderr",
     "output_type": "stream",
     "text": [
      "Warning message in download.file(paste(yahoo.URL, \"s=\", Symbols.name, \"&a=\", from.m, :\n",
      "\"cannot open URL 'http://ichart.finance.yahoo.com/table.csv?s=POM&a=0&b=13&c=2005&d=1&e=21&f=2017&g=d&q=q&y=0&z=POM&x=.csv': HTTP status was '404 Not Found'\""
     ]
    },
    {
     "name": "stdout",
     "output_type": "stream",
     "text": [
      "<simpleError in download.file(paste(yahoo.URL, \"s=\", Symbols.name, \"&a=\", from.m,     \"&b=\", sprintf(\"%.2d\", from.d), \"&c=\", from.y, \"&d=\", to.m,     \"&e=\", sprintf(\"%.2d\", to.d), \"&f=\", to.y, \"&g=d&q=q&y=0\",     \"&z=\", Symbols.name, \"&x=.csv\", sep = \"\"), destfile = tmp,     quiet = !verbose): cannot open URL 'http://ichart.finance.yahoo.com/table.csv?s=POM&a=0&b=13&c=2005&d=1&e=21&f=2017&g=d&q=q&y=0&z=POM&x=.csv'>\n",
      "( 352 / 499 )  Downloading  POM \t\t Attempt:  4 / 5 \n"
     ]
    },
    {
     "name": "stderr",
     "output_type": "stream",
     "text": [
      "Warning message in download.file(paste(yahoo.URL, \"s=\", Symbols.name, \"&a=\", from.m, :\n",
      "\"cannot open URL 'http://ichart.finance.yahoo.com/table.csv?s=POM&a=0&b=13&c=2005&d=1&e=21&f=2017&g=d&q=q&y=0&z=POM&x=.csv': HTTP status was '404 Not Found'\""
     ]
    },
    {
     "name": "stdout",
     "output_type": "stream",
     "text": [
      "<simpleError in download.file(paste(yahoo.URL, \"s=\", Symbols.name, \"&a=\", from.m,     \"&b=\", sprintf(\"%.2d\", from.d), \"&c=\", from.y, \"&d=\", to.m,     \"&e=\", sprintf(\"%.2d\", to.d), \"&f=\", to.y, \"&g=d&q=q&y=0\",     \"&z=\", Symbols.name, \"&x=.csv\", sep = \"\"), destfile = tmp,     quiet = !verbose): cannot open URL 'http://ichart.finance.yahoo.com/table.csv?s=POM&a=0&b=13&c=2005&d=1&e=21&f=2017&g=d&q=q&y=0&z=POM&x=.csv'>\n",
      "( 352 / 499 )  Downloading  POM \t\t Attempt:  5 / 5 \n"
     ]
    },
    {
     "name": "stderr",
     "output_type": "stream",
     "text": [
      "Warning message in download.file(paste(yahoo.URL, \"s=\", Symbols.name, \"&a=\", from.m, :\n",
      "\"cannot open URL 'http://ichart.finance.yahoo.com/table.csv?s=POM&a=0&b=13&c=2005&d=1&e=21&f=2017&g=d&q=q&y=0&z=POM&x=.csv': HTTP status was '404 Not Found'\""
     ]
    },
    {
     "name": "stdout",
     "output_type": "stream",
     "text": [
      "<simpleError in download.file(paste(yahoo.URL, \"s=\", Symbols.name, \"&a=\", from.m,     \"&b=\", sprintf(\"%.2d\", from.d), \"&c=\", from.y, \"&d=\", to.m,     \"&e=\", sprintf(\"%.2d\", to.d), \"&f=\", to.y, \"&g=d&q=q&y=0\",     \"&z=\", Symbols.name, \"&x=.csv\", sep = \"\"), destfile = tmp,     quiet = !verbose): cannot open URL 'http://ichart.finance.yahoo.com/table.csv?s=POM&a=0&b=13&c=2005&d=1&e=21&f=2017&g=d&q=q&y=0&z=POM&x=.csv'>\n",
      "( 353 / 499 )  Downloading  PEP \t\t Attempt:  1 / 5 \n",
      "( 354 / 499 )  Downloading  PKI \t\t Attempt:  1 / 5 \n",
      "( 355 / 499 )  Downloading  PFE \t\t Attempt:  1 / 5 \n",
      "( 356 / 499 )  Downloading  PCG \t\t Attempt:  1 / 5 \n",
      "( 357 / 499 )  Downloading  PM \t\t Attempt:  1 / 5 \n",
      "( 358 / 499 )  Downloading  PNW \t\t Attempt:  1 / 5 \n",
      "( 359 / 499 )  Downloading  PXD \t\t Attempt:  1 / 5 \n",
      "( 360 / 499 )  Downloading  PBI \t\t Attempt:  1 / 5 \n",
      "( 361 / 499 )  Downloading  PCL \t\t Attempt:  1 / 5 \n"
     ]
    },
    {
     "name": "stderr",
     "output_type": "stream",
     "text": [
      "Warning message in download.file(paste(yahoo.URL, \"s=\", Symbols.name, \"&a=\", from.m, :\n",
      "\"cannot open URL 'http://ichart.finance.yahoo.com/table.csv?s=PCL&a=0&b=13&c=2005&d=1&e=21&f=2017&g=d&q=q&y=0&z=PCL&x=.csv': HTTP status was '404 Not Found'\""
     ]
    },
    {
     "name": "stdout",
     "output_type": "stream",
     "text": [
      "<simpleError in download.file(paste(yahoo.URL, \"s=\", Symbols.name, \"&a=\", from.m,     \"&b=\", sprintf(\"%.2d\", from.d), \"&c=\", from.y, \"&d=\", to.m,     \"&e=\", sprintf(\"%.2d\", to.d), \"&f=\", to.y, \"&g=d&q=q&y=0\",     \"&z=\", Symbols.name, \"&x=.csv\", sep = \"\"), destfile = tmp,     quiet = !verbose): cannot open URL 'http://ichart.finance.yahoo.com/table.csv?s=PCL&a=0&b=13&c=2005&d=1&e=21&f=2017&g=d&q=q&y=0&z=PCL&x=.csv'>\n",
      "( 361 / 499 )  Downloading  PCL \t\t Attempt:  2 / 5 \n"
     ]
    },
    {
     "name": "stderr",
     "output_type": "stream",
     "text": [
      "Warning message in download.file(paste(yahoo.URL, \"s=\", Symbols.name, \"&a=\", from.m, :\n",
      "\"cannot open URL 'http://ichart.finance.yahoo.com/table.csv?s=PCL&a=0&b=13&c=2005&d=1&e=21&f=2017&g=d&q=q&y=0&z=PCL&x=.csv': HTTP status was '404 Not Found'\""
     ]
    },
    {
     "name": "stdout",
     "output_type": "stream",
     "text": [
      "<simpleError in download.file(paste(yahoo.URL, \"s=\", Symbols.name, \"&a=\", from.m,     \"&b=\", sprintf(\"%.2d\", from.d), \"&c=\", from.y, \"&d=\", to.m,     \"&e=\", sprintf(\"%.2d\", to.d), \"&f=\", to.y, \"&g=d&q=q&y=0\",     \"&z=\", Symbols.name, \"&x=.csv\", sep = \"\"), destfile = tmp,     quiet = !verbose): cannot open URL 'http://ichart.finance.yahoo.com/table.csv?s=PCL&a=0&b=13&c=2005&d=1&e=21&f=2017&g=d&q=q&y=0&z=PCL&x=.csv'>\n",
      "( 361 / 499 )  Downloading  PCL \t\t Attempt:  3 / 5 \n"
     ]
    },
    {
     "name": "stderr",
     "output_type": "stream",
     "text": [
      "Warning message in download.file(paste(yahoo.URL, \"s=\", Symbols.name, \"&a=\", from.m, :\n",
      "\"cannot open URL 'http://ichart.finance.yahoo.com/table.csv?s=PCL&a=0&b=13&c=2005&d=1&e=21&f=2017&g=d&q=q&y=0&z=PCL&x=.csv': HTTP status was '404 Not Found'\""
     ]
    },
    {
     "name": "stdout",
     "output_type": "stream",
     "text": [
      "<simpleError in download.file(paste(yahoo.URL, \"s=\", Symbols.name, \"&a=\", from.m,     \"&b=\", sprintf(\"%.2d\", from.d), \"&c=\", from.y, \"&d=\", to.m,     \"&e=\", sprintf(\"%.2d\", to.d), \"&f=\", to.y, \"&g=d&q=q&y=0\",     \"&z=\", Symbols.name, \"&x=.csv\", sep = \"\"), destfile = tmp,     quiet = !verbose): cannot open URL 'http://ichart.finance.yahoo.com/table.csv?s=PCL&a=0&b=13&c=2005&d=1&e=21&f=2017&g=d&q=q&y=0&z=PCL&x=.csv'>\n",
      "( 361 / 499 )  Downloading  PCL \t\t Attempt:  4 / 5 \n"
     ]
    },
    {
     "name": "stderr",
     "output_type": "stream",
     "text": [
      "Warning message in download.file(paste(yahoo.URL, \"s=\", Symbols.name, \"&a=\", from.m, :\n",
      "\"cannot open URL 'http://ichart.finance.yahoo.com/table.csv?s=PCL&a=0&b=13&c=2005&d=1&e=21&f=2017&g=d&q=q&y=0&z=PCL&x=.csv': HTTP status was '404 Not Found'\""
     ]
    },
    {
     "name": "stdout",
     "output_type": "stream",
     "text": [
      "<simpleError in download.file(paste(yahoo.URL, \"s=\", Symbols.name, \"&a=\", from.m,     \"&b=\", sprintf(\"%.2d\", from.d), \"&c=\", from.y, \"&d=\", to.m,     \"&e=\", sprintf(\"%.2d\", to.d), \"&f=\", to.y, \"&g=d&q=q&y=0\",     \"&z=\", Symbols.name, \"&x=.csv\", sep = \"\"), destfile = tmp,     quiet = !verbose): cannot open URL 'http://ichart.finance.yahoo.com/table.csv?s=PCL&a=0&b=13&c=2005&d=1&e=21&f=2017&g=d&q=q&y=0&z=PCL&x=.csv'>\n",
      "( 361 / 499 )  Downloading  PCL \t\t Attempt:  5 / 5 \n"
     ]
    },
    {
     "name": "stderr",
     "output_type": "stream",
     "text": [
      "Warning message in download.file(paste(yahoo.URL, \"s=\", Symbols.name, \"&a=\", from.m, :\n",
      "\"cannot open URL 'http://ichart.finance.yahoo.com/table.csv?s=PCL&a=0&b=13&c=2005&d=1&e=21&f=2017&g=d&q=q&y=0&z=PCL&x=.csv': HTTP status was '404 Not Found'\""
     ]
    },
    {
     "name": "stdout",
     "output_type": "stream",
     "text": [
      "<simpleError in download.file(paste(yahoo.URL, \"s=\", Symbols.name, \"&a=\", from.m,     \"&b=\", sprintf(\"%.2d\", from.d), \"&c=\", from.y, \"&d=\", to.m,     \"&e=\", sprintf(\"%.2d\", to.d), \"&f=\", to.y, \"&g=d&q=q&y=0\",     \"&z=\", Symbols.name, \"&x=.csv\", sep = \"\"), destfile = tmp,     quiet = !verbose): cannot open URL 'http://ichart.finance.yahoo.com/table.csv?s=PCL&a=0&b=13&c=2005&d=1&e=21&f=2017&g=d&q=q&y=0&z=PCL&x=.csv'>\n",
      "( 362 / 499 )  Downloading  PNC \t\t Attempt:  1 / 5 \n",
      "( 363 / 499 )  Downloading  RL \t\t Attempt:  1 / 5 \n",
      "( 364 / 499 )  Downloading  PPG \t\t Attempt:  1 / 5 \n",
      "( 365 / 499 )  Downloading  PPL \t\t Attempt:  1 / 5 \n",
      "( 366 / 499 )  Downloading  PX \t\t Attempt:  1 / 5 \n",
      "( 367 / 499 )  Downloading  PCP \t\t Attempt:  1 / 5 \n"
     ]
    },
    {
     "name": "stderr",
     "output_type": "stream",
     "text": [
      "Warning message in download.file(paste(yahoo.URL, \"s=\", Symbols.name, \"&a=\", from.m, :\n",
      "\"cannot open URL 'http://ichart.finance.yahoo.com/table.csv?s=PCP&a=0&b=13&c=2005&d=1&e=21&f=2017&g=d&q=q&y=0&z=PCP&x=.csv': HTTP status was '404 Not Found'\""
     ]
    },
    {
     "name": "stdout",
     "output_type": "stream",
     "text": [
      "<simpleError in download.file(paste(yahoo.URL, \"s=\", Symbols.name, \"&a=\", from.m,     \"&b=\", sprintf(\"%.2d\", from.d), \"&c=\", from.y, \"&d=\", to.m,     \"&e=\", sprintf(\"%.2d\", to.d), \"&f=\", to.y, \"&g=d&q=q&y=0\",     \"&z=\", Symbols.name, \"&x=.csv\", sep = \"\"), destfile = tmp,     quiet = !verbose): cannot open URL 'http://ichart.finance.yahoo.com/table.csv?s=PCP&a=0&b=13&c=2005&d=1&e=21&f=2017&g=d&q=q&y=0&z=PCP&x=.csv'>\n",
      "( 367 / 499 )  Downloading  PCP \t\t Attempt:  2 / 5 \n"
     ]
    },
    {
     "name": "stderr",
     "output_type": "stream",
     "text": [
      "Warning message in download.file(paste(yahoo.URL, \"s=\", Symbols.name, \"&a=\", from.m, :\n",
      "\"cannot open URL 'http://ichart.finance.yahoo.com/table.csv?s=PCP&a=0&b=13&c=2005&d=1&e=21&f=2017&g=d&q=q&y=0&z=PCP&x=.csv': HTTP status was '404 Not Found'\""
     ]
    },
    {
     "name": "stdout",
     "output_type": "stream",
     "text": [
      "<simpleError in download.file(paste(yahoo.URL, \"s=\", Symbols.name, \"&a=\", from.m,     \"&b=\", sprintf(\"%.2d\", from.d), \"&c=\", from.y, \"&d=\", to.m,     \"&e=\", sprintf(\"%.2d\", to.d), \"&f=\", to.y, \"&g=d&q=q&y=0\",     \"&z=\", Symbols.name, \"&x=.csv\", sep = \"\"), destfile = tmp,     quiet = !verbose): cannot open URL 'http://ichart.finance.yahoo.com/table.csv?s=PCP&a=0&b=13&c=2005&d=1&e=21&f=2017&g=d&q=q&y=0&z=PCP&x=.csv'>\n",
      "( 367 / 499 )  Downloading  PCP \t\t Attempt:  3 / 5 \n"
     ]
    },
    {
     "name": "stderr",
     "output_type": "stream",
     "text": [
      "Warning message in download.file(paste(yahoo.URL, \"s=\", Symbols.name, \"&a=\", from.m, :\n",
      "\"cannot open URL 'http://ichart.finance.yahoo.com/table.csv?s=PCP&a=0&b=13&c=2005&d=1&e=21&f=2017&g=d&q=q&y=0&z=PCP&x=.csv': HTTP status was '404 Not Found'\""
     ]
    },
    {
     "name": "stdout",
     "output_type": "stream",
     "text": [
      "<simpleError in download.file(paste(yahoo.URL, \"s=\", Symbols.name, \"&a=\", from.m,     \"&b=\", sprintf(\"%.2d\", from.d), \"&c=\", from.y, \"&d=\", to.m,     \"&e=\", sprintf(\"%.2d\", to.d), \"&f=\", to.y, \"&g=d&q=q&y=0\",     \"&z=\", Symbols.name, \"&x=.csv\", sep = \"\"), destfile = tmp,     quiet = !verbose): cannot open URL 'http://ichart.finance.yahoo.com/table.csv?s=PCP&a=0&b=13&c=2005&d=1&e=21&f=2017&g=d&q=q&y=0&z=PCP&x=.csv'>\n",
      "( 367 / 499 )  Downloading  PCP \t\t Attempt:  4 / 5 \n"
     ]
    },
    {
     "name": "stderr",
     "output_type": "stream",
     "text": [
      "Warning message in download.file(paste(yahoo.URL, \"s=\", Symbols.name, \"&a=\", from.m, :\n",
      "\"cannot open URL 'http://ichart.finance.yahoo.com/table.csv?s=PCP&a=0&b=13&c=2005&d=1&e=21&f=2017&g=d&q=q&y=0&z=PCP&x=.csv': HTTP status was '404 Not Found'\""
     ]
    },
    {
     "name": "stdout",
     "output_type": "stream",
     "text": [
      "<simpleError in download.file(paste(yahoo.URL, \"s=\", Symbols.name, \"&a=\", from.m,     \"&b=\", sprintf(\"%.2d\", from.d), \"&c=\", from.y, \"&d=\", to.m,     \"&e=\", sprintf(\"%.2d\", to.d), \"&f=\", to.y, \"&g=d&q=q&y=0\",     \"&z=\", Symbols.name, \"&x=.csv\", sep = \"\"), destfile = tmp,     quiet = !verbose): cannot open URL 'http://ichart.finance.yahoo.com/table.csv?s=PCP&a=0&b=13&c=2005&d=1&e=21&f=2017&g=d&q=q&y=0&z=PCP&x=.csv'>\n",
      "( 367 / 499 )  Downloading  PCP \t\t Attempt:  5 / 5 \n"
     ]
    },
    {
     "name": "stderr",
     "output_type": "stream",
     "text": [
      "Warning message in download.file(paste(yahoo.URL, \"s=\", Symbols.name, \"&a=\", from.m, :\n",
      "\"cannot open URL 'http://ichart.finance.yahoo.com/table.csv?s=PCP&a=0&b=13&c=2005&d=1&e=21&f=2017&g=d&q=q&y=0&z=PCP&x=.csv': HTTP status was '404 Not Found'\""
     ]
    },
    {
     "name": "stdout",
     "output_type": "stream",
     "text": [
      "<simpleError in download.file(paste(yahoo.URL, \"s=\", Symbols.name, \"&a=\", from.m,     \"&b=\", sprintf(\"%.2d\", from.d), \"&c=\", from.y, \"&d=\", to.m,     \"&e=\", sprintf(\"%.2d\", to.d), \"&f=\", to.y, \"&g=d&q=q&y=0\",     \"&z=\", Symbols.name, \"&x=.csv\", sep = \"\"), destfile = tmp,     quiet = !verbose): cannot open URL 'http://ichart.finance.yahoo.com/table.csv?s=PCP&a=0&b=13&c=2005&d=1&e=21&f=2017&g=d&q=q&y=0&z=PCP&x=.csv'>\n",
      "( 368 / 499 )  Downloading  PCLN \t\t Attempt:  1 / 5 \n",
      "( 369 / 499 )  Downloading  PFG \t\t Attempt:  1 / 5 \n",
      "( 370 / 499 )  Downloading  PG \t\t Attempt:  1 / 5 \n",
      "( 371 / 499 )  Downloading  PGN \t\t Attempt:  1 / 5 \n"
     ]
    },
    {
     "name": "stderr",
     "output_type": "stream",
     "text": [
      "Warning message in download.file(paste(yahoo.URL, \"s=\", Symbols.name, \"&a=\", from.m, :\n",
      "\"cannot open URL 'http://ichart.finance.yahoo.com/table.csv?s=PGN&a=0&b=13&c=2005&d=1&e=21&f=2017&g=d&q=q&y=0&z=PGN&x=.csv': HTTP status was '404 Not Found'\""
     ]
    },
    {
     "name": "stdout",
     "output_type": "stream",
     "text": [
      "<simpleError in download.file(paste(yahoo.URL, \"s=\", Symbols.name, \"&a=\", from.m,     \"&b=\", sprintf(\"%.2d\", from.d), \"&c=\", from.y, \"&d=\", to.m,     \"&e=\", sprintf(\"%.2d\", to.d), \"&f=\", to.y, \"&g=d&q=q&y=0\",     \"&z=\", Symbols.name, \"&x=.csv\", sep = \"\"), destfile = tmp,     quiet = !verbose): cannot open URL 'http://ichart.finance.yahoo.com/table.csv?s=PGN&a=0&b=13&c=2005&d=1&e=21&f=2017&g=d&q=q&y=0&z=PGN&x=.csv'>\n",
      "( 371 / 499 )  Downloading  PGN \t\t Attempt:  2 / 5 \n"
     ]
    },
    {
     "name": "stderr",
     "output_type": "stream",
     "text": [
      "Warning message in download.file(paste(yahoo.URL, \"s=\", Symbols.name, \"&a=\", from.m, :\n",
      "\"cannot open URL 'http://ichart.finance.yahoo.com/table.csv?s=PGN&a=0&b=13&c=2005&d=1&e=21&f=2017&g=d&q=q&y=0&z=PGN&x=.csv': HTTP status was '404 Not Found'\""
     ]
    },
    {
     "name": "stdout",
     "output_type": "stream",
     "text": [
      "<simpleError in download.file(paste(yahoo.URL, \"s=\", Symbols.name, \"&a=\", from.m,     \"&b=\", sprintf(\"%.2d\", from.d), \"&c=\", from.y, \"&d=\", to.m,     \"&e=\", sprintf(\"%.2d\", to.d), \"&f=\", to.y, \"&g=d&q=q&y=0\",     \"&z=\", Symbols.name, \"&x=.csv\", sep = \"\"), destfile = tmp,     quiet = !verbose): cannot open URL 'http://ichart.finance.yahoo.com/table.csv?s=PGN&a=0&b=13&c=2005&d=1&e=21&f=2017&g=d&q=q&y=0&z=PGN&x=.csv'>\n",
      "( 371 / 499 )  Downloading  PGN \t\t Attempt:  3 / 5 \n"
     ]
    },
    {
     "name": "stderr",
     "output_type": "stream",
     "text": [
      "Warning message in download.file(paste(yahoo.URL, \"s=\", Symbols.name, \"&a=\", from.m, :\n",
      "\"cannot open URL 'http://ichart.finance.yahoo.com/table.csv?s=PGN&a=0&b=13&c=2005&d=1&e=21&f=2017&g=d&q=q&y=0&z=PGN&x=.csv': HTTP status was '404 Not Found'\""
     ]
    },
    {
     "name": "stdout",
     "output_type": "stream",
     "text": [
      "<simpleError in download.file(paste(yahoo.URL, \"s=\", Symbols.name, \"&a=\", from.m,     \"&b=\", sprintf(\"%.2d\", from.d), \"&c=\", from.y, \"&d=\", to.m,     \"&e=\", sprintf(\"%.2d\", to.d), \"&f=\", to.y, \"&g=d&q=q&y=0\",     \"&z=\", Symbols.name, \"&x=.csv\", sep = \"\"), destfile = tmp,     quiet = !verbose): cannot open URL 'http://ichart.finance.yahoo.com/table.csv?s=PGN&a=0&b=13&c=2005&d=1&e=21&f=2017&g=d&q=q&y=0&z=PGN&x=.csv'>\n",
      "( 371 / 499 )  Downloading  PGN \t\t Attempt:  4 / 5 \n"
     ]
    },
    {
     "name": "stderr",
     "output_type": "stream",
     "text": [
      "Warning message in download.file(paste(yahoo.URL, \"s=\", Symbols.name, \"&a=\", from.m, :\n",
      "\"cannot open URL 'http://ichart.finance.yahoo.com/table.csv?s=PGN&a=0&b=13&c=2005&d=1&e=21&f=2017&g=d&q=q&y=0&z=PGN&x=.csv': HTTP status was '404 Not Found'\""
     ]
    },
    {
     "name": "stdout",
     "output_type": "stream",
     "text": [
      "<simpleError in download.file(paste(yahoo.URL, \"s=\", Symbols.name, \"&a=\", from.m,     \"&b=\", sprintf(\"%.2d\", from.d), \"&c=\", from.y, \"&d=\", to.m,     \"&e=\", sprintf(\"%.2d\", to.d), \"&f=\", to.y, \"&g=d&q=q&y=0\",     \"&z=\", Symbols.name, \"&x=.csv\", sep = \"\"), destfile = tmp,     quiet = !verbose): cannot open URL 'http://ichart.finance.yahoo.com/table.csv?s=PGN&a=0&b=13&c=2005&d=1&e=21&f=2017&g=d&q=q&y=0&z=PGN&x=.csv'>\n",
      "( 371 / 499 )  Downloading  PGN \t\t Attempt:  5 / 5 \n"
     ]
    },
    {
     "name": "stderr",
     "output_type": "stream",
     "text": [
      "Warning message in download.file(paste(yahoo.URL, \"s=\", Symbols.name, \"&a=\", from.m, :\n",
      "\"cannot open URL 'http://ichart.finance.yahoo.com/table.csv?s=PGN&a=0&b=13&c=2005&d=1&e=21&f=2017&g=d&q=q&y=0&z=PGN&x=.csv': HTTP status was '404 Not Found'\""
     ]
    },
    {
     "name": "stdout",
     "output_type": "stream",
     "text": [
      "<simpleError in download.file(paste(yahoo.URL, \"s=\", Symbols.name, \"&a=\", from.m,     \"&b=\", sprintf(\"%.2d\", from.d), \"&c=\", from.y, \"&d=\", to.m,     \"&e=\", sprintf(\"%.2d\", to.d), \"&f=\", to.y, \"&g=d&q=q&y=0\",     \"&z=\", Symbols.name, \"&x=.csv\", sep = \"\"), destfile = tmp,     quiet = !verbose): cannot open URL 'http://ichart.finance.yahoo.com/table.csv?s=PGN&a=0&b=13&c=2005&d=1&e=21&f=2017&g=d&q=q&y=0&z=PGN&x=.csv'>\n",
      "( 372 / 499 )  Downloading  PGR \t\t Attempt:  1 / 5 \n",
      "( 373 / 499 )  Downloading  PLD \t\t Attempt:  1 / 5 \n",
      "( 374 / 499 )  Downloading  PRU \t\t Attempt:  1 / 5 \n",
      "( 375 / 499 )  Downloading  PEG \t\t Attempt:  1 / 5 \n",
      "( 376 / 499 )  Downloading  PSA \t\t Attempt:  1 / 5 \n",
      "( 377 / 499 )  Downloading  PHM \t\t Attempt:  1 / 5 \n",
      "( 378 / 499 )  Downloading  QEP \t\t Attempt:  1 / 5 \n",
      "( 379 / 499 )  Downloading  QLGC \t\t Attempt:  1 / 5 \n",
      "( 380 / 499 )  Downloading  PWR \t\t Attempt:  1 / 5 \n",
      "( 381 / 499 )  Downloading  QCOM \t\t Attempt:  1 / 5 \n",
      "( 382 / 499 )  Downloading  DGX \t\t Attempt:  1 / 5 \n",
      "( 383 / 499 )  Downloading  Q \t\t Attempt:  1 / 5 \n",
      "( 384 / 499 )  Downloading  RSH \t\t Attempt:  1 / 5 \n"
     ]
    },
    {
     "name": "stderr",
     "output_type": "stream",
     "text": [
      "Warning message in download.file(paste(yahoo.URL, \"s=\", Symbols.name, \"&a=\", from.m, :\n",
      "\"cannot open URL 'http://ichart.finance.yahoo.com/table.csv?s=RSH&a=0&b=13&c=2005&d=1&e=21&f=2017&g=d&q=q&y=0&z=RSH&x=.csv': HTTP status was '404 Not Found'\""
     ]
    },
    {
     "name": "stdout",
     "output_type": "stream",
     "text": [
      "<simpleError in download.file(paste(yahoo.URL, \"s=\", Symbols.name, \"&a=\", from.m,     \"&b=\", sprintf(\"%.2d\", from.d), \"&c=\", from.y, \"&d=\", to.m,     \"&e=\", sprintf(\"%.2d\", to.d), \"&f=\", to.y, \"&g=d&q=q&y=0\",     \"&z=\", Symbols.name, \"&x=.csv\", sep = \"\"), destfile = tmp,     quiet = !verbose): cannot open URL 'http://ichart.finance.yahoo.com/table.csv?s=RSH&a=0&b=13&c=2005&d=1&e=21&f=2017&g=d&q=q&y=0&z=RSH&x=.csv'>\n",
      "( 384 / 499 )  Downloading  RSH \t\t Attempt:  2 / 5 \n"
     ]
    },
    {
     "name": "stderr",
     "output_type": "stream",
     "text": [
      "Warning message in download.file(paste(yahoo.URL, \"s=\", Symbols.name, \"&a=\", from.m, :\n",
      "\"cannot open URL 'http://ichart.finance.yahoo.com/table.csv?s=RSH&a=0&b=13&c=2005&d=1&e=21&f=2017&g=d&q=q&y=0&z=RSH&x=.csv': HTTP status was '404 Not Found'\""
     ]
    },
    {
     "name": "stdout",
     "output_type": "stream",
     "text": [
      "<simpleError in download.file(paste(yahoo.URL, \"s=\", Symbols.name, \"&a=\", from.m,     \"&b=\", sprintf(\"%.2d\", from.d), \"&c=\", from.y, \"&d=\", to.m,     \"&e=\", sprintf(\"%.2d\", to.d), \"&f=\", to.y, \"&g=d&q=q&y=0\",     \"&z=\", Symbols.name, \"&x=.csv\", sep = \"\"), destfile = tmp,     quiet = !verbose): cannot open URL 'http://ichart.finance.yahoo.com/table.csv?s=RSH&a=0&b=13&c=2005&d=1&e=21&f=2017&g=d&q=q&y=0&z=RSH&x=.csv'>\n",
      "( 384 / 499 )  Downloading  RSH \t\t Attempt:  3 / 5 \n"
     ]
    },
    {
     "name": "stderr",
     "output_type": "stream",
     "text": [
      "Warning message in download.file(paste(yahoo.URL, \"s=\", Symbols.name, \"&a=\", from.m, :\n",
      "\"cannot open URL 'http://ichart.finance.yahoo.com/table.csv?s=RSH&a=0&b=13&c=2005&d=1&e=21&f=2017&g=d&q=q&y=0&z=RSH&x=.csv': HTTP status was '404 Not Found'\""
     ]
    },
    {
     "name": "stdout",
     "output_type": "stream",
     "text": [
      "<simpleError in download.file(paste(yahoo.URL, \"s=\", Symbols.name, \"&a=\", from.m,     \"&b=\", sprintf(\"%.2d\", from.d), \"&c=\", from.y, \"&d=\", to.m,     \"&e=\", sprintf(\"%.2d\", to.d), \"&f=\", to.y, \"&g=d&q=q&y=0\",     \"&z=\", Symbols.name, \"&x=.csv\", sep = \"\"), destfile = tmp,     quiet = !verbose): cannot open URL 'http://ichart.finance.yahoo.com/table.csv?s=RSH&a=0&b=13&c=2005&d=1&e=21&f=2017&g=d&q=q&y=0&z=RSH&x=.csv'>\n",
      "( 384 / 499 )  Downloading  RSH \t\t Attempt:  4 / 5 \n"
     ]
    },
    {
     "name": "stderr",
     "output_type": "stream",
     "text": [
      "Warning message in download.file(paste(yahoo.URL, \"s=\", Symbols.name, \"&a=\", from.m, :\n",
      "\"cannot open URL 'http://ichart.finance.yahoo.com/table.csv?s=RSH&a=0&b=13&c=2005&d=1&e=21&f=2017&g=d&q=q&y=0&z=RSH&x=.csv': HTTP status was '404 Not Found'\""
     ]
    },
    {
     "name": "stdout",
     "output_type": "stream",
     "text": [
      "<simpleError in download.file(paste(yahoo.URL, \"s=\", Symbols.name, \"&a=\", from.m,     \"&b=\", sprintf(\"%.2d\", from.d), \"&c=\", from.y, \"&d=\", to.m,     \"&e=\", sprintf(\"%.2d\", to.d), \"&f=\", to.y, \"&g=d&q=q&y=0\",     \"&z=\", Symbols.name, \"&x=.csv\", sep = \"\"), destfile = tmp,     quiet = !verbose): cannot open URL 'http://ichart.finance.yahoo.com/table.csv?s=RSH&a=0&b=13&c=2005&d=1&e=21&f=2017&g=d&q=q&y=0&z=RSH&x=.csv'>\n",
      "( 384 / 499 )  Downloading  RSH \t\t Attempt:  5 / 5 \n"
     ]
    },
    {
     "name": "stderr",
     "output_type": "stream",
     "text": [
      "Warning message in download.file(paste(yahoo.URL, \"s=\", Symbols.name, \"&a=\", from.m, :\n",
      "\"cannot open URL 'http://ichart.finance.yahoo.com/table.csv?s=RSH&a=0&b=13&c=2005&d=1&e=21&f=2017&g=d&q=q&y=0&z=RSH&x=.csv': HTTP status was '404 Not Found'\""
     ]
    },
    {
     "name": "stdout",
     "output_type": "stream",
     "text": [
      "<simpleError in download.file(paste(yahoo.URL, \"s=\", Symbols.name, \"&a=\", from.m,     \"&b=\", sprintf(\"%.2d\", from.d), \"&c=\", from.y, \"&d=\", to.m,     \"&e=\", sprintf(\"%.2d\", to.d), \"&f=\", to.y, \"&g=d&q=q&y=0\",     \"&z=\", Symbols.name, \"&x=.csv\", sep = \"\"), destfile = tmp,     quiet = !verbose): cannot open URL 'http://ichart.finance.yahoo.com/table.csv?s=RSH&a=0&b=13&c=2005&d=1&e=21&f=2017&g=d&q=q&y=0&z=RSH&x=.csv'>\n",
      "( 385 / 499 )  Downloading  RRC \t\t Attempt:  1 / 5 \n",
      "( 386 / 499 )  Downloading  RTN \t\t Attempt:  1 / 5 \n",
      "( 387 / 499 )  Downloading  RHT \t\t Attempt:  1 / 5 \n",
      "( 388 / 499 )  Downloading  RF \t\t Attempt:  1 / 5 \n",
      "( 389 / 499 )  Downloading  RSG \t\t Attempt:  1 / 5 \n",
      "( 390 / 499 )  Downloading  RAI \t\t Attempt:  1 / 5 \n",
      "( 391 / 499 )  Downloading  RHI \t\t Attempt:  1 / 5 \n",
      "( 392 / 499 )  Downloading  ROK \t\t Attempt:  1 / 5 \n",
      "( 393 / 499 )  Downloading  COL \t\t Attempt:  1 / 5 \n",
      "( 394 / 499 )  Downloading  ROP \t\t Attempt:  1 / 5 \n",
      "( 395 / 499 )  Downloading  ROST \t\t Attempt:  1 / 5 \n",
      "( 396 / 499 )  Downloading  RDC \t\t Attempt:  1 / 5 \n",
      "( 397 / 499 )  Downloading  R \t\t Attempt:  1 / 5 \n",
      "( 398 / 499 )  Downloading  SWY \t\t Attempt:  1 / 5 \n"
     ]
    },
    {
     "name": "stderr",
     "output_type": "stream",
     "text": [
      "Warning message in download.file(paste(yahoo.URL, \"s=\", Symbols.name, \"&a=\", from.m, :\n",
      "\"cannot open URL 'http://ichart.finance.yahoo.com/table.csv?s=SWY&a=0&b=13&c=2005&d=1&e=21&f=2017&g=d&q=q&y=0&z=SWY&x=.csv': HTTP status was '404 Not Found'\""
     ]
    },
    {
     "name": "stdout",
     "output_type": "stream",
     "text": [
      "<simpleError in download.file(paste(yahoo.URL, \"s=\", Symbols.name, \"&a=\", from.m,     \"&b=\", sprintf(\"%.2d\", from.d), \"&c=\", from.y, \"&d=\", to.m,     \"&e=\", sprintf(\"%.2d\", to.d), \"&f=\", to.y, \"&g=d&q=q&y=0\",     \"&z=\", Symbols.name, \"&x=.csv\", sep = \"\"), destfile = tmp,     quiet = !verbose): cannot open URL 'http://ichart.finance.yahoo.com/table.csv?s=SWY&a=0&b=13&c=2005&d=1&e=21&f=2017&g=d&q=q&y=0&z=SWY&x=.csv'>\n",
      "( 398 / 499 )  Downloading  SWY \t\t Attempt:  2 / 5 \n"
     ]
    },
    {
     "name": "stderr",
     "output_type": "stream",
     "text": [
      "Warning message in download.file(paste(yahoo.URL, \"s=\", Symbols.name, \"&a=\", from.m, :\n",
      "\"cannot open URL 'http://ichart.finance.yahoo.com/table.csv?s=SWY&a=0&b=13&c=2005&d=1&e=21&f=2017&g=d&q=q&y=0&z=SWY&x=.csv': HTTP status was '404 Not Found'\""
     ]
    },
    {
     "name": "stdout",
     "output_type": "stream",
     "text": [
      "<simpleError in download.file(paste(yahoo.URL, \"s=\", Symbols.name, \"&a=\", from.m,     \"&b=\", sprintf(\"%.2d\", from.d), \"&c=\", from.y, \"&d=\", to.m,     \"&e=\", sprintf(\"%.2d\", to.d), \"&f=\", to.y, \"&g=d&q=q&y=0\",     \"&z=\", Symbols.name, \"&x=.csv\", sep = \"\"), destfile = tmp,     quiet = !verbose): cannot open URL 'http://ichart.finance.yahoo.com/table.csv?s=SWY&a=0&b=13&c=2005&d=1&e=21&f=2017&g=d&q=q&y=0&z=SWY&x=.csv'>\n",
      "( 398 / 499 )  Downloading  SWY \t\t Attempt:  3 / 5 \n"
     ]
    },
    {
     "name": "stderr",
     "output_type": "stream",
     "text": [
      "Warning message in download.file(paste(yahoo.URL, \"s=\", Symbols.name, \"&a=\", from.m, :\n",
      "\"cannot open URL 'http://ichart.finance.yahoo.com/table.csv?s=SWY&a=0&b=13&c=2005&d=1&e=21&f=2017&g=d&q=q&y=0&z=SWY&x=.csv': HTTP status was '404 Not Found'\""
     ]
    },
    {
     "name": "stdout",
     "output_type": "stream",
     "text": [
      "<simpleError in download.file(paste(yahoo.URL, \"s=\", Symbols.name, \"&a=\", from.m,     \"&b=\", sprintf(\"%.2d\", from.d), \"&c=\", from.y, \"&d=\", to.m,     \"&e=\", sprintf(\"%.2d\", to.d), \"&f=\", to.y, \"&g=d&q=q&y=0\",     \"&z=\", Symbols.name, \"&x=.csv\", sep = \"\"), destfile = tmp,     quiet = !verbose): cannot open URL 'http://ichart.finance.yahoo.com/table.csv?s=SWY&a=0&b=13&c=2005&d=1&e=21&f=2017&g=d&q=q&y=0&z=SWY&x=.csv'>\n",
      "( 398 / 499 )  Downloading  SWY \t\t Attempt:  4 / 5 \n"
     ]
    },
    {
     "name": "stderr",
     "output_type": "stream",
     "text": [
      "Warning message in download.file(paste(yahoo.URL, \"s=\", Symbols.name, \"&a=\", from.m, :\n",
      "\"cannot open URL 'http://ichart.finance.yahoo.com/table.csv?s=SWY&a=0&b=13&c=2005&d=1&e=21&f=2017&g=d&q=q&y=0&z=SWY&x=.csv': HTTP status was '404 Not Found'\""
     ]
    },
    {
     "name": "stdout",
     "output_type": "stream",
     "text": [
      "<simpleError in download.file(paste(yahoo.URL, \"s=\", Symbols.name, \"&a=\", from.m,     \"&b=\", sprintf(\"%.2d\", from.d), \"&c=\", from.y, \"&d=\", to.m,     \"&e=\", sprintf(\"%.2d\", to.d), \"&f=\", to.y, \"&g=d&q=q&y=0\",     \"&z=\", Symbols.name, \"&x=.csv\", sep = \"\"), destfile = tmp,     quiet = !verbose): cannot open URL 'http://ichart.finance.yahoo.com/table.csv?s=SWY&a=0&b=13&c=2005&d=1&e=21&f=2017&g=d&q=q&y=0&z=SWY&x=.csv'>\n",
      "( 398 / 499 )  Downloading  SWY \t\t Attempt:  5 / 5 \n"
     ]
    },
    {
     "name": "stderr",
     "output_type": "stream",
     "text": [
      "Warning message in download.file(paste(yahoo.URL, \"s=\", Symbols.name, \"&a=\", from.m, :\n",
      "\"cannot open URL 'http://ichart.finance.yahoo.com/table.csv?s=SWY&a=0&b=13&c=2005&d=1&e=21&f=2017&g=d&q=q&y=0&z=SWY&x=.csv': HTTP status was '404 Not Found'\""
     ]
    },
    {
     "name": "stdout",
     "output_type": "stream",
     "text": [
      "<simpleError in download.file(paste(yahoo.URL, \"s=\", Symbols.name, \"&a=\", from.m,     \"&b=\", sprintf(\"%.2d\", from.d), \"&c=\", from.y, \"&d=\", to.m,     \"&e=\", sprintf(\"%.2d\", to.d), \"&f=\", to.y, \"&g=d&q=q&y=0\",     \"&z=\", Symbols.name, \"&x=.csv\", sep = \"\"), destfile = tmp,     quiet = !verbose): cannot open URL 'http://ichart.finance.yahoo.com/table.csv?s=SWY&a=0&b=13&c=2005&d=1&e=21&f=2017&g=d&q=q&y=0&z=SWY&x=.csv'>\n",
      "( 399 / 499 )  Downloading  SAI \t\t Attempt:  1 / 5 \n",
      "( 400 / 499 )  Downloading  CRM \t\t Attempt:  1 / 5 \n",
      "( 401 / 499 )  Downloading  SNDK \t\t Attempt:  1 / 5 \n",
      "( 402 / 499 )  Downloading  SLE \t\t Attempt:  1 / 5 \n"
     ]
    },
    {
     "name": "stderr",
     "output_type": "stream",
     "text": [
      "Warning message in download.file(paste(yahoo.URL, \"s=\", Symbols.name, \"&a=\", from.m, :\n",
      "\"cannot open URL 'http://ichart.finance.yahoo.com/table.csv?s=SLE&a=0&b=13&c=2005&d=1&e=21&f=2017&g=d&q=q&y=0&z=SLE&x=.csv': HTTP status was '404 Not Found'\""
     ]
    },
    {
     "name": "stdout",
     "output_type": "stream",
     "text": [
      "<simpleError in download.file(paste(yahoo.URL, \"s=\", Symbols.name, \"&a=\", from.m,     \"&b=\", sprintf(\"%.2d\", from.d), \"&c=\", from.y, \"&d=\", to.m,     \"&e=\", sprintf(\"%.2d\", to.d), \"&f=\", to.y, \"&g=d&q=q&y=0\",     \"&z=\", Symbols.name, \"&x=.csv\", sep = \"\"), destfile = tmp,     quiet = !verbose): cannot open URL 'http://ichart.finance.yahoo.com/table.csv?s=SLE&a=0&b=13&c=2005&d=1&e=21&f=2017&g=d&q=q&y=0&z=SLE&x=.csv'>\n",
      "( 402 / 499 )  Downloading  SLE \t\t Attempt:  2 / 5 \n"
     ]
    },
    {
     "name": "stderr",
     "output_type": "stream",
     "text": [
      "Warning message in download.file(paste(yahoo.URL, \"s=\", Symbols.name, \"&a=\", from.m, :\n",
      "\"cannot open URL 'http://ichart.finance.yahoo.com/table.csv?s=SLE&a=0&b=13&c=2005&d=1&e=21&f=2017&g=d&q=q&y=0&z=SLE&x=.csv': HTTP status was '404 Not Found'\""
     ]
    },
    {
     "name": "stdout",
     "output_type": "stream",
     "text": [
      "<simpleError in download.file(paste(yahoo.URL, \"s=\", Symbols.name, \"&a=\", from.m,     \"&b=\", sprintf(\"%.2d\", from.d), \"&c=\", from.y, \"&d=\", to.m,     \"&e=\", sprintf(\"%.2d\", to.d), \"&f=\", to.y, \"&g=d&q=q&y=0\",     \"&z=\", Symbols.name, \"&x=.csv\", sep = \"\"), destfile = tmp,     quiet = !verbose): cannot open URL 'http://ichart.finance.yahoo.com/table.csv?s=SLE&a=0&b=13&c=2005&d=1&e=21&f=2017&g=d&q=q&y=0&z=SLE&x=.csv'>\n",
      "( 402 / 499 )  Downloading  SLE \t\t Attempt:  3 / 5 \n"
     ]
    },
    {
     "name": "stderr",
     "output_type": "stream",
     "text": [
      "Warning message in download.file(paste(yahoo.URL, \"s=\", Symbols.name, \"&a=\", from.m, :\n",
      "\"cannot open URL 'http://ichart.finance.yahoo.com/table.csv?s=SLE&a=0&b=13&c=2005&d=1&e=21&f=2017&g=d&q=q&y=0&z=SLE&x=.csv': HTTP status was '404 Not Found'\""
     ]
    },
    {
     "name": "stdout",
     "output_type": "stream",
     "text": [
      "<simpleError in download.file(paste(yahoo.URL, \"s=\", Symbols.name, \"&a=\", from.m,     \"&b=\", sprintf(\"%.2d\", from.d), \"&c=\", from.y, \"&d=\", to.m,     \"&e=\", sprintf(\"%.2d\", to.d), \"&f=\", to.y, \"&g=d&q=q&y=0\",     \"&z=\", Symbols.name, \"&x=.csv\", sep = \"\"), destfile = tmp,     quiet = !verbose): cannot open URL 'http://ichart.finance.yahoo.com/table.csv?s=SLE&a=0&b=13&c=2005&d=1&e=21&f=2017&g=d&q=q&y=0&z=SLE&x=.csv'>\n",
      "( 402 / 499 )  Downloading  SLE \t\t Attempt:  4 / 5 \n"
     ]
    },
    {
     "name": "stderr",
     "output_type": "stream",
     "text": [
      "Warning message in download.file(paste(yahoo.URL, \"s=\", Symbols.name, \"&a=\", from.m, :\n",
      "\"cannot open URL 'http://ichart.finance.yahoo.com/table.csv?s=SLE&a=0&b=13&c=2005&d=1&e=21&f=2017&g=d&q=q&y=0&z=SLE&x=.csv': HTTP status was '404 Not Found'\""
     ]
    },
    {
     "name": "stdout",
     "output_type": "stream",
     "text": [
      "<simpleError in download.file(paste(yahoo.URL, \"s=\", Symbols.name, \"&a=\", from.m,     \"&b=\", sprintf(\"%.2d\", from.d), \"&c=\", from.y, \"&d=\", to.m,     \"&e=\", sprintf(\"%.2d\", to.d), \"&f=\", to.y, \"&g=d&q=q&y=0\",     \"&z=\", Symbols.name, \"&x=.csv\", sep = \"\"), destfile = tmp,     quiet = !verbose): cannot open URL 'http://ichart.finance.yahoo.com/table.csv?s=SLE&a=0&b=13&c=2005&d=1&e=21&f=2017&g=d&q=q&y=0&z=SLE&x=.csv'>\n",
      "( 402 / 499 )  Downloading  SLE \t\t Attempt:  5 / 5 \n"
     ]
    },
    {
     "name": "stderr",
     "output_type": "stream",
     "text": [
      "Warning message in download.file(paste(yahoo.URL, \"s=\", Symbols.name, \"&a=\", from.m, :\n",
      "\"cannot open URL 'http://ichart.finance.yahoo.com/table.csv?s=SLE&a=0&b=13&c=2005&d=1&e=21&f=2017&g=d&q=q&y=0&z=SLE&x=.csv': HTTP status was '404 Not Found'\""
     ]
    },
    {
     "name": "stdout",
     "output_type": "stream",
     "text": [
      "<simpleError in download.file(paste(yahoo.URL, \"s=\", Symbols.name, \"&a=\", from.m,     \"&b=\", sprintf(\"%.2d\", from.d), \"&c=\", from.y, \"&d=\", to.m,     \"&e=\", sprintf(\"%.2d\", to.d), \"&f=\", to.y, \"&g=d&q=q&y=0\",     \"&z=\", Symbols.name, \"&x=.csv\", sep = \"\"), destfile = tmp,     quiet = !verbose): cannot open URL 'http://ichart.finance.yahoo.com/table.csv?s=SLE&a=0&b=13&c=2005&d=1&e=21&f=2017&g=d&q=q&y=0&z=SLE&x=.csv'>\n",
      "( 403 / 499 )  Downloading  SCG \t\t Attempt:  1 / 5 \n",
      "( 404 / 499 )  Downloading  SLB \t\t Attempt:  1 / 5 \n",
      "( 405 / 499 )  Downloading  SNI \t\t Attempt:  1 / 5 \n",
      "( 406 / 499 )  Downloading  SEE \t\t Attempt:  1 / 5 \n",
      "( 407 / 499 )  Downloading  SHLD \t\t Attempt:  1 / 5 \n",
      "( 408 / 499 )  Downloading  SRE \t\t Attempt:  1 / 5 \n",
      "( 409 / 499 )  Downloading  SHW \t\t Attempt:  1 / 5 \n",
      "( 410 / 499 )  Downloading  SIAL \t\t Attempt:  1 / 5 \n"
     ]
    },
    {
     "name": "stderr",
     "output_type": "stream",
     "text": [
      "Warning message in download.file(paste(yahoo.URL, \"s=\", Symbols.name, \"&a=\", from.m, :\n",
      "\"cannot open URL 'http://ichart.finance.yahoo.com/table.csv?s=SIAL&a=0&b=13&c=2005&d=1&e=21&f=2017&g=d&q=q&y=0&z=SIAL&x=.csv': HTTP status was '404 Not Found'\""
     ]
    },
    {
     "name": "stdout",
     "output_type": "stream",
     "text": [
      "<simpleError in download.file(paste(yahoo.URL, \"s=\", Symbols.name, \"&a=\", from.m,     \"&b=\", sprintf(\"%.2d\", from.d), \"&c=\", from.y, \"&d=\", to.m,     \"&e=\", sprintf(\"%.2d\", to.d), \"&f=\", to.y, \"&g=d&q=q&y=0\",     \"&z=\", Symbols.name, \"&x=.csv\", sep = \"\"), destfile = tmp,     quiet = !verbose): cannot open URL 'http://ichart.finance.yahoo.com/table.csv?s=SIAL&a=0&b=13&c=2005&d=1&e=21&f=2017&g=d&q=q&y=0&z=SIAL&x=.csv'>\n",
      "( 410 / 499 )  Downloading  SIAL \t\t Attempt:  2 / 5 \n"
     ]
    },
    {
     "name": "stderr",
     "output_type": "stream",
     "text": [
      "Warning message in download.file(paste(yahoo.URL, \"s=\", Symbols.name, \"&a=\", from.m, :\n",
      "\"cannot open URL 'http://ichart.finance.yahoo.com/table.csv?s=SIAL&a=0&b=13&c=2005&d=1&e=21&f=2017&g=d&q=q&y=0&z=SIAL&x=.csv': HTTP status was '404 Not Found'\""
     ]
    },
    {
     "name": "stdout",
     "output_type": "stream",
     "text": [
      "<simpleError in download.file(paste(yahoo.URL, \"s=\", Symbols.name, \"&a=\", from.m,     \"&b=\", sprintf(\"%.2d\", from.d), \"&c=\", from.y, \"&d=\", to.m,     \"&e=\", sprintf(\"%.2d\", to.d), \"&f=\", to.y, \"&g=d&q=q&y=0\",     \"&z=\", Symbols.name, \"&x=.csv\", sep = \"\"), destfile = tmp,     quiet = !verbose): cannot open URL 'http://ichart.finance.yahoo.com/table.csv?s=SIAL&a=0&b=13&c=2005&d=1&e=21&f=2017&g=d&q=q&y=0&z=SIAL&x=.csv'>\n",
      "( 410 / 499 )  Downloading  SIAL \t\t Attempt:  3 / 5 \n"
     ]
    },
    {
     "name": "stderr",
     "output_type": "stream",
     "text": [
      "Warning message in download.file(paste(yahoo.URL, \"s=\", Symbols.name, \"&a=\", from.m, :\n",
      "\"cannot open URL 'http://ichart.finance.yahoo.com/table.csv?s=SIAL&a=0&b=13&c=2005&d=1&e=21&f=2017&g=d&q=q&y=0&z=SIAL&x=.csv': HTTP status was '404 Not Found'\""
     ]
    },
    {
     "name": "stdout",
     "output_type": "stream",
     "text": [
      "<simpleError in download.file(paste(yahoo.URL, \"s=\", Symbols.name, \"&a=\", from.m,     \"&b=\", sprintf(\"%.2d\", from.d), \"&c=\", from.y, \"&d=\", to.m,     \"&e=\", sprintf(\"%.2d\", to.d), \"&f=\", to.y, \"&g=d&q=q&y=0\",     \"&z=\", Symbols.name, \"&x=.csv\", sep = \"\"), destfile = tmp,     quiet = !verbose): cannot open URL 'http://ichart.finance.yahoo.com/table.csv?s=SIAL&a=0&b=13&c=2005&d=1&e=21&f=2017&g=d&q=q&y=0&z=SIAL&x=.csv'>\n",
      "( 410 / 499 )  Downloading  SIAL \t\t Attempt:  4 / 5 \n"
     ]
    },
    {
     "name": "stderr",
     "output_type": "stream",
     "text": [
      "Warning message in download.file(paste(yahoo.URL, \"s=\", Symbols.name, \"&a=\", from.m, :\n",
      "\"cannot open URL 'http://ichart.finance.yahoo.com/table.csv?s=SIAL&a=0&b=13&c=2005&d=1&e=21&f=2017&g=d&q=q&y=0&z=SIAL&x=.csv': HTTP status was '404 Not Found'\""
     ]
    },
    {
     "name": "stdout",
     "output_type": "stream",
     "text": [
      "<simpleError in download.file(paste(yahoo.URL, \"s=\", Symbols.name, \"&a=\", from.m,     \"&b=\", sprintf(\"%.2d\", from.d), \"&c=\", from.y, \"&d=\", to.m,     \"&e=\", sprintf(\"%.2d\", to.d), \"&f=\", to.y, \"&g=d&q=q&y=0\",     \"&z=\", Symbols.name, \"&x=.csv\", sep = \"\"), destfile = tmp,     quiet = !verbose): cannot open URL 'http://ichart.finance.yahoo.com/table.csv?s=SIAL&a=0&b=13&c=2005&d=1&e=21&f=2017&g=d&q=q&y=0&z=SIAL&x=.csv'>\n",
      "( 410 / 499 )  Downloading  SIAL \t\t Attempt:  5 / 5 \n"
     ]
    },
    {
     "name": "stderr",
     "output_type": "stream",
     "text": [
      "Warning message in download.file(paste(yahoo.URL, \"s=\", Symbols.name, \"&a=\", from.m, :\n",
      "\"cannot open URL 'http://ichart.finance.yahoo.com/table.csv?s=SIAL&a=0&b=13&c=2005&d=1&e=21&f=2017&g=d&q=q&y=0&z=SIAL&x=.csv': HTTP status was '404 Not Found'\""
     ]
    },
    {
     "name": "stdout",
     "output_type": "stream",
     "text": [
      "<simpleError in download.file(paste(yahoo.URL, \"s=\", Symbols.name, \"&a=\", from.m,     \"&b=\", sprintf(\"%.2d\", from.d), \"&c=\", from.y, \"&d=\", to.m,     \"&e=\", sprintf(\"%.2d\", to.d), \"&f=\", to.y, \"&g=d&q=q&y=0\",     \"&z=\", Symbols.name, \"&x=.csv\", sep = \"\"), destfile = tmp,     quiet = !verbose): cannot open URL 'http://ichart.finance.yahoo.com/table.csv?s=SIAL&a=0&b=13&c=2005&d=1&e=21&f=2017&g=d&q=q&y=0&z=SIAL&x=.csv'>\n",
      "( 411 / 499 )  Downloading  SPG \t\t Attempt:  1 / 5 \n",
      "( 412 / 499 )  Downloading  SLM \t\t Attempt:  1 / 5 \n",
      "( 413 / 499 )  Downloading  SJM \t\t Attempt:  1 / 5 \n",
      "( 414 / 499 )  Downloading  SNA \t\t Attempt:  1 / 5 \n",
      "( 415 / 499 )  Downloading  SO \t\t Attempt:  1 / 5 \n",
      "( 416 / 499 )  Downloading  LUV \t\t Attempt:  1 / 5 \n",
      "( 417 / 499 )  Downloading  SWN \t\t Attempt:  1 / 5 \n",
      "( 418 / 499 )  Downloading  SE \t\t Attempt:  1 / 5 \n",
      "( 419 / 499 )  Downloading  S \t\t Attempt:  1 / 5 \n",
      "( 420 / 499 )  Downloading  STJ \t\t Attempt:  1 / 5 \n",
      "( 421 / 499 )  Downloading  SWK \t\t Attempt:  1 / 5 \n",
      "( 422 / 499 )  Downloading  SPLS \t\t Attempt:  1 / 5 \n",
      "( 423 / 499 )  Downloading  SBUX \t\t Attempt:  1 / 5 \n",
      "( 424 / 499 )  Downloading  HOT \t\t Attempt:  1 / 5 \n",
      "( 425 / 499 )  Downloading  STT \t\t Attempt:  1 / 5 \n",
      "( 426 / 499 )  Downloading  SRCL \t\t Attempt:  1 / 5 \n",
      "( 427 / 499 )  Downloading  SYK \t\t Attempt:  1 / 5 \n",
      "( 428 / 499 )  Downloading  SUN \t\t Attempt:  1 / 5 \n",
      "( 429 / 499 )  Downloading  STI \t\t Attempt:  1 / 5 \n",
      "( 430 / 499 )  Downloading  SVU \t\t Attempt:  1 / 5 \n",
      "( 431 / 499 )  Downloading  SYMC \t\t Attempt:  1 / 5 \n",
      "( 432 / 499 )  Downloading  SYY \t\t Attempt:  1 / 5 \n",
      "( 433 / 499 )  Downloading  TROW \t\t Attempt:  1 / 5 \n",
      "( 434 / 499 )  Downloading  TGT \t\t Attempt:  1 / 5 \n",
      "( 435 / 499 )  Downloading  TE \t\t Attempt:  1 / 5 \n"
     ]
    },
    {
     "name": "stderr",
     "output_type": "stream",
     "text": [
      "Warning message in download.file(paste(yahoo.URL, \"s=\", Symbols.name, \"&a=\", from.m, :\n",
      "\"cannot open URL 'http://ichart.finance.yahoo.com/table.csv?s=TE&a=0&b=13&c=2005&d=1&e=21&f=2017&g=d&q=q&y=0&z=TE&x=.csv': HTTP status was '404 Not Found'\""
     ]
    },
    {
     "name": "stdout",
     "output_type": "stream",
     "text": [
      "<simpleError in download.file(paste(yahoo.URL, \"s=\", Symbols.name, \"&a=\", from.m,     \"&b=\", sprintf(\"%.2d\", from.d), \"&c=\", from.y, \"&d=\", to.m,     \"&e=\", sprintf(\"%.2d\", to.d), \"&f=\", to.y, \"&g=d&q=q&y=0\",     \"&z=\", Symbols.name, \"&x=.csv\", sep = \"\"), destfile = tmp,     quiet = !verbose): cannot open URL 'http://ichart.finance.yahoo.com/table.csv?s=TE&a=0&b=13&c=2005&d=1&e=21&f=2017&g=d&q=q&y=0&z=TE&x=.csv'>\n",
      "( 435 / 499 )  Downloading  TE \t\t Attempt:  2 / 5 \n"
     ]
    },
    {
     "name": "stderr",
     "output_type": "stream",
     "text": [
      "Warning message in download.file(paste(yahoo.URL, \"s=\", Symbols.name, \"&a=\", from.m, :\n",
      "\"cannot open URL 'http://ichart.finance.yahoo.com/table.csv?s=TE&a=0&b=13&c=2005&d=1&e=21&f=2017&g=d&q=q&y=0&z=TE&x=.csv': HTTP status was '404 Not Found'\""
     ]
    },
    {
     "name": "stdout",
     "output_type": "stream",
     "text": [
      "<simpleError in download.file(paste(yahoo.URL, \"s=\", Symbols.name, \"&a=\", from.m,     \"&b=\", sprintf(\"%.2d\", from.d), \"&c=\", from.y, \"&d=\", to.m,     \"&e=\", sprintf(\"%.2d\", to.d), \"&f=\", to.y, \"&g=d&q=q&y=0\",     \"&z=\", Symbols.name, \"&x=.csv\", sep = \"\"), destfile = tmp,     quiet = !verbose): cannot open URL 'http://ichart.finance.yahoo.com/table.csv?s=TE&a=0&b=13&c=2005&d=1&e=21&f=2017&g=d&q=q&y=0&z=TE&x=.csv'>\n",
      "( 435 / 499 )  Downloading  TE \t\t Attempt:  3 / 5 \n"
     ]
    },
    {
     "name": "stderr",
     "output_type": "stream",
     "text": [
      "Warning message in download.file(paste(yahoo.URL, \"s=\", Symbols.name, \"&a=\", from.m, :\n",
      "\"cannot open URL 'http://ichart.finance.yahoo.com/table.csv?s=TE&a=0&b=13&c=2005&d=1&e=21&f=2017&g=d&q=q&y=0&z=TE&x=.csv': HTTP status was '404 Not Found'\""
     ]
    },
    {
     "name": "stdout",
     "output_type": "stream",
     "text": [
      "<simpleError in download.file(paste(yahoo.URL, \"s=\", Symbols.name, \"&a=\", from.m,     \"&b=\", sprintf(\"%.2d\", from.d), \"&c=\", from.y, \"&d=\", to.m,     \"&e=\", sprintf(\"%.2d\", to.d), \"&f=\", to.y, \"&g=d&q=q&y=0\",     \"&z=\", Symbols.name, \"&x=.csv\", sep = \"\"), destfile = tmp,     quiet = !verbose): cannot open URL 'http://ichart.finance.yahoo.com/table.csv?s=TE&a=0&b=13&c=2005&d=1&e=21&f=2017&g=d&q=q&y=0&z=TE&x=.csv'>\n",
      "( 435 / 499 )  Downloading  TE \t\t Attempt:  4 / 5 \n"
     ]
    },
    {
     "name": "stderr",
     "output_type": "stream",
     "text": [
      "Warning message in download.file(paste(yahoo.URL, \"s=\", Symbols.name, \"&a=\", from.m, :\n",
      "\"cannot open URL 'http://ichart.finance.yahoo.com/table.csv?s=TE&a=0&b=13&c=2005&d=1&e=21&f=2017&g=d&q=q&y=0&z=TE&x=.csv': HTTP status was '404 Not Found'\""
     ]
    },
    {
     "name": "stdout",
     "output_type": "stream",
     "text": [
      "<simpleError in download.file(paste(yahoo.URL, \"s=\", Symbols.name, \"&a=\", from.m,     \"&b=\", sprintf(\"%.2d\", from.d), \"&c=\", from.y, \"&d=\", to.m,     \"&e=\", sprintf(\"%.2d\", to.d), \"&f=\", to.y, \"&g=d&q=q&y=0\",     \"&z=\", Symbols.name, \"&x=.csv\", sep = \"\"), destfile = tmp,     quiet = !verbose): cannot open URL 'http://ichart.finance.yahoo.com/table.csv?s=TE&a=0&b=13&c=2005&d=1&e=21&f=2017&g=d&q=q&y=0&z=TE&x=.csv'>\n",
      "( 435 / 499 )  Downloading  TE \t\t Attempt:  5 / 5 \n"
     ]
    },
    {
     "name": "stderr",
     "output_type": "stream",
     "text": [
      "Warning message in download.file(paste(yahoo.URL, \"s=\", Symbols.name, \"&a=\", from.m, :\n",
      "\"cannot open URL 'http://ichart.finance.yahoo.com/table.csv?s=TE&a=0&b=13&c=2005&d=1&e=21&f=2017&g=d&q=q&y=0&z=TE&x=.csv': HTTP status was '404 Not Found'\""
     ]
    },
    {
     "name": "stdout",
     "output_type": "stream",
     "text": [
      "<simpleError in download.file(paste(yahoo.URL, \"s=\", Symbols.name, \"&a=\", from.m,     \"&b=\", sprintf(\"%.2d\", from.d), \"&c=\", from.y, \"&d=\", to.m,     \"&e=\", sprintf(\"%.2d\", to.d), \"&f=\", to.y, \"&g=d&q=q&y=0\",     \"&z=\", Symbols.name, \"&x=.csv\", sep = \"\"), destfile = tmp,     quiet = !verbose): cannot open URL 'http://ichart.finance.yahoo.com/table.csv?s=TE&a=0&b=13&c=2005&d=1&e=21&f=2017&g=d&q=q&y=0&z=TE&x=.csv'>\n",
      "( 436 / 499 )  Downloading  TLAB \t\t Attempt:  1 / 5 \n",
      "( 437 / 499 )  Downloading  THC \t\t Attempt:  1 / 5 \n",
      "( 438 / 499 )  Downloading  TDC \t\t Attempt:  1 / 5 \n",
      "( 439 / 499 )  Downloading  TER \t\t Attempt:  1 / 5 \n",
      "( 440 / 499 )  Downloading  TSO \t\t Attempt:  1 / 5 \n",
      "( 441 / 499 )  Downloading  TXN \t\t Attempt:  1 / 5 \n",
      "( 442 / 499 )  Downloading  TXT \t\t Attempt:  1 / 5 \n",
      "( 443 / 499 )  Downloading  HSY \t\t Attempt:  1 / 5 \n",
      "( 444 / 499 )  Downloading  TRV \t\t Attempt:  1 / 5 \n",
      "( 445 / 499 )  Downloading  TMO \t\t Attempt:  1 / 5 \n",
      "( 446 / 499 )  Downloading  TIF \t\t Attempt:  1 / 5 \n",
      "( 447 / 499 )  Downloading  TWX \t\t Attempt:  1 / 5 \n",
      "( 448 / 499 )  Downloading  TWC \t\t Attempt:  1 / 5 \n"
     ]
    },
    {
     "name": "stderr",
     "output_type": "stream",
     "text": [
      "Warning message in download.file(paste(yahoo.URL, \"s=\", Symbols.name, \"&a=\", from.m, :\n",
      "\"cannot open URL 'http://ichart.finance.yahoo.com/table.csv?s=TWC&a=0&b=13&c=2005&d=1&e=21&f=2017&g=d&q=q&y=0&z=TWC&x=.csv': HTTP status was '404 Not Found'\""
     ]
    },
    {
     "name": "stdout",
     "output_type": "stream",
     "text": [
      "<simpleError in download.file(paste(yahoo.URL, \"s=\", Symbols.name, \"&a=\", from.m,     \"&b=\", sprintf(\"%.2d\", from.d), \"&c=\", from.y, \"&d=\", to.m,     \"&e=\", sprintf(\"%.2d\", to.d), \"&f=\", to.y, \"&g=d&q=q&y=0\",     \"&z=\", Symbols.name, \"&x=.csv\", sep = \"\"), destfile = tmp,     quiet = !verbose): cannot open URL 'http://ichart.finance.yahoo.com/table.csv?s=TWC&a=0&b=13&c=2005&d=1&e=21&f=2017&g=d&q=q&y=0&z=TWC&x=.csv'>\n",
      "( 448 / 499 )  Downloading  TWC \t\t Attempt:  2 / 5 \n"
     ]
    },
    {
     "name": "stderr",
     "output_type": "stream",
     "text": [
      "Warning message in download.file(paste(yahoo.URL, \"s=\", Symbols.name, \"&a=\", from.m, :\n",
      "\"cannot open URL 'http://ichart.finance.yahoo.com/table.csv?s=TWC&a=0&b=13&c=2005&d=1&e=21&f=2017&g=d&q=q&y=0&z=TWC&x=.csv': HTTP status was '404 Not Found'\""
     ]
    },
    {
     "name": "stdout",
     "output_type": "stream",
     "text": [
      "<simpleError in download.file(paste(yahoo.URL, \"s=\", Symbols.name, \"&a=\", from.m,     \"&b=\", sprintf(\"%.2d\", from.d), \"&c=\", from.y, \"&d=\", to.m,     \"&e=\", sprintf(\"%.2d\", to.d), \"&f=\", to.y, \"&g=d&q=q&y=0\",     \"&z=\", Symbols.name, \"&x=.csv\", sep = \"\"), destfile = tmp,     quiet = !verbose): cannot open URL 'http://ichart.finance.yahoo.com/table.csv?s=TWC&a=0&b=13&c=2005&d=1&e=21&f=2017&g=d&q=q&y=0&z=TWC&x=.csv'>\n",
      "( 448 / 499 )  Downloading  TWC \t\t Attempt:  3 / 5 \n"
     ]
    },
    {
     "name": "stderr",
     "output_type": "stream",
     "text": [
      "Warning message in download.file(paste(yahoo.URL, \"s=\", Symbols.name, \"&a=\", from.m, :\n",
      "\"cannot open URL 'http://ichart.finance.yahoo.com/table.csv?s=TWC&a=0&b=13&c=2005&d=1&e=21&f=2017&g=d&q=q&y=0&z=TWC&x=.csv': HTTP status was '404 Not Found'\""
     ]
    },
    {
     "name": "stdout",
     "output_type": "stream",
     "text": [
      "<simpleError in download.file(paste(yahoo.URL, \"s=\", Symbols.name, \"&a=\", from.m,     \"&b=\", sprintf(\"%.2d\", from.d), \"&c=\", from.y, \"&d=\", to.m,     \"&e=\", sprintf(\"%.2d\", to.d), \"&f=\", to.y, \"&g=d&q=q&y=0\",     \"&z=\", Symbols.name, \"&x=.csv\", sep = \"\"), destfile = tmp,     quiet = !verbose): cannot open URL 'http://ichart.finance.yahoo.com/table.csv?s=TWC&a=0&b=13&c=2005&d=1&e=21&f=2017&g=d&q=q&y=0&z=TWC&x=.csv'>\n",
      "( 448 / 499 )  Downloading  TWC \t\t Attempt:  4 / 5 \n"
     ]
    },
    {
     "name": "stderr",
     "output_type": "stream",
     "text": [
      "Warning message in download.file(paste(yahoo.URL, \"s=\", Symbols.name, \"&a=\", from.m, :\n",
      "\"cannot open URL 'http://ichart.finance.yahoo.com/table.csv?s=TWC&a=0&b=13&c=2005&d=1&e=21&f=2017&g=d&q=q&y=0&z=TWC&x=.csv': HTTP status was '404 Not Found'\""
     ]
    },
    {
     "name": "stdout",
     "output_type": "stream",
     "text": [
      "<simpleError in download.file(paste(yahoo.URL, \"s=\", Symbols.name, \"&a=\", from.m,     \"&b=\", sprintf(\"%.2d\", from.d), \"&c=\", from.y, \"&d=\", to.m,     \"&e=\", sprintf(\"%.2d\", to.d), \"&f=\", to.y, \"&g=d&q=q&y=0\",     \"&z=\", Symbols.name, \"&x=.csv\", sep = \"\"), destfile = tmp,     quiet = !verbose): cannot open URL 'http://ichart.finance.yahoo.com/table.csv?s=TWC&a=0&b=13&c=2005&d=1&e=21&f=2017&g=d&q=q&y=0&z=TWC&x=.csv'>\n",
      "( 448 / 499 )  Downloading  TWC \t\t Attempt:  5 / 5 \n"
     ]
    },
    {
     "name": "stderr",
     "output_type": "stream",
     "text": [
      "Warning message in download.file(paste(yahoo.URL, \"s=\", Symbols.name, \"&a=\", from.m, :\n",
      "\"cannot open URL 'http://ichart.finance.yahoo.com/table.csv?s=TWC&a=0&b=13&c=2005&d=1&e=21&f=2017&g=d&q=q&y=0&z=TWC&x=.csv': HTTP status was '404 Not Found'\""
     ]
    },
    {
     "name": "stdout",
     "output_type": "stream",
     "text": [
      "<simpleError in download.file(paste(yahoo.URL, \"s=\", Symbols.name, \"&a=\", from.m,     \"&b=\", sprintf(\"%.2d\", from.d), \"&c=\", from.y, \"&d=\", to.m,     \"&e=\", sprintf(\"%.2d\", to.d), \"&f=\", to.y, \"&g=d&q=q&y=0\",     \"&z=\", Symbols.name, \"&x=.csv\", sep = \"\"), destfile = tmp,     quiet = !verbose): cannot open URL 'http://ichart.finance.yahoo.com/table.csv?s=TWC&a=0&b=13&c=2005&d=1&e=21&f=2017&g=d&q=q&y=0&z=TWC&x=.csv'>\n",
      "( 449 / 499 )  Downloading  TIE \t\t Attempt:  1 / 5 \n",
      "( 450 / 499 )  Downloading  TJX \t\t Attempt:  1 / 5 \n",
      "( 451 / 499 )  Downloading  TMK \t\t Attempt:  1 / 5 \n",
      "( 452 / 499 )  Downloading  TSS \t\t Attempt:  1 / 5 \n",
      "( 453 / 499 )  Downloading  TSN \t\t Attempt:  1 / 5 \n",
      "( 454 / 499 )  Downloading  TYC \t\t Attempt:  1 / 5 \n",
      "( 455 / 499 )  Downloading  USB \t\t Attempt:  1 / 5 \n",
      "( 456 / 499 )  Downloading  UNP \t\t Attempt:  1 / 5 \n",
      "( 457 / 499 )  Downloading  UNH \t\t Attempt:  1 / 5 \n",
      "( 458 / 499 )  Downloading  UPS \t\t Attempt:  1 / 5 \n",
      "( 459 / 499 )  Downloading  X \t\t Attempt:  1 / 5 \n",
      "( 460 / 499 )  Downloading  UTX \t\t Attempt:  1 / 5 \n",
      "( 461 / 499 )  Downloading  UNM \t\t Attempt:  1 / 5 \n",
      "( 462 / 499 )  Downloading  URBN \t\t Attempt:  1 / 5 \n",
      "( 463 / 499 )  Downloading  VFC \t\t Attempt:  1 / 5 \n",
      "( 464 / 499 )  Downloading  VLO \t\t Attempt:  1 / 5 \n",
      "( 465 / 499 )  Downloading  VAR \t\t Attempt:  1 / 5 \n",
      "( 466 / 499 )  Downloading  VTR \t\t Attempt:  1 / 5 \n",
      "( 467 / 499 )  Downloading  VRSN \t\t Attempt:  1 / 5 \n",
      "( 468 / 499 )  Downloading  VZ \t\t Attempt:  1 / 5 \n",
      "<simpleError in eval(expr, envir, enclos): object 'B' not found>\n",
      "<simpleError in eval(expr, envir, enclos): object 'B' not found>\n",
      "<simpleError in eval(expr, envir, enclos): object 'B' not found>\n",
      "<simpleError in eval(expr, envir, enclos): object 'B' not found>\n",
      "<simpleError in eval(expr, envir, enclos): object 'B' not found>\n",
      "( 470 / 499 )  Downloading  V \t\t Attempt:  1 / 5 \n",
      "( 471 / 499 )  Downloading  VNO \t\t Attempt:  1 / 5 \n",
      "( 472 / 499 )  Downloading  VMC \t\t Attempt:  1 / 5 \n",
      "( 473 / 499 )  Downloading  WMT \t\t Attempt:  1 / 5 \n",
      "( 474 / 499 )  Downloading  WAG \t\t Attempt:  1 / 5 \n"
     ]
    },
    {
     "name": "stderr",
     "output_type": "stream",
     "text": [
      "Warning message in download.file(paste(yahoo.URL, \"s=\", Symbols.name, \"&a=\", from.m, :\n",
      "\"cannot open URL 'http://ichart.finance.yahoo.com/table.csv?s=WAG&a=0&b=13&c=2005&d=1&e=21&f=2017&g=d&q=q&y=0&z=WAG&x=.csv': HTTP status was '404 Not Found'\""
     ]
    },
    {
     "name": "stdout",
     "output_type": "stream",
     "text": [
      "<simpleError in download.file(paste(yahoo.URL, \"s=\", Symbols.name, \"&a=\", from.m,     \"&b=\", sprintf(\"%.2d\", from.d), \"&c=\", from.y, \"&d=\", to.m,     \"&e=\", sprintf(\"%.2d\", to.d), \"&f=\", to.y, \"&g=d&q=q&y=0\",     \"&z=\", Symbols.name, \"&x=.csv\", sep = \"\"), destfile = tmp,     quiet = !verbose): cannot open URL 'http://ichart.finance.yahoo.com/table.csv?s=WAG&a=0&b=13&c=2005&d=1&e=21&f=2017&g=d&q=q&y=0&z=WAG&x=.csv'>\n",
      "( 474 / 499 )  Downloading  WAG \t\t Attempt:  2 / 5 \n"
     ]
    },
    {
     "name": "stderr",
     "output_type": "stream",
     "text": [
      "Warning message in download.file(paste(yahoo.URL, \"s=\", Symbols.name, \"&a=\", from.m, :\n",
      "\"cannot open URL 'http://ichart.finance.yahoo.com/table.csv?s=WAG&a=0&b=13&c=2005&d=1&e=21&f=2017&g=d&q=q&y=0&z=WAG&x=.csv': HTTP status was '404 Not Found'\""
     ]
    },
    {
     "name": "stdout",
     "output_type": "stream",
     "text": [
      "<simpleError in download.file(paste(yahoo.URL, \"s=\", Symbols.name, \"&a=\", from.m,     \"&b=\", sprintf(\"%.2d\", from.d), \"&c=\", from.y, \"&d=\", to.m,     \"&e=\", sprintf(\"%.2d\", to.d), \"&f=\", to.y, \"&g=d&q=q&y=0\",     \"&z=\", Symbols.name, \"&x=.csv\", sep = \"\"), destfile = tmp,     quiet = !verbose): cannot open URL 'http://ichart.finance.yahoo.com/table.csv?s=WAG&a=0&b=13&c=2005&d=1&e=21&f=2017&g=d&q=q&y=0&z=WAG&x=.csv'>\n",
      "( 474 / 499 )  Downloading  WAG \t\t Attempt:  3 / 5 \n"
     ]
    },
    {
     "name": "stderr",
     "output_type": "stream",
     "text": [
      "Warning message in download.file(paste(yahoo.URL, \"s=\", Symbols.name, \"&a=\", from.m, :\n",
      "\"cannot open URL 'http://ichart.finance.yahoo.com/table.csv?s=WAG&a=0&b=13&c=2005&d=1&e=21&f=2017&g=d&q=q&y=0&z=WAG&x=.csv': HTTP status was '404 Not Found'\""
     ]
    },
    {
     "name": "stdout",
     "output_type": "stream",
     "text": [
      "<simpleError in download.file(paste(yahoo.URL, \"s=\", Symbols.name, \"&a=\", from.m,     \"&b=\", sprintf(\"%.2d\", from.d), \"&c=\", from.y, \"&d=\", to.m,     \"&e=\", sprintf(\"%.2d\", to.d), \"&f=\", to.y, \"&g=d&q=q&y=0\",     \"&z=\", Symbols.name, \"&x=.csv\", sep = \"\"), destfile = tmp,     quiet = !verbose): cannot open URL 'http://ichart.finance.yahoo.com/table.csv?s=WAG&a=0&b=13&c=2005&d=1&e=21&f=2017&g=d&q=q&y=0&z=WAG&x=.csv'>\n",
      "( 474 / 499 )  Downloading  WAG \t\t Attempt:  4 / 5 \n"
     ]
    },
    {
     "name": "stderr",
     "output_type": "stream",
     "text": [
      "Warning message in download.file(paste(yahoo.URL, \"s=\", Symbols.name, \"&a=\", from.m, :\n",
      "\"cannot open URL 'http://ichart.finance.yahoo.com/table.csv?s=WAG&a=0&b=13&c=2005&d=1&e=21&f=2017&g=d&q=q&y=0&z=WAG&x=.csv': HTTP status was '404 Not Found'\""
     ]
    },
    {
     "name": "stdout",
     "output_type": "stream",
     "text": [
      "<simpleError in download.file(paste(yahoo.URL, \"s=\", Symbols.name, \"&a=\", from.m,     \"&b=\", sprintf(\"%.2d\", from.d), \"&c=\", from.y, \"&d=\", to.m,     \"&e=\", sprintf(\"%.2d\", to.d), \"&f=\", to.y, \"&g=d&q=q&y=0\",     \"&z=\", Symbols.name, \"&x=.csv\", sep = \"\"), destfile = tmp,     quiet = !verbose): cannot open URL 'http://ichart.finance.yahoo.com/table.csv?s=WAG&a=0&b=13&c=2005&d=1&e=21&f=2017&g=d&q=q&y=0&z=WAG&x=.csv'>\n",
      "( 474 / 499 )  Downloading  WAG \t\t Attempt:  5 / 5 \n"
     ]
    },
    {
     "name": "stderr",
     "output_type": "stream",
     "text": [
      "Warning message in download.file(paste(yahoo.URL, \"s=\", Symbols.name, \"&a=\", from.m, :\n",
      "\"cannot open URL 'http://ichart.finance.yahoo.com/table.csv?s=WAG&a=0&b=13&c=2005&d=1&e=21&f=2017&g=d&q=q&y=0&z=WAG&x=.csv': HTTP status was '404 Not Found'\""
     ]
    },
    {
     "name": "stdout",
     "output_type": "stream",
     "text": [
      "<simpleError in download.file(paste(yahoo.URL, \"s=\", Symbols.name, \"&a=\", from.m,     \"&b=\", sprintf(\"%.2d\", from.d), \"&c=\", from.y, \"&d=\", to.m,     \"&e=\", sprintf(\"%.2d\", to.d), \"&f=\", to.y, \"&g=d&q=q&y=0\",     \"&z=\", Symbols.name, \"&x=.csv\", sep = \"\"), destfile = tmp,     quiet = !verbose): cannot open URL 'http://ichart.finance.yahoo.com/table.csv?s=WAG&a=0&b=13&c=2005&d=1&e=21&f=2017&g=d&q=q&y=0&z=WAG&x=.csv'>\n",
      "( 475 / 499 )  Downloading  DIS \t\t Attempt:  1 / 5 \n",
      "( 476 / 499 )  Downloading  WPO \t\t Attempt:  1 / 5 \n"
     ]
    },
    {
     "name": "stderr",
     "output_type": "stream",
     "text": [
      "Warning message in download.file(paste(yahoo.URL, \"s=\", Symbols.name, \"&a=\", from.m, :\n",
      "\"cannot open URL 'http://ichart.finance.yahoo.com/table.csv?s=WPO&a=0&b=13&c=2005&d=1&e=21&f=2017&g=d&q=q&y=0&z=WPO&x=.csv': HTTP status was '404 Not Found'\""
     ]
    },
    {
     "name": "stdout",
     "output_type": "stream",
     "text": [
      "<simpleError in download.file(paste(yahoo.URL, \"s=\", Symbols.name, \"&a=\", from.m,     \"&b=\", sprintf(\"%.2d\", from.d), \"&c=\", from.y, \"&d=\", to.m,     \"&e=\", sprintf(\"%.2d\", to.d), \"&f=\", to.y, \"&g=d&q=q&y=0\",     \"&z=\", Symbols.name, \"&x=.csv\", sep = \"\"), destfile = tmp,     quiet = !verbose): cannot open URL 'http://ichart.finance.yahoo.com/table.csv?s=WPO&a=0&b=13&c=2005&d=1&e=21&f=2017&g=d&q=q&y=0&z=WPO&x=.csv'>\n",
      "( 476 / 499 )  Downloading  WPO \t\t Attempt:  2 / 5 \n"
     ]
    },
    {
     "name": "stderr",
     "output_type": "stream",
     "text": [
      "Warning message in download.file(paste(yahoo.URL, \"s=\", Symbols.name, \"&a=\", from.m, :\n",
      "\"cannot open URL 'http://ichart.finance.yahoo.com/table.csv?s=WPO&a=0&b=13&c=2005&d=1&e=21&f=2017&g=d&q=q&y=0&z=WPO&x=.csv': HTTP status was '404 Not Found'\""
     ]
    },
    {
     "name": "stdout",
     "output_type": "stream",
     "text": [
      "<simpleError in download.file(paste(yahoo.URL, \"s=\", Symbols.name, \"&a=\", from.m,     \"&b=\", sprintf(\"%.2d\", from.d), \"&c=\", from.y, \"&d=\", to.m,     \"&e=\", sprintf(\"%.2d\", to.d), \"&f=\", to.y, \"&g=d&q=q&y=0\",     \"&z=\", Symbols.name, \"&x=.csv\", sep = \"\"), destfile = tmp,     quiet = !verbose): cannot open URL 'http://ichart.finance.yahoo.com/table.csv?s=WPO&a=0&b=13&c=2005&d=1&e=21&f=2017&g=d&q=q&y=0&z=WPO&x=.csv'>\n",
      "( 476 / 499 )  Downloading  WPO \t\t Attempt:  3 / 5 \n"
     ]
    },
    {
     "name": "stderr",
     "output_type": "stream",
     "text": [
      "Warning message in download.file(paste(yahoo.URL, \"s=\", Symbols.name, \"&a=\", from.m, :\n",
      "\"cannot open URL 'http://ichart.finance.yahoo.com/table.csv?s=WPO&a=0&b=13&c=2005&d=1&e=21&f=2017&g=d&q=q&y=0&z=WPO&x=.csv': HTTP status was '404 Not Found'\""
     ]
    },
    {
     "name": "stdout",
     "output_type": "stream",
     "text": [
      "<simpleError in download.file(paste(yahoo.URL, \"s=\", Symbols.name, \"&a=\", from.m,     \"&b=\", sprintf(\"%.2d\", from.d), \"&c=\", from.y, \"&d=\", to.m,     \"&e=\", sprintf(\"%.2d\", to.d), \"&f=\", to.y, \"&g=d&q=q&y=0\",     \"&z=\", Symbols.name, \"&x=.csv\", sep = \"\"), destfile = tmp,     quiet = !verbose): cannot open URL 'http://ichart.finance.yahoo.com/table.csv?s=WPO&a=0&b=13&c=2005&d=1&e=21&f=2017&g=d&q=q&y=0&z=WPO&x=.csv'>\n",
      "( 476 / 499 )  Downloading  WPO \t\t Attempt:  4 / 5 \n"
     ]
    },
    {
     "name": "stderr",
     "output_type": "stream",
     "text": [
      "Warning message in download.file(paste(yahoo.URL, \"s=\", Symbols.name, \"&a=\", from.m, :\n",
      "\"cannot open URL 'http://ichart.finance.yahoo.com/table.csv?s=WPO&a=0&b=13&c=2005&d=1&e=21&f=2017&g=d&q=q&y=0&z=WPO&x=.csv': HTTP status was '404 Not Found'\""
     ]
    },
    {
     "name": "stdout",
     "output_type": "stream",
     "text": [
      "<simpleError in download.file(paste(yahoo.URL, \"s=\", Symbols.name, \"&a=\", from.m,     \"&b=\", sprintf(\"%.2d\", from.d), \"&c=\", from.y, \"&d=\", to.m,     \"&e=\", sprintf(\"%.2d\", to.d), \"&f=\", to.y, \"&g=d&q=q&y=0\",     \"&z=\", Symbols.name, \"&x=.csv\", sep = \"\"), destfile = tmp,     quiet = !verbose): cannot open URL 'http://ichart.finance.yahoo.com/table.csv?s=WPO&a=0&b=13&c=2005&d=1&e=21&f=2017&g=d&q=q&y=0&z=WPO&x=.csv'>\n",
      "( 476 / 499 )  Downloading  WPO \t\t Attempt:  5 / 5 \n"
     ]
    },
    {
     "name": "stderr",
     "output_type": "stream",
     "text": [
      "Warning message in download.file(paste(yahoo.URL, \"s=\", Symbols.name, \"&a=\", from.m, :\n",
      "\"cannot open URL 'http://ichart.finance.yahoo.com/table.csv?s=WPO&a=0&b=13&c=2005&d=1&e=21&f=2017&g=d&q=q&y=0&z=WPO&x=.csv': HTTP status was '404 Not Found'\""
     ]
    },
    {
     "name": "stdout",
     "output_type": "stream",
     "text": [
      "<simpleError in download.file(paste(yahoo.URL, \"s=\", Symbols.name, \"&a=\", from.m,     \"&b=\", sprintf(\"%.2d\", from.d), \"&c=\", from.y, \"&d=\", to.m,     \"&e=\", sprintf(\"%.2d\", to.d), \"&f=\", to.y, \"&g=d&q=q&y=0\",     \"&z=\", Symbols.name, \"&x=.csv\", sep = \"\"), destfile = tmp,     quiet = !verbose): cannot open URL 'http://ichart.finance.yahoo.com/table.csv?s=WPO&a=0&b=13&c=2005&d=1&e=21&f=2017&g=d&q=q&y=0&z=WPO&x=.csv'>\n",
      "( 477 / 499 )  Downloading  WM \t\t Attempt:  1 / 5 \n",
      "( 478 / 499 )  Downloading  WAT \t\t Attempt:  1 / 5 \n",
      "( 479 / 499 )  Downloading  WPI \t\t Attempt:  1 / 5 \n",
      "( 480 / 499 )  Downloading  WLP \t\t Attempt:  1 / 5 \n"
     ]
    },
    {
     "name": "stderr",
     "output_type": "stream",
     "text": [
      "Warning message in download.file(paste(yahoo.URL, \"s=\", Symbols.name, \"&a=\", from.m, :\n",
      "\"cannot open URL 'http://ichart.finance.yahoo.com/table.csv?s=WLP&a=0&b=13&c=2005&d=1&e=21&f=2017&g=d&q=q&y=0&z=WLP&x=.csv': HTTP status was '404 Not Found'\""
     ]
    },
    {
     "name": "stdout",
     "output_type": "stream",
     "text": [
      "<simpleError in download.file(paste(yahoo.URL, \"s=\", Symbols.name, \"&a=\", from.m,     \"&b=\", sprintf(\"%.2d\", from.d), \"&c=\", from.y, \"&d=\", to.m,     \"&e=\", sprintf(\"%.2d\", to.d), \"&f=\", to.y, \"&g=d&q=q&y=0\",     \"&z=\", Symbols.name, \"&x=.csv\", sep = \"\"), destfile = tmp,     quiet = !verbose): cannot open URL 'http://ichart.finance.yahoo.com/table.csv?s=WLP&a=0&b=13&c=2005&d=1&e=21&f=2017&g=d&q=q&y=0&z=WLP&x=.csv'>\n",
      "( 480 / 499 )  Downloading  WLP \t\t Attempt:  2 / 5 \n"
     ]
    },
    {
     "name": "stderr",
     "output_type": "stream",
     "text": [
      "Warning message in download.file(paste(yahoo.URL, \"s=\", Symbols.name, \"&a=\", from.m, :\n",
      "\"cannot open URL 'http://ichart.finance.yahoo.com/table.csv?s=WLP&a=0&b=13&c=2005&d=1&e=21&f=2017&g=d&q=q&y=0&z=WLP&x=.csv': HTTP status was '404 Not Found'\""
     ]
    },
    {
     "name": "stdout",
     "output_type": "stream",
     "text": [
      "<simpleError in download.file(paste(yahoo.URL, \"s=\", Symbols.name, \"&a=\", from.m,     \"&b=\", sprintf(\"%.2d\", from.d), \"&c=\", from.y, \"&d=\", to.m,     \"&e=\", sprintf(\"%.2d\", to.d), \"&f=\", to.y, \"&g=d&q=q&y=0\",     \"&z=\", Symbols.name, \"&x=.csv\", sep = \"\"), destfile = tmp,     quiet = !verbose): cannot open URL 'http://ichart.finance.yahoo.com/table.csv?s=WLP&a=0&b=13&c=2005&d=1&e=21&f=2017&g=d&q=q&y=0&z=WLP&x=.csv'>\n",
      "( 480 / 499 )  Downloading  WLP \t\t Attempt:  3 / 5 \n"
     ]
    },
    {
     "name": "stderr",
     "output_type": "stream",
     "text": [
      "Warning message in download.file(paste(yahoo.URL, \"s=\", Symbols.name, \"&a=\", from.m, :\n",
      "\"cannot open URL 'http://ichart.finance.yahoo.com/table.csv?s=WLP&a=0&b=13&c=2005&d=1&e=21&f=2017&g=d&q=q&y=0&z=WLP&x=.csv': HTTP status was '404 Not Found'\""
     ]
    },
    {
     "name": "stdout",
     "output_type": "stream",
     "text": [
      "<simpleError in download.file(paste(yahoo.URL, \"s=\", Symbols.name, \"&a=\", from.m,     \"&b=\", sprintf(\"%.2d\", from.d), \"&c=\", from.y, \"&d=\", to.m,     \"&e=\", sprintf(\"%.2d\", to.d), \"&f=\", to.y, \"&g=d&q=q&y=0\",     \"&z=\", Symbols.name, \"&x=.csv\", sep = \"\"), destfile = tmp,     quiet = !verbose): cannot open URL 'http://ichart.finance.yahoo.com/table.csv?s=WLP&a=0&b=13&c=2005&d=1&e=21&f=2017&g=d&q=q&y=0&z=WLP&x=.csv'>\n",
      "( 480 / 499 )  Downloading  WLP \t\t Attempt:  4 / 5 \n"
     ]
    },
    {
     "name": "stderr",
     "output_type": "stream",
     "text": [
      "Warning message in download.file(paste(yahoo.URL, \"s=\", Symbols.name, \"&a=\", from.m, :\n",
      "\"cannot open URL 'http://ichart.finance.yahoo.com/table.csv?s=WLP&a=0&b=13&c=2005&d=1&e=21&f=2017&g=d&q=q&y=0&z=WLP&x=.csv': HTTP status was '404 Not Found'\""
     ]
    },
    {
     "name": "stdout",
     "output_type": "stream",
     "text": [
      "<simpleError in download.file(paste(yahoo.URL, \"s=\", Symbols.name, \"&a=\", from.m,     \"&b=\", sprintf(\"%.2d\", from.d), \"&c=\", from.y, \"&d=\", to.m,     \"&e=\", sprintf(\"%.2d\", to.d), \"&f=\", to.y, \"&g=d&q=q&y=0\",     \"&z=\", Symbols.name, \"&x=.csv\", sep = \"\"), destfile = tmp,     quiet = !verbose): cannot open URL 'http://ichart.finance.yahoo.com/table.csv?s=WLP&a=0&b=13&c=2005&d=1&e=21&f=2017&g=d&q=q&y=0&z=WLP&x=.csv'>\n",
      "( 480 / 499 )  Downloading  WLP \t\t Attempt:  5 / 5 \n"
     ]
    },
    {
     "name": "stderr",
     "output_type": "stream",
     "text": [
      "Warning message in download.file(paste(yahoo.URL, \"s=\", Symbols.name, \"&a=\", from.m, :\n",
      "\"cannot open URL 'http://ichart.finance.yahoo.com/table.csv?s=WLP&a=0&b=13&c=2005&d=1&e=21&f=2017&g=d&q=q&y=0&z=WLP&x=.csv': HTTP status was '404 Not Found'\""
     ]
    },
    {
     "name": "stdout",
     "output_type": "stream",
     "text": [
      "<simpleError in download.file(paste(yahoo.URL, \"s=\", Symbols.name, \"&a=\", from.m,     \"&b=\", sprintf(\"%.2d\", from.d), \"&c=\", from.y, \"&d=\", to.m,     \"&e=\", sprintf(\"%.2d\", to.d), \"&f=\", to.y, \"&g=d&q=q&y=0\",     \"&z=\", Symbols.name, \"&x=.csv\", sep = \"\"), destfile = tmp,     quiet = !verbose): cannot open URL 'http://ichart.finance.yahoo.com/table.csv?s=WLP&a=0&b=13&c=2005&d=1&e=21&f=2017&g=d&q=q&y=0&z=WLP&x=.csv'>\n",
      "( 481 / 499 )  Downloading  WFC \t\t Attempt:  1 / 5 \n",
      "( 482 / 499 )  Downloading  WDC \t\t Attempt:  1 / 5 \n",
      "( 483 / 499 )  Downloading  WU \t\t Attempt:  1 / 5 \n",
      "( 484 / 499 )  Downloading  WY \t\t Attempt:  1 / 5 \n",
      "( 485 / 499 )  Downloading  WHR \t\t Attempt:  1 / 5 \n",
      "( 486 / 499 )  Downloading  WFMI \t\t Attempt:  1 / 5 \n"
     ]
    },
    {
     "name": "stderr",
     "output_type": "stream",
     "text": [
      "Warning message in download.file(paste(yahoo.URL, \"s=\", Symbols.name, \"&a=\", from.m, :\n",
      "\"cannot open URL 'http://ichart.finance.yahoo.com/table.csv?s=WFMI&a=0&b=13&c=2005&d=1&e=21&f=2017&g=d&q=q&y=0&z=WFMI&x=.csv': HTTP status was '404 Not Found'\""
     ]
    },
    {
     "name": "stdout",
     "output_type": "stream",
     "text": [
      "<simpleError in download.file(paste(yahoo.URL, \"s=\", Symbols.name, \"&a=\", from.m,     \"&b=\", sprintf(\"%.2d\", from.d), \"&c=\", from.y, \"&d=\", to.m,     \"&e=\", sprintf(\"%.2d\", to.d), \"&f=\", to.y, \"&g=d&q=q&y=0\",     \"&z=\", Symbols.name, \"&x=.csv\", sep = \"\"), destfile = tmp,     quiet = !verbose): cannot open URL 'http://ichart.finance.yahoo.com/table.csv?s=WFMI&a=0&b=13&c=2005&d=1&e=21&f=2017&g=d&q=q&y=0&z=WFMI&x=.csv'>\n",
      "( 486 / 499 )  Downloading  WFMI \t\t Attempt:  2 / 5 \n"
     ]
    },
    {
     "name": "stderr",
     "output_type": "stream",
     "text": [
      "Warning message in download.file(paste(yahoo.URL, \"s=\", Symbols.name, \"&a=\", from.m, :\n",
      "\"cannot open URL 'http://ichart.finance.yahoo.com/table.csv?s=WFMI&a=0&b=13&c=2005&d=1&e=21&f=2017&g=d&q=q&y=0&z=WFMI&x=.csv': HTTP status was '404 Not Found'\""
     ]
    },
    {
     "name": "stdout",
     "output_type": "stream",
     "text": [
      "<simpleError in download.file(paste(yahoo.URL, \"s=\", Symbols.name, \"&a=\", from.m,     \"&b=\", sprintf(\"%.2d\", from.d), \"&c=\", from.y, \"&d=\", to.m,     \"&e=\", sprintf(\"%.2d\", to.d), \"&f=\", to.y, \"&g=d&q=q&y=0\",     \"&z=\", Symbols.name, \"&x=.csv\", sep = \"\"), destfile = tmp,     quiet = !verbose): cannot open URL 'http://ichart.finance.yahoo.com/table.csv?s=WFMI&a=0&b=13&c=2005&d=1&e=21&f=2017&g=d&q=q&y=0&z=WFMI&x=.csv'>\n",
      "( 486 / 499 )  Downloading  WFMI \t\t Attempt:  3 / 5 \n"
     ]
    },
    {
     "name": "stderr",
     "output_type": "stream",
     "text": [
      "Warning message in download.file(paste(yahoo.URL, \"s=\", Symbols.name, \"&a=\", from.m, :\n",
      "\"cannot open URL 'http://ichart.finance.yahoo.com/table.csv?s=WFMI&a=0&b=13&c=2005&d=1&e=21&f=2017&g=d&q=q&y=0&z=WFMI&x=.csv': HTTP status was '404 Not Found'\""
     ]
    },
    {
     "name": "stdout",
     "output_type": "stream",
     "text": [
      "<simpleError in download.file(paste(yahoo.URL, \"s=\", Symbols.name, \"&a=\", from.m,     \"&b=\", sprintf(\"%.2d\", from.d), \"&c=\", from.y, \"&d=\", to.m,     \"&e=\", sprintf(\"%.2d\", to.d), \"&f=\", to.y, \"&g=d&q=q&y=0\",     \"&z=\", Symbols.name, \"&x=.csv\", sep = \"\"), destfile = tmp,     quiet = !verbose): cannot open URL 'http://ichart.finance.yahoo.com/table.csv?s=WFMI&a=0&b=13&c=2005&d=1&e=21&f=2017&g=d&q=q&y=0&z=WFMI&x=.csv'>\n",
      "( 486 / 499 )  Downloading  WFMI \t\t Attempt:  4 / 5 \n"
     ]
    },
    {
     "name": "stderr",
     "output_type": "stream",
     "text": [
      "Warning message in download.file(paste(yahoo.URL, \"s=\", Symbols.name, \"&a=\", from.m, :\n",
      "\"cannot open URL 'http://ichart.finance.yahoo.com/table.csv?s=WFMI&a=0&b=13&c=2005&d=1&e=21&f=2017&g=d&q=q&y=0&z=WFMI&x=.csv': HTTP status was '404 Not Found'\""
     ]
    },
    {
     "name": "stdout",
     "output_type": "stream",
     "text": [
      "<simpleError in download.file(paste(yahoo.URL, \"s=\", Symbols.name, \"&a=\", from.m,     \"&b=\", sprintf(\"%.2d\", from.d), \"&c=\", from.y, \"&d=\", to.m,     \"&e=\", sprintf(\"%.2d\", to.d), \"&f=\", to.y, \"&g=d&q=q&y=0\",     \"&z=\", Symbols.name, \"&x=.csv\", sep = \"\"), destfile = tmp,     quiet = !verbose): cannot open URL 'http://ichart.finance.yahoo.com/table.csv?s=WFMI&a=0&b=13&c=2005&d=1&e=21&f=2017&g=d&q=q&y=0&z=WFMI&x=.csv'>\n",
      "( 486 / 499 )  Downloading  WFMI \t\t Attempt:  5 / 5 \n"
     ]
    },
    {
     "name": "stderr",
     "output_type": "stream",
     "text": [
      "Warning message in download.file(paste(yahoo.URL, \"s=\", Symbols.name, \"&a=\", from.m, :\n",
      "\"cannot open URL 'http://ichart.finance.yahoo.com/table.csv?s=WFMI&a=0&b=13&c=2005&d=1&e=21&f=2017&g=d&q=q&y=0&z=WFMI&x=.csv': HTTP status was '404 Not Found'\""
     ]
    },
    {
     "name": "stdout",
     "output_type": "stream",
     "text": [
      "<simpleError in download.file(paste(yahoo.URL, \"s=\", Symbols.name, \"&a=\", from.m,     \"&b=\", sprintf(\"%.2d\", from.d), \"&c=\", from.y, \"&d=\", to.m,     \"&e=\", sprintf(\"%.2d\", to.d), \"&f=\", to.y, \"&g=d&q=q&y=0\",     \"&z=\", Symbols.name, \"&x=.csv\", sep = \"\"), destfile = tmp,     quiet = !verbose): cannot open URL 'http://ichart.finance.yahoo.com/table.csv?s=WFMI&a=0&b=13&c=2005&d=1&e=21&f=2017&g=d&q=q&y=0&z=WFMI&x=.csv'>\n",
      "( 487 / 499 )  Downloading  WMB \t\t Attempt:  1 / 5 \n",
      "( 488 / 499 )  Downloading  WIN \t\t Attempt:  1 / 5 \n",
      "( 489 / 499 )  Downloading  WEC \t\t Attempt:  1 / 5 \n",
      "( 490 / 499 )  Downloading  WYN \t\t Attempt:  1 / 5 \n",
      "( 491 / 499 )  Downloading  WYNN \t\t Attempt:  1 / 5 \n",
      "( 492 / 499 )  Downloading  XEL \t\t Attempt:  1 / 5 \n",
      "( 493 / 499 )  Downloading  XRX \t\t Attempt:  1 / 5 \n",
      "( 494 / 499 )  Downloading  XLNX \t\t Attempt:  1 / 5 \n",
      "( 495 / 499 )  Downloading  XL \t\t Attempt:  1 / 5 \n",
      "( 496 / 499 )  Downloading  YHOO \t\t Attempt:  1 / 5 \n",
      "( 497 / 499 )  Downloading  YUM \t\t Attempt:  1 / 5 \n",
      "( 498 / 499 )  Downloading  ZMH \t\t Attempt:  1 / 5 \n"
     ]
    },
    {
     "name": "stderr",
     "output_type": "stream",
     "text": [
      "Warning message in download.file(paste(yahoo.URL, \"s=\", Symbols.name, \"&a=\", from.m, :\n",
      "\"cannot open URL 'http://ichart.finance.yahoo.com/table.csv?s=ZMH&a=0&b=13&c=2005&d=1&e=21&f=2017&g=d&q=q&y=0&z=ZMH&x=.csv': HTTP status was '404 Not Found'\""
     ]
    },
    {
     "name": "stdout",
     "output_type": "stream",
     "text": [
      "<simpleError in download.file(paste(yahoo.URL, \"s=\", Symbols.name, \"&a=\", from.m,     \"&b=\", sprintf(\"%.2d\", from.d), \"&c=\", from.y, \"&d=\", to.m,     \"&e=\", sprintf(\"%.2d\", to.d), \"&f=\", to.y, \"&g=d&q=q&y=0\",     \"&z=\", Symbols.name, \"&x=.csv\", sep = \"\"), destfile = tmp,     quiet = !verbose): cannot open URL 'http://ichart.finance.yahoo.com/table.csv?s=ZMH&a=0&b=13&c=2005&d=1&e=21&f=2017&g=d&q=q&y=0&z=ZMH&x=.csv'>\n",
      "( 498 / 499 )  Downloading  ZMH \t\t Attempt:  2 / 5 \n"
     ]
    },
    {
     "name": "stderr",
     "output_type": "stream",
     "text": [
      "Warning message in download.file(paste(yahoo.URL, \"s=\", Symbols.name, \"&a=\", from.m, :\n",
      "\"cannot open URL 'http://ichart.finance.yahoo.com/table.csv?s=ZMH&a=0&b=13&c=2005&d=1&e=21&f=2017&g=d&q=q&y=0&z=ZMH&x=.csv': HTTP status was '404 Not Found'\""
     ]
    },
    {
     "name": "stdout",
     "output_type": "stream",
     "text": [
      "<simpleError in download.file(paste(yahoo.URL, \"s=\", Symbols.name, \"&a=\", from.m,     \"&b=\", sprintf(\"%.2d\", from.d), \"&c=\", from.y, \"&d=\", to.m,     \"&e=\", sprintf(\"%.2d\", to.d), \"&f=\", to.y, \"&g=d&q=q&y=0\",     \"&z=\", Symbols.name, \"&x=.csv\", sep = \"\"), destfile = tmp,     quiet = !verbose): cannot open URL 'http://ichart.finance.yahoo.com/table.csv?s=ZMH&a=0&b=13&c=2005&d=1&e=21&f=2017&g=d&q=q&y=0&z=ZMH&x=.csv'>\n",
      "( 498 / 499 )  Downloading  ZMH \t\t Attempt:  3 / 5 \n"
     ]
    },
    {
     "name": "stderr",
     "output_type": "stream",
     "text": [
      "Warning message in download.file(paste(yahoo.URL, \"s=\", Symbols.name, \"&a=\", from.m, :\n",
      "\"cannot open URL 'http://ichart.finance.yahoo.com/table.csv?s=ZMH&a=0&b=13&c=2005&d=1&e=21&f=2017&g=d&q=q&y=0&z=ZMH&x=.csv': HTTP status was '404 Not Found'\""
     ]
    },
    {
     "name": "stdout",
     "output_type": "stream",
     "text": [
      "<simpleError in download.file(paste(yahoo.URL, \"s=\", Symbols.name, \"&a=\", from.m,     \"&b=\", sprintf(\"%.2d\", from.d), \"&c=\", from.y, \"&d=\", to.m,     \"&e=\", sprintf(\"%.2d\", to.d), \"&f=\", to.y, \"&g=d&q=q&y=0\",     \"&z=\", Symbols.name, \"&x=.csv\", sep = \"\"), destfile = tmp,     quiet = !verbose): cannot open URL 'http://ichart.finance.yahoo.com/table.csv?s=ZMH&a=0&b=13&c=2005&d=1&e=21&f=2017&g=d&q=q&y=0&z=ZMH&x=.csv'>\n",
      "( 498 / 499 )  Downloading  ZMH \t\t Attempt:  4 / 5 \n"
     ]
    },
    {
     "name": "stderr",
     "output_type": "stream",
     "text": [
      "Warning message in download.file(paste(yahoo.URL, \"s=\", Symbols.name, \"&a=\", from.m, :\n",
      "\"cannot open URL 'http://ichart.finance.yahoo.com/table.csv?s=ZMH&a=0&b=13&c=2005&d=1&e=21&f=2017&g=d&q=q&y=0&z=ZMH&x=.csv': HTTP status was '404 Not Found'\""
     ]
    },
    {
     "name": "stdout",
     "output_type": "stream",
     "text": [
      "<simpleError in download.file(paste(yahoo.URL, \"s=\", Symbols.name, \"&a=\", from.m,     \"&b=\", sprintf(\"%.2d\", from.d), \"&c=\", from.y, \"&d=\", to.m,     \"&e=\", sprintf(\"%.2d\", to.d), \"&f=\", to.y, \"&g=d&q=q&y=0\",     \"&z=\", Symbols.name, \"&x=.csv\", sep = \"\"), destfile = tmp,     quiet = !verbose): cannot open URL 'http://ichart.finance.yahoo.com/table.csv?s=ZMH&a=0&b=13&c=2005&d=1&e=21&f=2017&g=d&q=q&y=0&z=ZMH&x=.csv'>\n",
      "( 498 / 499 )  Downloading  ZMH \t\t Attempt:  5 / 5 \n"
     ]
    },
    {
     "name": "stderr",
     "output_type": "stream",
     "text": [
      "Warning message in download.file(paste(yahoo.URL, \"s=\", Symbols.name, \"&a=\", from.m, :\n",
      "\"cannot open URL 'http://ichart.finance.yahoo.com/table.csv?s=ZMH&a=0&b=13&c=2005&d=1&e=21&f=2017&g=d&q=q&y=0&z=ZMH&x=.csv': HTTP status was '404 Not Found'\""
     ]
    },
    {
     "name": "stdout",
     "output_type": "stream",
     "text": [
      "<simpleError in download.file(paste(yahoo.URL, \"s=\", Symbols.name, \"&a=\", from.m,     \"&b=\", sprintf(\"%.2d\", from.d), \"&c=\", from.y, \"&d=\", to.m,     \"&e=\", sprintf(\"%.2d\", to.d), \"&f=\", to.y, \"&g=d&q=q&y=0\",     \"&z=\", Symbols.name, \"&x=.csv\", sep = \"\"), destfile = tmp,     quiet = !verbose): cannot open URL 'http://ichart.finance.yahoo.com/table.csv?s=ZMH&a=0&b=13&c=2005&d=1&e=21&f=2017&g=d&q=q&y=0&z=ZMH&x=.csv'>\n",
      "( 499 / 499 )  Downloading  ZION \t\t Attempt:  1 / 5 \n",
      "Sucessfully saved the stock data to %s stockdata.RData"
     ]
    }
   ],
   "source": [
    "#Script Parameters\n",
    "tickerlist <- \"sp500.csv\"  #CSV containing tickers on rows\n",
    "savefilename <- \"stockdata.RData\" #The file to save the data in\n",
    "startDate = as.Date(\"2005-01-13\") #Specify what date to get the prices from\n",
    "maxretryattempts <- 5 #If there is an error downloading a price how many times to retry\n",
    " \n",
    "#Load the list of ticker symbols from a csv, each row contains a ticker\n",
    "stocksLst <- read.csv(\"sp500.csv\", header = F, stringsAsFactors = F)\n",
    "stockData <- new.env() #Make a new environment for quantmod to store data in\n",
    "nrstocks = length(stocksLst[,1]) #The number of stocks to download\n",
    " \n",
    "#Download all the stock data\n",
    "for (i in 1:nrstocks){\n",
    "    for(t in 1:maxretryattempts){\n",
    " \n",
    "       tryCatch(\n",
    "           {\n",
    "               #This is the statement to Try\n",
    "               #Check to see if the variables exists\n",
    "               #NEAT TRICK ON HOW TO TURN A STRING INTO A VARIABLE\n",
    "               #SEE  http://www.r-bloggers.com/converting-a-string-to-a-variable-name-on-the-fly-and-vice-versa-in-r/\n",
    "                if(!is.null(eval(parse(text=paste(\"stockData$\",stocksLst[i,1],sep=\"\"))))){\n",
    "                    #The variable exists so dont need to download data for this stock\n",
    "                    #So lets break out of the retry loop and process the next stock\n",
    "                    #cat(\"No need to retry\")\n",
    "                    break\n",
    "                }\n",
    " \n",
    "              #The stock wasnt previously downloaded so lets attempt to download it\n",
    "              cat(\"(\",i,\"/\",nrstocks,\") \",\"Downloading \", stocksLst[i,1] , \"\\t\\t Attempt: \", t , \"/\", maxretryattempts,\"\\n\")\n",
    "              getSymbols(stocksLst[i,1], env = stockData, src = \"yahoo\", from = startDate)\n",
    "           }\n",
    "        #Specify the catch function, and the finally function\n",
    "       , error = function(e) print(e))\n",
    "     }\n",
    "}\n",
    " \n",
    "#Lets save the stock data to a data file\n",
    "tryCatch(\n",
    "    {\n",
    "    save(stockData, file=savefilename)\n",
    "    cat(\"Sucessfully saved the stock data to %s\",savefilename)\n",
    "    }\n",
    "    , error = function(e) print(e))"
   ]
  }
 ],
 "metadata": {
  "anaconda-cloud": {},
  "kernelspec": {
   "display_name": "R 3.3",
   "language": "R",
   "name": "ir33"
  },
  "language_info": {
   "codemirror_mode": "r",
   "file_extension": ".r",
   "mimetype": "text/x-r-source",
   "name": "R",
   "pygments_lexer": "r",
   "version": "3.3.2"
  }
 },
 "nbformat": 4,
 "nbformat_minor": 1
}
